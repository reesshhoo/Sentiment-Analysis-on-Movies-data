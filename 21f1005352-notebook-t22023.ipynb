{
 "cells": [
  {
   "cell_type": "markdown",
   "id": "c3c35e44",
   "metadata": {
    "papermill": {
     "duration": 0.034901,
     "end_time": "2023-08-11T17:45:20.907428",
     "exception": false,
     "start_time": "2023-08-11T17:45:20.872527",
     "status": "completed"
    },
    "tags": []
   },
   "source": [
    "# Importing Libraries"
   ]
  },
  {
   "cell_type": "code",
   "execution_count": 1,
   "id": "d3d6f642",
   "metadata": {
    "execution": {
     "iopub.execute_input": "2023-08-11T17:45:20.977586Z",
     "iopub.status.busy": "2023-08-11T17:45:20.976921Z",
     "iopub.status.idle": "2023-08-11T17:45:23.564881Z",
     "shell.execute_reply": "2023-08-11T17:45:23.563426Z"
    },
    "papermill": {
     "duration": 2.627062,
     "end_time": "2023-08-11T17:45:23.568207",
     "exception": false,
     "start_time": "2023-08-11T17:45:20.941145",
     "status": "completed"
    },
    "tags": []
   },
   "outputs": [],
   "source": [
    "from sklearn.preprocessing import StandardScaler, OneHotEncoder, OrdinalEncoder, LabelEncoder, FunctionTransformer, MinMaxScaler, StandardScaler, MaxAbsScaler, MultiLabelBinarizer\n",
    "from sklearn.model_selection import train_test_split, GridSearchCV, RandomizedSearchCV\n",
    "from sklearn.feature_extraction.text import CountVectorizer, TfidfVectorizer\n",
    "from sklearn.linear_model import LogisticRegressionCV, LogisticRegression\n",
    "from sklearn.ensemble import RandomForestClassifier,BaggingClassifier\n",
    "from sklearn.feature_selection import SelectKBest, chi2\n",
    "from scipy.stats import loguniform, randint, uniform\n",
    "from sklearn.pipeline import Pipeline, make_pipeline\n",
    "from sklearn.neural_network import MLPClassifier\n",
    "from sklearn.compose import ColumnTransformer\n",
    "from sklearn.impute import SimpleImputer\n",
    "from sklearn.svm import LinearSVC\n",
    "import matplotlib.pyplot as plt\n",
    "import sklearn.metrics as skm\n",
    "import seaborn as sns\n",
    "import pandas as pd\n",
    "import numpy as np\n",
    "import re"
   ]
  },
  {
   "cell_type": "markdown",
   "id": "009f8218",
   "metadata": {
    "papermill": {
     "duration": 0.032853,
     "end_time": "2023-08-11T17:45:23.635114",
     "exception": false,
     "start_time": "2023-08-11T17:45:23.602261",
     "status": "completed"
    },
    "tags": []
   },
   "source": [
    "# Reading the Data"
   ]
  },
  {
   "cell_type": "code",
   "execution_count": 2,
   "id": "8e171ebd",
   "metadata": {
    "execution": {
     "iopub.execute_input": "2023-08-11T17:45:23.703418Z",
     "iopub.status.busy": "2023-08-11T17:45:23.703005Z",
     "iopub.status.idle": "2023-08-11T17:45:26.297840Z",
     "shell.execute_reply": "2023-08-11T17:45:26.296394Z"
    },
    "papermill": {
     "duration": 2.631952,
     "end_time": "2023-08-11T17:45:26.300827",
     "exception": false,
     "start_time": "2023-08-11T17:45:23.668875",
     "status": "completed"
    },
    "tags": []
   },
   "outputs": [],
   "source": [
    "train = pd.read_csv('/kaggle/input/sentiment-prediction-on-movie-reviews/train.csv')\n",
    "test = pd.read_csv('/kaggle/input/sentiment-prediction-on-movie-reviews/test.csv')\n",
    "movies = pd.read_csv('/kaggle/input/sentiment-prediction-on-movie-reviews/movies.csv')"
   ]
  },
  {
   "cell_type": "markdown",
   "id": "db544c2e",
   "metadata": {
    "papermill": {
     "duration": 0.032691,
     "end_time": "2023-08-11T17:45:26.367985",
     "exception": false,
     "start_time": "2023-08-11T17:45:26.335294",
     "status": "completed"
    },
    "tags": []
   },
   "source": [
    "# Exploring the Data"
   ]
  },
  {
   "cell_type": "markdown",
   "id": "4ceffda5",
   "metadata": {
    "papermill": {
     "duration": 0.032044,
     "end_time": "2023-08-11T17:45:26.433818",
     "exception": false,
     "start_time": "2023-08-11T17:45:26.401774",
     "status": "completed"
    },
    "tags": []
   },
   "source": [
    "## Train data"
   ]
  },
  {
   "cell_type": "markdown",
   "id": "23f68593",
   "metadata": {
    "papermill": {
     "duration": 0.03232,
     "end_time": "2023-08-11T17:45:26.500455",
     "exception": false,
     "start_time": "2023-08-11T17:45:26.468135",
     "status": "completed"
    },
    "tags": []
   },
   "source": [
    "#### Let's start by exploring the train dataset. We'll start by checking the features and it's type in teh train dataset."
   ]
  },
  {
   "cell_type": "code",
   "execution_count": 3,
   "id": "ced18fbf",
   "metadata": {
    "execution": {
     "iopub.execute_input": "2023-08-11T17:45:26.570884Z",
     "iopub.status.busy": "2023-08-11T17:45:26.570397Z",
     "iopub.status.idle": "2023-08-11T17:45:26.577141Z",
     "shell.execute_reply": "2023-08-11T17:45:26.575972Z"
    },
    "papermill": {
     "duration": 0.04665,
     "end_time": "2023-08-11T17:45:26.580749",
     "exception": false,
     "start_time": "2023-08-11T17:45:26.534099",
     "status": "completed"
    },
    "tags": []
   },
   "outputs": [
    {
     "name": "stdout",
     "output_type": "stream",
     "text": [
      "The columns in the train dataset are ['movieid', 'reviewerName', 'isFrequentReviewer', 'reviewText', 'sentiment']\n",
      "The shape of the test dataset is (162758, 5)\n"
     ]
    }
   ],
   "source": [
    "print(\"The columns in the train dataset are\",train.columns.tolist())\n",
    "print(\"The shape of the test dataset is\",train.shape)"
   ]
  },
  {
   "cell_type": "code",
   "execution_count": 4,
   "id": "9cd3b6b1",
   "metadata": {
    "execution": {
     "iopub.execute_input": "2023-08-11T17:45:26.653103Z",
     "iopub.status.busy": "2023-08-11T17:45:26.651921Z",
     "iopub.status.idle": "2023-08-11T17:45:26.897801Z",
     "shell.execute_reply": "2023-08-11T17:45:26.896025Z"
    },
    "papermill": {
     "duration": 0.285776,
     "end_time": "2023-08-11T17:45:26.900640",
     "exception": false,
     "start_time": "2023-08-11T17:45:26.614864",
     "status": "completed"
    },
    "tags": []
   },
   "outputs": [
    {
     "name": "stdout",
     "output_type": "stream",
     "text": [
      "<class 'pandas.core.frame.DataFrame'>\n",
      "RangeIndex: 162758 entries, 0 to 162757\n",
      "Data columns (total 5 columns):\n",
      " #   Column              Non-Null Count   Dtype \n",
      "---  ------              --------------   ----- \n",
      " 0   movieid             162758 non-null  object\n",
      " 1   reviewerName        162758 non-null  object\n",
      " 2   isFrequentReviewer  162758 non-null  bool  \n",
      " 3   reviewText          156311 non-null  object\n",
      " 4   sentiment           162758 non-null  object\n",
      "dtypes: bool(1), object(4)\n",
      "memory usage: 5.1+ MB\n"
     ]
    }
   ],
   "source": [
    "train.info()"
   ]
  },
  {
   "cell_type": "markdown",
   "id": "3cdfae0e",
   "metadata": {
    "papermill": {
     "duration": 0.032723,
     "end_time": "2023-08-11T17:45:26.967117",
     "exception": false,
     "start_time": "2023-08-11T17:45:26.934394",
     "status": "completed"
    },
    "tags": []
   },
   "source": [
    "#### It is visible that there are no many numerical features in the train dataset. Therefore, we have to apply some type of encoding on the features we will use to train our model."
   ]
  },
  {
   "cell_type": "markdown",
   "id": "4f6d6710",
   "metadata": {
    "papermill": {
     "duration": 0.033745,
     "end_time": "2023-08-11T17:45:27.034833",
     "exception": false,
     "start_time": "2023-08-11T17:45:27.001088",
     "status": "completed"
    },
    "tags": []
   },
   "source": [
    "#### Now let's check for the missing values in the train data."
   ]
  },
  {
   "cell_type": "code",
   "execution_count": 5,
   "id": "97db6949",
   "metadata": {
    "execution": {
     "iopub.execute_input": "2023-08-11T17:45:27.103985Z",
     "iopub.status.busy": "2023-08-11T17:45:27.102480Z",
     "iopub.status.idle": "2023-08-11T17:45:27.338846Z",
     "shell.execute_reply": "2023-08-11T17:45:27.337415Z"
    },
    "papermill": {
     "duration": 0.273566,
     "end_time": "2023-08-11T17:45:27.341633",
     "exception": false,
     "start_time": "2023-08-11T17:45:27.068067",
     "status": "completed"
    },
    "tags": []
   },
   "outputs": [
    {
     "data": {
      "text/plain": [
       "movieid               0.000000\n",
       "reviewerName          0.000000\n",
       "isFrequentReviewer    0.000000\n",
       "reviewText            0.039611\n",
       "sentiment             0.000000\n",
       "dtype: float64"
      ]
     },
     "execution_count": 5,
     "metadata": {},
     "output_type": "execute_result"
    }
   ],
   "source": [
    "train.isna().mean()"
   ]
  },
  {
   "cell_type": "markdown",
   "id": "636251b1",
   "metadata": {
    "papermill": {
     "duration": 0.033315,
     "end_time": "2023-08-11T17:45:27.408104",
     "exception": false,
     "start_time": "2023-08-11T17:45:27.374789",
     "status": "completed"
    },
    "tags": []
   },
   "source": [
    "#### Here, we see that the train dataset has very few missing values.\n",
    "#### The only column with missing values here is 'reviewText' and even that is below the threshold of 0.05%. As a rule of thumb, it is an accepted practice to drop columns with missing values if they constitute less than 0.05% of the data.\n",
    "#### However, we will instead be impputing the null values in this column with empty string instead because we do not have the option of dropping the null values from the test data."
   ]
  },
  {
   "cell_type": "markdown",
   "id": "48f6eaef",
   "metadata": {
    "papermill": {
     "duration": 0.032921,
     "end_time": "2023-08-11T17:45:27.474880",
     "exception": false,
     "start_time": "2023-08-11T17:45:27.441959",
     "status": "completed"
    },
    "tags": []
   },
   "source": [
    "#### Now let's try to plot some graphs with the features."
   ]
  },
  {
   "cell_type": "code",
   "execution_count": 6,
   "id": "feadb4a0",
   "metadata": {
    "execution": {
     "iopub.execute_input": "2023-08-11T17:45:27.542947Z",
     "iopub.status.busy": "2023-08-11T17:45:27.542451Z",
     "iopub.status.idle": "2023-08-11T17:45:27.919851Z",
     "shell.execute_reply": "2023-08-11T17:45:27.918650Z"
    },
    "papermill": {
     "duration": 0.41446,
     "end_time": "2023-08-11T17:45:27.922569",
     "exception": false,
     "start_time": "2023-08-11T17:45:27.508109",
     "status": "completed"
    },
    "tags": []
   },
   "outputs": [
    {
     "data": {
      "text/plain": [
       "Text(0.5, 1.0, 'Count of Frequent Reviewers')"
      ]
     },
     "execution_count": 6,
     "metadata": {},
     "output_type": "execute_result"
    },
    {
     "data": {
      "image/png": "[encoded data removed]",
      "text/plain": [
       "<Figure size 640x480 with 1 Axes>"
      ]
     },
     "metadata": {},
     "output_type": "display_data"
    }
   ],
   "source": [
    "sns.set(style=\"darkgrid\")\n",
    "\n",
    "sns.countplot(x='isFrequentReviewer', data=train)\n",
    "plt.xlabel('isFrequentReviewer')\n",
    "plt.ylabel('Count')\n",
    "plt.title('Count of Frequent Reviewers')"
   ]
  },
  {
   "cell_type": "markdown",
   "id": "c0866675",
   "metadata": {
    "papermill": {
     "duration": 0.033405,
     "end_time": "2023-08-11T17:45:27.989165",
     "exception": false,
     "start_time": "2023-08-11T17:45:27.955760",
     "status": "completed"
    },
    "tags": []
   },
   "source": [
    "#### We can derive from this countplot that the number of reviewers who are not frequent outweigh the number of frequent reviewers by a good margin."
   ]
  },
  {
   "cell_type": "code",
   "execution_count": 7,
   "id": "3d6324f1",
   "metadata": {
    "execution": {
     "iopub.execute_input": "2023-08-11T17:45:28.059720Z",
     "iopub.status.busy": "2023-08-11T17:45:28.059063Z",
     "iopub.status.idle": "2023-08-11T17:45:28.587855Z",
     "shell.execute_reply": "2023-08-11T17:45:28.586441Z"
    },
    "papermill": {
     "duration": 0.566982,
     "end_time": "2023-08-11T17:45:28.590673",
     "exception": false,
     "start_time": "2023-08-11T17:45:28.023691",
     "status": "completed"
    },
    "tags": []
   },
   "outputs": [
    {
     "data": {
      "text/plain": [
       "Text(0.5, 1.0, 'Sentiment on movies')"
      ]
     },
     "execution_count": 7,
     "metadata": {},
     "output_type": "execute_result"
    },
    {
     "data": {
      "image/png": "[encoded data removed]",
      "text/plain": [
       "<Figure size 640x480 with 1 Axes>"
      ]
     },
     "metadata": {},
     "output_type": "display_data"
    }
   ],
   "source": [
    "sns.set(style=\"darkgrid\")\n",
    "\n",
    "sns.countplot(x='sentiment', data=train)\n",
    "plt.xlabel('Sentiment')\n",
    "plt.ylabel('Count')\n",
    "plt.title('Sentiment on movies')"
   ]
  },
  {
   "cell_type": "markdown",
   "id": "770746c5",
   "metadata": {
    "papermill": {
     "duration": 0.035947,
     "end_time": "2023-08-11T17:45:28.661823",
     "exception": false,
     "start_time": "2023-08-11T17:45:28.625876",
     "status": "completed"
    },
    "tags": []
   },
   "source": [
    "#### It is visible that there are more Positive reviews on the movies as opposed to the negative review. This plot resembles the plot that we visualized earlier using the 'isFrequentReviewer' column. It can be a possible hypothesis that the non-frequent reviewers are more likely to give a positive review to a movie as opposed to frequent reviewers. However, we are yet to properly explore and analyze the data so this is not something we should let cloud any future insights that may be drawn from the data."
   ]
  },
  {
   "cell_type": "markdown",
   "id": "cf48d927",
   "metadata": {
    "papermill": {
     "duration": 0.035497,
     "end_time": "2023-08-11T17:45:28.731783",
     "exception": false,
     "start_time": "2023-08-11T17:45:28.696286",
     "status": "completed"
    },
    "tags": []
   },
   "source": [
    "#### Let's try to visualize the top 50 words in 'reviewText' column."
   ]
  },
  {
   "cell_type": "code",
   "execution_count": 8,
   "id": "0883479e",
   "metadata": {
    "execution": {
     "iopub.execute_input": "2023-08-11T17:45:28.807450Z",
     "iopub.status.busy": "2023-08-11T17:45:28.807007Z",
     "iopub.status.idle": "2023-08-11T17:46:15.389799Z",
     "shell.execute_reply": "2023-08-11T17:46:15.388484Z"
    },
    "papermill": {
     "duration": 46.625688,
     "end_time": "2023-08-11T17:46:15.393086",
     "exception": false,
     "start_time": "2023-08-11T17:45:28.767398",
     "status": "completed"
    },
    "tags": []
   },
   "outputs": [],
   "source": [
    "corpus = train['reviewText'].astype(str).fillna('')\n",
    "vectorizer = CountVectorizer()\n",
    "X = vectorizer.fit_transform(corpus)\n",
    "counts = np.sum(X.toarray(), axis=0)\n",
    "\n",
    "words = vectorizer.get_feature_names_out()\n",
    "\n",
    "count_dict = {}\n",
    "for i in range(len(counts)):\n",
    "    count_dict[words[i]] = counts[i]\n",
    "\n",
    "count_dict = {k:v for k, v in sorted(count_dict.items(), key=lambda item: item[1], reverse=True)}\n"
   ]
  },
  {
   "cell_type": "code",
   "execution_count": 9,
   "id": "7e6e95ce",
   "metadata": {
    "execution": {
     "iopub.execute_input": "2023-08-11T17:46:15.466619Z",
     "iopub.status.busy": "2023-08-11T17:46:15.466162Z",
     "iopub.status.idle": "2023-08-11T17:46:16.507528Z",
     "shell.execute_reply": "2023-08-11T17:46:16.506195Z"
    },
    "papermill": {
     "duration": 1.081443,
     "end_time": "2023-08-11T17:46:16.510451",
     "exception": false,
     "start_time": "2023-08-11T17:46:15.429008",
     "status": "completed"
    },
    "tags": []
   },
   "outputs": [
    {
     "data": {
      "image/png": "[encoded data removed]",
      "text/plain": [
       "<Figure size 2000x800 with 1 Axes>"
      ]
     },
     "metadata": {},
     "output_type": "display_data"
    }
   ],
   "source": [
    "plt.figure(figsize=(20,8))\n",
    "sns.barplot(x=list(count_dict.keys())[:50],y=list(count_dict.values())[:50])\n",
    "plt.show()"
   ]
  },
  {
   "cell_type": "markdown",
   "id": "6d06dc03",
   "metadata": {
    "papermill": {
     "duration": 0.037164,
     "end_time": "2023-08-11T17:46:16.586626",
     "exception": false,
     "start_time": "2023-08-11T17:46:16.549462",
     "status": "completed"
    },
    "tags": []
   },
   "source": [
    "#### From the above plot, it is very evident that there are a lot of stop words like 'the', 'it','its','in','and' etc. We will try to remove as many of these stopwords as possible in the 'reviewText' column as they provide no meaningful information and we can reduce the number of unncessary features by doint this as well."
   ]
  },
  {
   "cell_type": "markdown",
   "id": "415f9237",
   "metadata": {
    "papermill": {
     "duration": 0.036425,
     "end_time": "2023-08-11T17:46:16.659490",
     "exception": false,
     "start_time": "2023-08-11T17:46:16.623065",
     "status": "completed"
    },
    "tags": []
   },
   "source": [
    "#### We shall now move on to explore the movies dataset."
   ]
  },
  {
   "cell_type": "markdown",
   "id": "7790da11",
   "metadata": {
    "papermill": {
     "duration": 0.036958,
     "end_time": "2023-08-11T17:46:16.734161",
     "exception": false,
     "start_time": "2023-08-11T17:46:16.697203",
     "status": "completed"
    },
    "tags": []
   },
   "source": [
    "## Movies "
   ]
  },
  {
   "cell_type": "markdown",
   "id": "d9fd8212",
   "metadata": {
    "papermill": {
     "duration": 0.03593,
     "end_time": "2023-08-11T17:46:16.806459",
     "exception": false,
     "start_time": "2023-08-11T17:46:16.770529",
     "status": "completed"
    },
    "tags": []
   },
   "source": [
    "#### First, Let's see what are the feature in the movies dataset and what type of features are they. "
   ]
  },
  {
   "cell_type": "code",
   "execution_count": 10,
   "id": "2a5e29c4",
   "metadata": {
    "execution": {
     "iopub.execute_input": "2023-08-11T17:46:16.881733Z",
     "iopub.status.busy": "2023-08-11T17:46:16.881272Z",
     "iopub.status.idle": "2023-08-11T17:46:16.886831Z",
     "shell.execute_reply": "2023-08-11T17:46:16.886042Z"
    },
    "papermill": {
     "duration": 0.045579,
     "end_time": "2023-08-11T17:46:16.889572",
     "exception": false,
     "start_time": "2023-08-11T17:46:16.843993",
     "status": "completed"
    },
    "tags": []
   },
   "outputs": [
    {
     "name": "stdout",
     "output_type": "stream",
     "text": [
      "The columns in the movies dataset are ['movieid', 'title', 'audienceScore', 'rating', 'ratingContents', 'releaseDateTheaters', 'releaseDateStreaming', 'runtimeMinutes', 'genre', 'originalLanguage', 'director', 'boxOffice', 'distributor', 'soundType']\n",
      "The shape of the movies dataset is (143258, 14)\n"
     ]
    }
   ],
   "source": [
    "print(\"The columns in the movies dataset are\",movies.columns.tolist())\n",
    "print(\"The shape of the movies dataset is\",movies.shape)"
   ]
  },
  {
   "cell_type": "code",
   "execution_count": 11,
   "id": "56f4765e",
   "metadata": {
    "execution": {
     "iopub.execute_input": "2023-08-11T17:46:16.961935Z",
     "iopub.status.busy": "2023-08-11T17:46:16.961525Z",
     "iopub.status.idle": "2023-08-11T17:46:17.472267Z",
     "shell.execute_reply": "2023-08-11T17:46:17.470702Z"
    },
    "papermill": {
     "duration": 0.550213,
     "end_time": "2023-08-11T17:46:17.475028",
     "exception": false,
     "start_time": "2023-08-11T17:46:16.924815",
     "status": "completed"
    },
    "tags": []
   },
   "outputs": [
    {
     "name": "stdout",
     "output_type": "stream",
     "text": [
      "<class 'pandas.core.frame.DataFrame'>\n",
      "RangeIndex: 143258 entries, 0 to 143257\n",
      "Data columns (total 14 columns):\n",
      " #   Column                Non-Null Count   Dtype  \n",
      "---  ------                --------------   -----  \n",
      " 0   movieid               143258 non-null  object \n",
      " 1   title                 143258 non-null  object \n",
      " 2   audienceScore         73248 non-null   float64\n",
      " 3   rating                13991 non-null   object \n",
      " 4   ratingContents        13991 non-null   object \n",
      " 5   releaseDateTheaters   30773 non-null   object \n",
      " 6   releaseDateStreaming  79420 non-null   object \n",
      " 7   runtimeMinutes        129431 non-null  float64\n",
      " 8   genre                 132175 non-null  object \n",
      " 9   originalLanguage      129400 non-null  object \n",
      " 10  director              143258 non-null  object \n",
      " 11  boxOffice             14743 non-null   object \n",
      " 12  distributor           23005 non-null   object \n",
      " 13  soundType             15917 non-null   object \n",
      "dtypes: float64(2), object(12)\n",
      "memory usage: 15.3+ MB\n"
     ]
    }
   ],
   "source": [
    "movies.info()"
   ]
  },
  {
   "cell_type": "code",
   "execution_count": 12,
   "id": "1ac74e23",
   "metadata": {
    "execution": {
     "iopub.execute_input": "2023-08-11T17:46:17.552926Z",
     "iopub.status.busy": "2023-08-11T17:46:17.552504Z",
     "iopub.status.idle": "2023-08-11T17:46:18.048532Z",
     "shell.execute_reply": "2023-08-11T17:46:18.047149Z"
    },
    "papermill": {
     "duration": 0.539096,
     "end_time": "2023-08-11T17:46:18.051458",
     "exception": false,
     "start_time": "2023-08-11T17:46:17.512362",
     "status": "completed"
    },
    "tags": []
   },
   "outputs": [
    {
     "data": {
      "text/plain": [
       "movieid                 0.000000\n",
       "title                   0.000000\n",
       "audienceScore           0.488699\n",
       "rating                  0.902337\n",
       "ratingContents          0.902337\n",
       "releaseDateTheaters     0.785192\n",
       "releaseDateStreaming    0.445616\n",
       "runtimeMinutes          0.096518\n",
       "genre                   0.077364\n",
       "originalLanguage        0.096735\n",
       "director                0.000000\n",
       "boxOffice               0.897088\n",
       "distributor             0.839416\n",
       "soundType               0.888893\n",
       "dtype: float64"
      ]
     },
     "execution_count": 12,
     "metadata": {},
     "output_type": "execute_result"
    }
   ],
   "source": [
    "movies.isna().mean()"
   ]
  },
  {
   "cell_type": "markdown",
   "id": "a4b14359",
   "metadata": {
    "papermill": {
     "duration": 0.035441,
     "end_time": "2023-08-11T17:46:18.123082",
     "exception": false,
     "start_time": "2023-08-11T17:46:18.087641",
     "status": "completed"
    },
    "tags": []
   },
   "source": [
    "#### There are a lot of features in the movies dataset. However, we can see from the information being displayed above that there are also a lot of missing values in these columns. Some of them can be promptly dealt with using Imputation techniques but there are also columns such as 'rating', 'ratingContents' etc. where the no. of missing values exceed more than 90% of the dataset. Such columns shall not be considered as training features for the model as the data that is available might not be a representative sample of the overall population. This can lead to biased or skewed distributions and impact the performance of our model."
   ]
  },
  {
   "cell_type": "code",
   "execution_count": 13,
   "id": "8a73e744",
   "metadata": {
    "execution": {
     "iopub.execute_input": "2023-08-11T17:46:18.198107Z",
     "iopub.status.busy": "2023-08-11T17:46:18.197698Z",
     "iopub.status.idle": "2023-08-11T17:46:18.597143Z",
     "shell.execute_reply": "2023-08-11T17:46:18.595657Z"
    },
    "papermill": {
     "duration": 0.440013,
     "end_time": "2023-08-11T17:46:18.600064",
     "exception": false,
     "start_time": "2023-08-11T17:46:18.160051",
     "status": "completed"
    },
    "tags": []
   },
   "outputs": [
    {
     "data": {
      "text/html": [
       "<div>\n",
       "<style scoped>\n",
       "    .dataframe tbody tr th:only-of-type {\n",
       "        vertical-align: middle;\n",
       "    }\n",
       "\n",
       "    .dataframe tbody tr th {\n",
       "        vertical-align: top;\n",
       "    }\n",
       "\n",
       "    .dataframe thead th {\n",
       "        text-align: right;\n",
       "    }\n",
       "</style>\n",
       "<table border=\"1\" class=\"dataframe\">\n",
       "  <thead>\n",
       "    <tr style=\"text-align: right;\">\n",
       "      <th></th>\n",
       "      <th>movieid</th>\n",
       "      <th>title</th>\n",
       "      <th>audienceScore</th>\n",
       "      <th>rating</th>\n",
       "      <th>ratingContents</th>\n",
       "      <th>releaseDateTheaters</th>\n",
       "      <th>releaseDateStreaming</th>\n",
       "      <th>runtimeMinutes</th>\n",
       "      <th>genre</th>\n",
       "      <th>originalLanguage</th>\n",
       "      <th>director</th>\n",
       "      <th>boxOffice</th>\n",
       "      <th>distributor</th>\n",
       "      <th>soundType</th>\n",
       "    </tr>\n",
       "  </thead>\n",
       "  <tbody>\n",
       "    <tr>\n",
       "      <th>1126</th>\n",
       "      <td>escape_the_terminator_tyler_durden_astonish</td>\n",
       "      <td>Escape The Terminator Tyler Durden Astonish</td>\n",
       "      <td>NaN</td>\n",
       "      <td>NaN</td>\n",
       "      <td>NaN</td>\n",
       "      <td>NaN</td>\n",
       "      <td>NaN</td>\n",
       "      <td>NaN</td>\n",
       "      <td>NaN</td>\n",
       "      <td>NaN</td>\n",
       "      <td>Joseph Brooks</td>\n",
       "      <td>NaN</td>\n",
       "      <td>NaN</td>\n",
       "      <td>NaN</td>\n",
       "    </tr>\n",
       "    <tr>\n",
       "      <th>3772</th>\n",
       "      <td>supreme_indiana_jones</td>\n",
       "      <td>Supreme Indiana Jones</td>\n",
       "      <td>NaN</td>\n",
       "      <td>NaN</td>\n",
       "      <td>NaN</td>\n",
       "      <td>NaN</td>\n",
       "      <td>NaN</td>\n",
       "      <td>NaN</td>\n",
       "      <td>NaN</td>\n",
       "      <td>NaN</td>\n",
       "      <td>Augusta Daniel</td>\n",
       "      <td>NaN</td>\n",
       "      <td>NaN</td>\n",
       "      <td>NaN</td>\n",
       "    </tr>\n",
       "    <tr>\n",
       "      <th>5048</th>\n",
       "      <td>escape_the_terminator_tyler_durden_astonish</td>\n",
       "      <td>Escape The Terminator Tyler Durden Astonish</td>\n",
       "      <td>NaN</td>\n",
       "      <td>NaN</td>\n",
       "      <td>NaN</td>\n",
       "      <td>NaN</td>\n",
       "      <td>NaN</td>\n",
       "      <td>NaN</td>\n",
       "      <td>NaN</td>\n",
       "      <td>NaN</td>\n",
       "      <td>Joseph Brooks</td>\n",
       "      <td>NaN</td>\n",
       "      <td>NaN</td>\n",
       "      <td>NaN</td>\n",
       "    </tr>\n",
       "    <tr>\n",
       "      <th>7364</th>\n",
       "      <td>escape_the_terminator_tyler_durden_astonish</td>\n",
       "      <td>Escape The Terminator Tyler Durden Astonish</td>\n",
       "      <td>NaN</td>\n",
       "      <td>NaN</td>\n",
       "      <td>NaN</td>\n",
       "      <td>NaN</td>\n",
       "      <td>NaN</td>\n",
       "      <td>NaN</td>\n",
       "      <td>NaN</td>\n",
       "      <td>NaN</td>\n",
       "      <td>Joseph Brooks</td>\n",
       "      <td>NaN</td>\n",
       "      <td>NaN</td>\n",
       "      <td>NaN</td>\n",
       "    </tr>\n",
       "    <tr>\n",
       "      <th>8012</th>\n",
       "      <td>holly_golightly_enthralling</td>\n",
       "      <td>Holly Golightly Enthralling</td>\n",
       "      <td>NaN</td>\n",
       "      <td>NaN</td>\n",
       "      <td>NaN</td>\n",
       "      <td>NaN</td>\n",
       "      <td>NaN</td>\n",
       "      <td>NaN</td>\n",
       "      <td>NaN</td>\n",
       "      <td>NaN</td>\n",
       "      <td>Augusta Daniel</td>\n",
       "      <td>NaN</td>\n",
       "      <td>NaN</td>\n",
       "      <td>NaN</td>\n",
       "    </tr>\n",
       "    <tr>\n",
       "      <th>...</th>\n",
       "      <td>...</td>\n",
       "      <td>...</td>\n",
       "      <td>...</td>\n",
       "      <td>...</td>\n",
       "      <td>...</td>\n",
       "      <td>...</td>\n",
       "      <td>...</td>\n",
       "      <td>...</td>\n",
       "      <td>...</td>\n",
       "      <td>...</td>\n",
       "      <td>...</td>\n",
       "      <td>...</td>\n",
       "      <td>...</td>\n",
       "      <td>...</td>\n",
       "    </tr>\n",
       "    <tr>\n",
       "      <th>140598</th>\n",
       "      <td>cosmic_jack_torrance_ellis_redding_indiana_jones</td>\n",
       "      <td>Cosmic Jack Torrance Ellis Redding Indiana Jones</td>\n",
       "      <td>NaN</td>\n",
       "      <td>NaN</td>\n",
       "      <td>NaN</td>\n",
       "      <td>NaN</td>\n",
       "      <td>NaN</td>\n",
       "      <td>NaN</td>\n",
       "      <td>NaN</td>\n",
       "      <td>NaN</td>\n",
       "      <td>Augusta Daniel</td>\n",
       "      <td>NaN</td>\n",
       "      <td>NaN</td>\n",
       "      <td>NaN</td>\n",
       "    </tr>\n",
       "    <tr>\n",
       "      <th>140654</th>\n",
       "      <td>the_bride_hannibal_lecter_enigma_black_widow</td>\n",
       "      <td>The Bride Hannibal Lecter Enigma Black Widow</td>\n",
       "      <td>NaN</td>\n",
       "      <td>NaN</td>\n",
       "      <td>NaN</td>\n",
       "      <td>NaN</td>\n",
       "      <td>NaN</td>\n",
       "      <td>89.0</td>\n",
       "      <td>Drama</td>\n",
       "      <td>English</td>\n",
       "      <td>Raul Glover</td>\n",
       "      <td>NaN</td>\n",
       "      <td>NaN</td>\n",
       "      <td>NaN</td>\n",
       "    </tr>\n",
       "    <tr>\n",
       "      <th>141470</th>\n",
       "      <td>wolverine_tony_montana_wolverine</td>\n",
       "      <td>Wolverine Tony Montana Wolverine</td>\n",
       "      <td>NaN</td>\n",
       "      <td>NaN</td>\n",
       "      <td>NaN</td>\n",
       "      <td>NaN</td>\n",
       "      <td>NaN</td>\n",
       "      <td>NaN</td>\n",
       "      <td>NaN</td>\n",
       "      <td>NaN</td>\n",
       "      <td>Augusta Daniel</td>\n",
       "      <td>NaN</td>\n",
       "      <td>NaN</td>\n",
       "      <td>NaN</td>\n",
       "    </tr>\n",
       "    <tr>\n",
       "      <th>142468</th>\n",
       "      <td>escape_the_terminator_tyler_durden_astonish</td>\n",
       "      <td>Escape The Terminator Tyler Durden Astonish</td>\n",
       "      <td>NaN</td>\n",
       "      <td>NaN</td>\n",
       "      <td>NaN</td>\n",
       "      <td>NaN</td>\n",
       "      <td>NaN</td>\n",
       "      <td>NaN</td>\n",
       "      <td>NaN</td>\n",
       "      <td>NaN</td>\n",
       "      <td>Joseph Brooks</td>\n",
       "      <td>NaN</td>\n",
       "      <td>NaN</td>\n",
       "      <td>NaN</td>\n",
       "    </tr>\n",
       "    <tr>\n",
       "      <th>143139</th>\n",
       "      <td>quest_rick_blaine_wonder_jason_bourne</td>\n",
       "      <td>Quest Rick Blaine Wonder Jason Bourne</td>\n",
       "      <td>NaN</td>\n",
       "      <td>NaN</td>\n",
       "      <td>NaN</td>\n",
       "      <td>NaN</td>\n",
       "      <td>NaN</td>\n",
       "      <td>NaN</td>\n",
       "      <td>NaN</td>\n",
       "      <td>NaN</td>\n",
       "      <td>Augusta Daniel</td>\n",
       "      <td>NaN</td>\n",
       "      <td>NaN</td>\n",
       "      <td>NaN</td>\n",
       "    </tr>\n",
       "  </tbody>\n",
       "</table>\n",
       "<p>1571 rows × 14 columns</p>\n",
       "</div>"
      ],
      "text/plain": [
       "                                                 movieid  \\\n",
       "1126         escape_the_terminator_tyler_durden_astonish   \n",
       "3772                               supreme_indiana_jones   \n",
       "5048         escape_the_terminator_tyler_durden_astonish   \n",
       "7364         escape_the_terminator_tyler_durden_astonish   \n",
       "8012                         holly_golightly_enthralling   \n",
       "...                                                  ...   \n",
       "140598  cosmic_jack_torrance_ellis_redding_indiana_jones   \n",
       "140654      the_bride_hannibal_lecter_enigma_black_widow   \n",
       "141470                  wolverine_tony_montana_wolverine   \n",
       "142468       escape_the_terminator_tyler_durden_astonish   \n",
       "143139             quest_rick_blaine_wonder_jason_bourne   \n",
       "\n",
       "                                                   title  audienceScore  \\\n",
       "1126         Escape The Terminator Tyler Durden Astonish            NaN   \n",
       "3772                               Supreme Indiana Jones            NaN   \n",
       "5048         Escape The Terminator Tyler Durden Astonish            NaN   \n",
       "7364         Escape The Terminator Tyler Durden Astonish            NaN   \n",
       "8012                         Holly Golightly Enthralling            NaN   \n",
       "...                                                  ...            ...   \n",
       "140598  Cosmic Jack Torrance Ellis Redding Indiana Jones            NaN   \n",
       "140654      The Bride Hannibal Lecter Enigma Black Widow            NaN   \n",
       "141470                  Wolverine Tony Montana Wolverine            NaN   \n",
       "142468       Escape The Terminator Tyler Durden Astonish            NaN   \n",
       "143139             Quest Rick Blaine Wonder Jason Bourne            NaN   \n",
       "\n",
       "       rating ratingContents releaseDateTheaters releaseDateStreaming  \\\n",
       "1126      NaN            NaN                 NaN                  NaN   \n",
       "3772      NaN            NaN                 NaN                  NaN   \n",
       "5048      NaN            NaN                 NaN                  NaN   \n",
       "7364      NaN            NaN                 NaN                  NaN   \n",
       "8012      NaN            NaN                 NaN                  NaN   \n",
       "...       ...            ...                 ...                  ...   \n",
       "140598    NaN            NaN                 NaN                  NaN   \n",
       "140654    NaN            NaN                 NaN                  NaN   \n",
       "141470    NaN            NaN                 NaN                  NaN   \n",
       "142468    NaN            NaN                 NaN                  NaN   \n",
       "143139    NaN            NaN                 NaN                  NaN   \n",
       "\n",
       "        runtimeMinutes  genre originalLanguage        director boxOffice  \\\n",
       "1126               NaN    NaN              NaN   Joseph Brooks       NaN   \n",
       "3772               NaN    NaN              NaN  Augusta Daniel       NaN   \n",
       "5048               NaN    NaN              NaN   Joseph Brooks       NaN   \n",
       "7364               NaN    NaN              NaN   Joseph Brooks       NaN   \n",
       "8012               NaN    NaN              NaN  Augusta Daniel       NaN   \n",
       "...                ...    ...              ...             ...       ...   \n",
       "140598             NaN    NaN              NaN  Augusta Daniel       NaN   \n",
       "140654            89.0  Drama          English     Raul Glover       NaN   \n",
       "141470             NaN    NaN              NaN  Augusta Daniel       NaN   \n",
       "142468             NaN    NaN              NaN   Joseph Brooks       NaN   \n",
       "143139             NaN    NaN              NaN  Augusta Daniel       NaN   \n",
       "\n",
       "       distributor soundType  \n",
       "1126           NaN       NaN  \n",
       "3772           NaN       NaN  \n",
       "5048           NaN       NaN  \n",
       "7364           NaN       NaN  \n",
       "8012           NaN       NaN  \n",
       "...            ...       ...  \n",
       "140598         NaN       NaN  \n",
       "140654         NaN       NaN  \n",
       "141470         NaN       NaN  \n",
       "142468         NaN       NaN  \n",
       "143139         NaN       NaN  \n",
       "\n",
       "[1571 rows x 14 columns]"
      ]
     },
     "execution_count": 13,
     "metadata": {},
     "output_type": "execute_result"
    }
   ],
   "source": [
    "movies[movies.duplicated()]"
   ]
  },
  {
   "cell_type": "markdown",
   "id": "883afd32",
   "metadata": {
    "papermill": {
     "duration": 0.035782,
     "end_time": "2023-08-11T17:46:18.673159",
     "exception": false,
     "start_time": "2023-08-11T17:46:18.637377",
     "status": "completed"
    },
    "tags": []
   },
   "source": [
    "#### Taking a quick look at the data we can see there are a lot of missing values as well as many duplicates as well. \n",
    "#### We will drop the duplicate values before merging the relevant features with the train and test set."
   ]
  },
  {
   "cell_type": "markdown",
   "id": "028cae8a",
   "metadata": {
    "papermill": {
     "duration": 0.035168,
     "end_time": "2023-08-11T17:46:18.743810",
     "exception": false,
     "start_time": "2023-08-11T17:46:18.708642",
     "status": "completed"
    },
    "tags": []
   },
   "source": [
    "#### Let's try to plot some visualizations for the featres in movies data as well"
   ]
  },
  {
   "cell_type": "code",
   "execution_count": 14,
   "id": "f71ffed1",
   "metadata": {
    "execution": {
     "iopub.execute_input": "2023-08-11T17:46:18.818534Z",
     "iopub.status.busy": "2023-08-11T17:46:18.817890Z",
     "iopub.status.idle": "2023-08-11T17:46:21.531678Z",
     "shell.execute_reply": "2023-08-11T17:46:21.530348Z"
    },
    "papermill": {
     "duration": 2.754352,
     "end_time": "2023-08-11T17:46:21.534432",
     "exception": false,
     "start_time": "2023-08-11T17:46:18.780080",
     "status": "completed"
    },
    "tags": []
   },
   "outputs": [
    {
     "data": {
      "text/plain": [
       "Text(0.5, 1.0, 'Audience Score')"
      ]
     },
     "execution_count": 14,
     "metadata": {},
     "output_type": "execute_result"
    },
    {
     "data": {
      "image/png": "[encoded data removed]",
      "text/plain": [
       "<Figure size 4500x1500 with 1 Axes>"
      ]
     },
     "metadata": {},
     "output_type": "display_data"
    }
   ],
   "source": [
    "plt.figure(figsize=(45,15))\n",
    "sns.set(style=\"darkgrid\")\n",
    "# palette = sns.color_palette(\"viridis\")\n",
    "sns.countplot(x='audienceScore', data=movies)\n",
    "\n",
    "plt.xlabel('Audience Score')\n",
    "plt.ylabel('Count')\n",
    "plt.title('Audience Score')"
   ]
  },
  {
   "cell_type": "code",
   "execution_count": 15,
   "id": "8b09174a",
   "metadata": {
    "execution": {
     "iopub.execute_input": "2023-08-11T17:46:21.617352Z",
     "iopub.status.busy": "2023-08-11T17:46:21.616840Z",
     "iopub.status.idle": "2023-08-11T17:46:22.304759Z",
     "shell.execute_reply": "2023-08-11T17:46:22.303610Z"
    },
    "papermill": {
     "duration": 0.731896,
     "end_time": "2023-08-11T17:46:22.308538",
     "exception": false,
     "start_time": "2023-08-11T17:46:21.576642",
     "status": "completed"
    },
    "tags": []
   },
   "outputs": [
    {
     "data": {
      "text/plain": [
       "Text(0.5, 1.0, 'Audience Score')"
      ]
     },
     "execution_count": 15,
     "metadata": {},
     "output_type": "execute_result"
    },
    {
     "data": {
      "image/png": "[encoded data removed]",
      "text/plain": [
       "<Figure size 1000x600 with 1 Axes>"
      ]
     },
     "metadata": {},
     "output_type": "display_data"
    }
   ],
   "source": [
    "plt.figure(figsize=(10,6))\n",
    "sns.set(style=\"darkgrid\")\n",
    "sns.histplot(x='audienceScore', data=movies, bins=50, color='seagreen')\n",
    "plt.xlabel('Audience Score')\n",
    "plt.ylabel('Count')\n",
    "plt.title('Audience Score')"
   ]
  },
  {
   "cell_type": "markdown",
   "id": "9cf0b4d1",
   "metadata": {
    "papermill": {
     "duration": 0.041128,
     "end_time": "2023-08-11T17:46:22.394957",
     "exception": false,
     "start_time": "2023-08-11T17:46:22.353829",
     "status": "completed"
    },
    "tags": []
   },
   "source": [
    "#### Here, we can see the distribution for the Audience Scores. There are different scores with different counts. One thing to notice here is that there are quite a number fo movies with 0 score and also very few movies get the score between 90.0 - 99.0 but there are many movies which have 100.0 score."
   ]
  },
  {
   "cell_type": "markdown",
   "id": "4db9f3a0",
   "metadata": {
    "papermill": {
     "duration": 0.036574,
     "end_time": "2023-08-11T17:46:22.468745",
     "exception": false,
     "start_time": "2023-08-11T17:46:22.432171",
     "status": "completed"
    },
    "tags": []
   },
   "source": [
    "#### Let's check the relationship between the two numerical columns of the movies dataset."
   ]
  },
  {
   "cell_type": "code",
   "execution_count": 16,
   "id": "c8b334a0",
   "metadata": {
    "execution": {
     "iopub.execute_input": "2023-08-11T17:46:22.545085Z",
     "iopub.status.busy": "2023-08-11T17:46:22.544107Z",
     "iopub.status.idle": "2023-08-11T17:46:25.751339Z",
     "shell.execute_reply": "2023-08-11T17:46:25.750216Z"
    },
    "papermill": {
     "duration": 3.248333,
     "end_time": "2023-08-11T17:46:25.754007",
     "exception": false,
     "start_time": "2023-08-11T17:46:22.505674",
     "status": "completed"
    },
    "tags": []
   },
   "outputs": [
    {
     "data": {
      "text/plain": [
       "<seaborn.axisgrid.JointGrid at 0x7d14a532e020>"
      ]
     },
     "execution_count": 16,
     "metadata": {},
     "output_type": "execute_result"
    },
    {
     "data": {
      "image/png": "[encoded data removed]",
      "text/plain": [
       "<Figure size 600x600 with 3 Axes>"
      ]
     },
     "metadata": {},
     "output_type": "display_data"
    }
   ],
   "source": [
    "sns.jointplot(x = 'audienceScore', y = 'runtimeMinutes', data = movies, kind = 'hex', gridsize = 20)"
   ]
  },
  {
   "cell_type": "markdown",
   "id": "9f007149",
   "metadata": {
    "papermill": {
     "duration": 0.038702,
     "end_time": "2023-08-11T17:46:25.833364",
     "exception": false,
     "start_time": "2023-08-11T17:46:25.794662",
     "status": "completed"
    },
    "tags": []
   },
   "source": [
    "#### The jointplot shows that there isn't a strong relationship between the features 'audienceScore' and 'runtimeMinutes'.|"
   ]
  },
  {
   "cell_type": "code",
   "execution_count": 17,
   "id": "2d0535f6",
   "metadata": {
    "execution": {
     "iopub.execute_input": "2023-08-11T17:46:25.913716Z",
     "iopub.status.busy": "2023-08-11T17:46:25.913235Z",
     "iopub.status.idle": "2023-08-11T17:46:26.713237Z",
     "shell.execute_reply": "2023-08-11T17:46:26.711662Z"
    },
    "papermill": {
     "duration": 0.84453,
     "end_time": "2023-08-11T17:46:26.716514",
     "exception": false,
     "start_time": "2023-08-11T17:46:25.871984",
     "status": "completed"
    },
    "tags": []
   },
   "outputs": [
    {
     "data": {
      "text/plain": [
       "Text(0.5, 1.0, 'Runtime of movies')"
      ]
     },
     "execution_count": 17,
     "metadata": {},
     "output_type": "execute_result"
    },
    {
     "data": {
      "image/png": "[encoded data removed]",
      "text/plain": [
       "<Figure size 1200x500 with 1 Axes>"
      ]
     },
     "metadata": {},
     "output_type": "display_data"
    }
   ],
   "source": [
    "plt.figure(figsize=(12,5))\n",
    "sns.set(style=\"darkgrid\")\n",
    "\n",
    "sns.violinplot(x='runtimeMinutes', data=movies)\n",
    "plt.xlabel('Runtime in Minutes')\n",
    "plt.ylabel('Count')\n",
    "plt.title('Runtime of movies')"
   ]
  },
  {
   "cell_type": "markdown",
   "id": "0fec0dd9",
   "metadata": {
    "papermill": {
     "duration": 0.039809,
     "end_time": "2023-08-11T17:46:26.795783",
     "exception": false,
     "start_time": "2023-08-11T17:46:26.755974",
     "status": "completed"
    },
    "tags": []
   },
   "source": [
    "#### The \"runtimeMinutes\" column has quite a lot of outliers as we can see on this violinplot. This makes it harder to see any patterns in the data. Dea;ling with outliers is an important step of data preprocessing as outlier detection is a crucial data preprocessing step to improve data quality, ensure model accuracy, and maintain statistical assumptions. Removing or handling outliers enhances data interpretation, model robustness, and performance. "
   ]
  },
  {
   "cell_type": "markdown",
   "id": "b319f4cb",
   "metadata": {
    "papermill": {
     "duration": 0.037948,
     "end_time": "2023-08-11T17:46:26.872584",
     "exception": false,
     "start_time": "2023-08-11T17:46:26.834636",
     "status": "completed"
    },
    "tags": []
   },
   "source": [
    "#### Since we have noticed the outlliers in this column, let's check for outliers in other numerical columns of the movies dataset as well."
   ]
  },
  {
   "cell_type": "code",
   "execution_count": 18,
   "id": "1e85efc2",
   "metadata": {
    "execution": {
     "iopub.execute_input": "2023-08-11T17:46:26.951877Z",
     "iopub.status.busy": "2023-08-11T17:46:26.951428Z",
     "iopub.status.idle": "2023-08-11T17:46:27.675155Z",
     "shell.execute_reply": "2023-08-11T17:46:27.673854Z"
    },
    "papermill": {
     "duration": 0.766989,
     "end_time": "2023-08-11T17:46:27.677931",
     "exception": false,
     "start_time": "2023-08-11T17:46:26.910942",
     "status": "completed"
    },
    "tags": []
   },
   "outputs": [
    {
     "data": {
      "text/plain": [
       "<Axes: xlabel='audienceScore'>"
      ]
     },
     "execution_count": 18,
     "metadata": {},
     "output_type": "execute_result"
    },
    {
     "data": {
      "text/plain": [
       "<Figure size 1600x500 with 0 Axes>"
      ]
     },
     "metadata": {},
     "output_type": "display_data"
    },
    {
     "data": {
      "image/png": "[encoded data removed]",
      "text/plain": [
       "<Figure size 1600x1000 with 2 Axes>"
      ]
     },
     "metadata": {},
     "output_type": "display_data"
    }
   ],
   "source": [
    "plt.figure(figsize=(16,5))\n",
    "fig, axes = plt.subplots(nrows=2, ncols=1, figsize=(16, 10), sharey=True)\n",
    "\n",
    "sns.set(style=\"darkgrid\")\n",
    "\n",
    "sns.boxplot(x='runtimeMinutes', data=movies, ax=axes[0])\n",
    "\n",
    "sns.boxplot(x='audienceScore', data=movies, ax=axes[1])\n"
   ]
  },
  {
   "cell_type": "markdown",
   "id": "9dc97aeb",
   "metadata": {
    "papermill": {
     "duration": 0.039912,
     "end_time": "2023-08-11T17:46:27.757784",
     "exception": false,
     "start_time": "2023-08-11T17:46:27.717872",
     "status": "completed"
    },
    "tags": []
   },
   "source": [
    "#### Features with many outliers are unsuitable for model training due to their influence on model performance, distorted relationships, and potential overfitting. Outliers violate assumptions, hinder interpretability, and challenge data normalization. Options include outlier removal, transformations, and using outlier-resistant models, while careful consideration and validation are essential.\n",
    "#### And the above plot makes it clear that 'runtimeMinutes' is not a suitable column for training our model. The joinplot that we made earlier can be an assurance that we're not missing out on any important input by dropping the 'runtimeMinutes' column."
   ]
  },
  {
   "cell_type": "markdown",
   "id": "e5aa5772",
   "metadata": {
    "papermill": {
     "duration": 0.040765,
     "end_time": "2023-08-11T17:46:27.840604",
     "exception": false,
     "start_time": "2023-08-11T17:46:27.799839",
     "status": "completed"
    },
    "tags": []
   },
   "source": [
    "#### Additionally, we will be dropping the columns 'rating', 'ratingContents', 'releaseDateTheaters', 'genre', 'originalLanguage', , 'boxOffice', 'distributor', 'soundType' because they have more than 50% missing values. \n",
    "#### The columns 'releaseDateStreaming','genre' and 'director' are also being dropped as they do not seem relevant to our purpose to predicting sentiment of ReviewText."
   ]
  },
  {
   "cell_type": "markdown",
   "id": "edb1e087",
   "metadata": {
    "papermill": {
     "duration": 0.040986,
     "end_time": "2023-08-11T17:46:27.923086",
     "exception": false,
     "start_time": "2023-08-11T17:46:27.882100",
     "status": "completed"
    },
    "tags": []
   },
   "source": [
    "#### Let's check the test dataset now"
   ]
  },
  {
   "cell_type": "markdown",
   "id": "c912ce6a",
   "metadata": {
    "papermill": {
     "duration": 0.041772,
     "end_time": "2023-08-11T17:46:28.005074",
     "exception": false,
     "start_time": "2023-08-11T17:46:27.963302",
     "status": "completed"
    },
    "tags": []
   },
   "source": [
    "## Test"
   ]
  },
  {
   "cell_type": "code",
   "execution_count": 19,
   "id": "f275430d",
   "metadata": {
    "execution": {
     "iopub.execute_input": "2023-08-11T17:46:28.091032Z",
     "iopub.status.busy": "2023-08-11T17:46:28.090247Z",
     "iopub.status.idle": "2023-08-11T17:46:28.096854Z",
     "shell.execute_reply": "2023-08-11T17:46:28.095648Z"
    },
    "papermill": {
     "duration": 0.051966,
     "end_time": "2023-08-11T17:46:28.099452",
     "exception": false,
     "start_time": "2023-08-11T17:46:28.047486",
     "status": "completed"
    },
    "tags": []
   },
   "outputs": [
    {
     "name": "stdout",
     "output_type": "stream",
     "text": [
      "The columns in the train dataset are ['movieid', 'reviewerName', 'isTopCritic', 'reviewText']\n",
      "The shape of the test dataset is (55315, 4)\n"
     ]
    }
   ],
   "source": [
    "print(\"The columns in the train dataset are\",test.columns.tolist())\n",
    "print(\"The shape of the test dataset is\",test.shape)"
   ]
  },
  {
   "cell_type": "code",
   "execution_count": 20,
   "id": "f71c408d",
   "metadata": {
    "execution": {
     "iopub.execute_input": "2023-08-11T17:46:28.181835Z",
     "iopub.status.busy": "2023-08-11T17:46:28.181391Z",
     "iopub.status.idle": "2023-08-11T17:46:28.250156Z",
     "shell.execute_reply": "2023-08-11T17:46:28.248321Z"
    },
    "papermill": {
     "duration": 0.113826,
     "end_time": "2023-08-11T17:46:28.253038",
     "exception": false,
     "start_time": "2023-08-11T17:46:28.139212",
     "status": "completed"
    },
    "tags": []
   },
   "outputs": [
    {
     "name": "stdout",
     "output_type": "stream",
     "text": [
      "<class 'pandas.core.frame.DataFrame'>\n",
      "RangeIndex: 55315 entries, 0 to 55314\n",
      "Data columns (total 4 columns):\n",
      " #   Column        Non-Null Count  Dtype \n",
      "---  ------        --------------  ----- \n",
      " 0   movieid       55315 non-null  object\n",
      " 1   reviewerName  55315 non-null  object\n",
      " 2   isTopCritic   55315 non-null  bool  \n",
      " 3   reviewText    52805 non-null  object\n",
      "dtypes: bool(1), object(3)\n",
      "memory usage: 1.3+ MB\n"
     ]
    }
   ],
   "source": [
    "test.info()"
   ]
  },
  {
   "cell_type": "markdown",
   "id": "627321a4",
   "metadata": {
    "papermill": {
     "duration": 0.039404,
     "end_time": "2023-08-11T17:46:28.332521",
     "exception": false,
     "start_time": "2023-08-11T17:46:28.293117",
     "status": "completed"
    },
    "tags": []
   },
   "source": [
    "#### We can see here that just like the train dataset, this dataset also has missing values only in the 'reviewText' column. We will deal with this in the same manner that we will be dealing with the missing values in the train dataset.\n",
    "#### It should also be mentioned that we will assume the \"isTopCritic\" column to be the same as the \"isFrequentReviewer\" in the train dataset."
   ]
  },
  {
   "cell_type": "code",
   "execution_count": 21,
   "id": "10055ae8",
   "metadata": {
    "execution": {
     "iopub.execute_input": "2023-08-11T17:46:28.415283Z",
     "iopub.status.busy": "2023-08-11T17:46:28.414867Z",
     "iopub.status.idle": "2023-08-11T17:46:28.421408Z",
     "shell.execute_reply": "2023-08-11T17:46:28.419881Z"
    },
    "papermill": {
     "duration": 0.05093,
     "end_time": "2023-08-11T17:46:28.423870",
     "exception": false,
     "start_time": "2023-08-11T17:46:28.372940",
     "status": "completed"
    },
    "tags": []
   },
   "outputs": [],
   "source": [
    "test.rename(columns={'isTopCritic':'isFrequentReviewer'},inplace=True)"
   ]
  },
  {
   "cell_type": "markdown",
   "id": "e9271d90",
   "metadata": {
    "papermill": {
     "duration": 0.039384,
     "end_time": "2023-08-11T17:46:28.502903",
     "exception": false,
     "start_time": "2023-08-11T17:46:28.463519",
     "status": "completed"
    },
    "tags": []
   },
   "source": [
    "# Data Preprocesing"
   ]
  },
  {
   "cell_type": "markdown",
   "id": "dfa33ff5",
   "metadata": {
    "papermill": {
     "duration": 0.0404,
     "end_time": "2023-08-11T17:46:28.582884",
     "exception": false,
     "start_time": "2023-08-11T17:46:28.542484",
     "status": "completed"
    },
    "tags": []
   },
   "source": [
    "### Now, we shall preprocess the data and get it ready in order to train the model on it. \n",
    "### We will start by selecting the features we need from the movies dataset and drop the duplicate values.\n",
    "### Then we will proceed to merge them with the train and test set. Following that, we will apply the necessary encoding and Imputation techniques to rid the data of any discrepancies. Lastly, we shall use some techniques to clean the text columns and get the final data prepared to train our models on."
   ]
  },
  {
   "cell_type": "markdown",
   "id": "4e540d74",
   "metadata": {
    "papermill": {
     "duration": 0.039141,
     "end_time": "2023-08-11T17:46:28.661999",
     "exception": false,
     "start_time": "2023-08-11T17:46:28.622858",
     "status": "completed"
    },
    "tags": []
   },
   "source": [
    "### Selecting relevant features from Movies dataset"
   ]
  },
  {
   "cell_type": "code",
   "execution_count": 22,
   "id": "cc5719f0",
   "metadata": {
    "execution": {
     "iopub.execute_input": "2023-08-11T17:46:28.742911Z",
     "iopub.status.busy": "2023-08-11T17:46:28.742470Z",
     "iopub.status.idle": "2023-08-11T17:46:28.814420Z",
     "shell.execute_reply": "2023-08-11T17:46:28.813343Z"
    },
    "papermill": {
     "duration": 0.115611,
     "end_time": "2023-08-11T17:46:28.817056",
     "exception": false,
     "start_time": "2023-08-11T17:46:28.701445",
     "status": "completed"
    },
    "tags": []
   },
   "outputs": [
    {
     "data": {
      "text/html": [
       "<div>\n",
       "<style scoped>\n",
       "    .dataframe tbody tr th:only-of-type {\n",
       "        vertical-align: middle;\n",
       "    }\n",
       "\n",
       "    .dataframe tbody tr th {\n",
       "        vertical-align: top;\n",
       "    }\n",
       "\n",
       "    .dataframe thead th {\n",
       "        text-align: right;\n",
       "    }\n",
       "</style>\n",
       "<table border=\"1\" class=\"dataframe\">\n",
       "  <thead>\n",
       "    <tr style=\"text-align: right;\">\n",
       "      <th></th>\n",
       "      <th>movieid</th>\n",
       "      <th>title</th>\n",
       "      <th>audienceScore</th>\n",
       "      <th>genre</th>\n",
       "    </tr>\n",
       "  </thead>\n",
       "  <tbody>\n",
       "    <tr>\n",
       "      <th>0</th>\n",
       "      <td>han_solo_heroic_myth_wonder_woman</td>\n",
       "      <td>Han Solo Heroic Myth Wonder Woman</td>\n",
       "      <td>50.0</td>\n",
       "      <td>Comedy, Horror, Sci-fi</td>\n",
       "    </tr>\n",
       "    <tr>\n",
       "      <th>1</th>\n",
       "      <td>voyage_tyler_durden_han_solo_stardust</td>\n",
       "      <td>Voyage Tyler Durden Han Solo Stardust</td>\n",
       "      <td>NaN</td>\n",
       "      <td>Drama</td>\n",
       "    </tr>\n",
       "    <tr>\n",
       "      <th>2</th>\n",
       "      <td>norman_bates_ferris_bueller_hermione_granger_v...</td>\n",
       "      <td>Norman Bates Ferris Bueller Hermione Granger V...</td>\n",
       "      <td>43.0</td>\n",
       "      <td>Drama</td>\n",
       "    </tr>\n",
       "    <tr>\n",
       "      <th>3</th>\n",
       "      <td>elegant_hermione_granger</td>\n",
       "      <td>Elegant Hermione Granger</td>\n",
       "      <td>60.0</td>\n",
       "      <td>Action, Mystery &amp; thriller</td>\n",
       "    </tr>\n",
       "    <tr>\n",
       "      <th>6</th>\n",
       "      <td>rocky_balboa_elegant_jack_sparrow</td>\n",
       "      <td>Rocky Balboa Elegant Jack Sparrow</td>\n",
       "      <td>55.0</td>\n",
       "      <td>Comedy</td>\n",
       "    </tr>\n",
       "  </tbody>\n",
       "</table>\n",
       "</div>"
      ],
      "text/plain": [
       "                                             movieid  \\\n",
       "0                  han_solo_heroic_myth_wonder_woman   \n",
       "1              voyage_tyler_durden_han_solo_stardust   \n",
       "2  norman_bates_ferris_bueller_hermione_granger_v...   \n",
       "3                           elegant_hermione_granger   \n",
       "6                  rocky_balboa_elegant_jack_sparrow   \n",
       "\n",
       "                                               title  audienceScore  \\\n",
       "0                  Han Solo Heroic Myth Wonder Woman           50.0   \n",
       "1              Voyage Tyler Durden Han Solo Stardust            NaN   \n",
       "2  Norman Bates Ferris Bueller Hermione Granger V...           43.0   \n",
       "3                           Elegant Hermione Granger           60.0   \n",
       "6                  Rocky Balboa Elegant Jack Sparrow           55.0   \n",
       "\n",
       "                        genre  \n",
       "0      Comedy, Horror, Sci-fi  \n",
       "1                       Drama  \n",
       "2                       Drama  \n",
       "3  Action, Mystery & thriller  \n",
       "6                      Comedy  "
      ]
     },
     "execution_count": 22,
     "metadata": {},
     "output_type": "execute_result"
    }
   ],
   "source": [
    "movies.drop(columns=['rating',\n",
    " 'ratingContents',\n",
    " 'releaseDateTheaters',\n",
    " 'boxOffice',\n",
    " 'distributor',\n",
    " 'soundType',\n",
    " 'releaseDateStreaming',\n",
    " 'director',\n",
    " 'runtimeMinutes',\n",
    " 'originalLanguage'], axis=1, inplace=True)\n",
    "movies.drop_duplicates(subset=['movieid'], keep='last', inplace=True)\n",
    "movies.head(5)"
   ]
  },
  {
   "cell_type": "markdown",
   "id": "1cb77239",
   "metadata": {
    "papermill": {
     "duration": 0.041977,
     "end_time": "2023-08-11T17:46:28.900192",
     "exception": false,
     "start_time": "2023-08-11T17:46:28.858215",
     "status": "completed"
    },
    "tags": []
   },
   "source": [
    "### Merging the train and Test datasets with the movies data"
   ]
  },
  {
   "cell_type": "code",
   "execution_count": 23,
   "id": "db2cd760",
   "metadata": {
    "execution": {
     "iopub.execute_input": "2023-08-11T17:46:28.986327Z",
     "iopub.status.busy": "2023-08-11T17:46:28.985895Z",
     "iopub.status.idle": "2023-08-11T17:46:29.333286Z",
     "shell.execute_reply": "2023-08-11T17:46:29.331887Z"
    },
    "papermill": {
     "duration": 0.394568,
     "end_time": "2023-08-11T17:46:29.336433",
     "exception": false,
     "start_time": "2023-08-11T17:46:28.941865",
     "status": "completed"
    },
    "tags": []
   },
   "outputs": [],
   "source": [
    "merged_train = pd.merge(train, movies, on='movieid', how='left')\n",
    "merged_test = pd.merge(test, movies, on='movieid', how='left')\n",
    "merged_train.drop(['reviewerName','movieid'],axis=1,inplace=True)\n",
    "merged_test.drop(['reviewerName','movieid'],axis=1,inplace=True)"
   ]
  },
  {
   "cell_type": "markdown",
   "id": "37927a70",
   "metadata": {
    "papermill": {
     "duration": 0.04067,
     "end_time": "2023-08-11T17:46:29.421487",
     "exception": false,
     "start_time": "2023-08-11T17:46:29.380817",
     "status": "completed"
    },
    "tags": []
   },
   "source": [
    "### Applying Imputations "
   ]
  },
  {
   "cell_type": "markdown",
   "id": "a8bf60d7",
   "metadata": {
    "papermill": {
     "duration": 0.040443,
     "end_time": "2023-08-11T17:46:29.503038",
     "exception": false,
     "start_time": "2023-08-11T17:46:29.462595",
     "status": "completed"
    },
    "tags": []
   },
   "source": [
    "#### Replacing the null values in the data with empty strings."
   ]
  },
  {
   "cell_type": "code",
   "execution_count": 24,
   "id": "4eef814e",
   "metadata": {
    "execution": {
     "iopub.execute_input": "2023-08-11T17:46:29.586410Z",
     "iopub.status.busy": "2023-08-11T17:46:29.585856Z",
     "iopub.status.idle": "2023-08-11T17:46:29.660613Z",
     "shell.execute_reply": "2023-08-11T17:46:29.659283Z"
    },
    "papermill": {
     "duration": 0.120303,
     "end_time": "2023-08-11T17:46:29.663479",
     "exception": false,
     "start_time": "2023-08-11T17:46:29.543176",
     "status": "completed"
    },
    "tags": []
   },
   "outputs": [],
   "source": [
    "merged_train['reviewText']= merged_train['reviewText'].astype(str).fillna('')\n",
    "merged_test['reviewText'] = merged_test['reviewText'].astype(str).fillna('')"
   ]
  },
  {
   "cell_type": "code",
   "execution_count": 25,
   "id": "d27d0823",
   "metadata": {
    "execution": {
     "iopub.execute_input": "2023-08-11T17:46:29.744998Z",
     "iopub.status.busy": "2023-08-11T17:46:29.744541Z",
     "iopub.status.idle": "2023-08-11T17:46:29.978629Z",
     "shell.execute_reply": "2023-08-11T17:46:29.977475Z"
    },
    "papermill": {
     "duration": 0.278116,
     "end_time": "2023-08-11T17:46:29.981235",
     "exception": false,
     "start_time": "2023-08-11T17:46:29.703119",
     "status": "completed"
    },
    "tags": []
   },
   "outputs": [
    {
     "data": {
      "text/plain": [
       "isFrequentReviewer        0\n",
       "reviewText                0\n",
       "sentiment                 0\n",
       "title                     0\n",
       "audienceScore         11710\n",
       "genre                  2378\n",
       "dtype: int64"
      ]
     },
     "execution_count": 25,
     "metadata": {},
     "output_type": "execute_result"
    }
   ],
   "source": [
    "merged_train.isna().sum()"
   ]
  },
  {
   "cell_type": "code",
   "execution_count": 26,
   "id": "eef2b965",
   "metadata": {
    "execution": {
     "iopub.execute_input": "2023-08-11T17:46:30.068811Z",
     "iopub.status.busy": "2023-08-11T17:46:30.068344Z",
     "iopub.status.idle": "2023-08-11T17:46:30.125335Z",
     "shell.execute_reply": "2023-08-11T17:46:30.123722Z"
    },
    "papermill": {
     "duration": 0.103209,
     "end_time": "2023-08-11T17:46:30.128333",
     "exception": false,
     "start_time": "2023-08-11T17:46:30.025124",
     "status": "completed"
    },
    "tags": []
   },
   "outputs": [],
   "source": [
    "imputer = SimpleImputer(strategy='mean')\n",
    "merged_train[['audienceScore']] = imputer.fit_transform(merged_train[['audienceScore']])\n",
    "merged_test[['audienceScore']] = imputer.fit_transform(merged_test[['audienceScore']])"
   ]
  },
  {
   "cell_type": "code",
   "execution_count": 27,
   "id": "6dff2f9f",
   "metadata": {
    "execution": {
     "iopub.execute_input": "2023-08-11T17:46:30.212526Z",
     "iopub.status.busy": "2023-08-11T17:46:30.212021Z",
     "iopub.status.idle": "2023-08-11T17:46:30.301696Z",
     "shell.execute_reply": "2023-08-11T17:46:30.300214Z"
    },
    "papermill": {
     "duration": 0.135259,
     "end_time": "2023-08-11T17:46:30.304764",
     "exception": false,
     "start_time": "2023-08-11T17:46:30.169505",
     "status": "completed"
    },
    "tags": []
   },
   "outputs": [],
   "source": [
    "imputer = SimpleImputer(strategy='most_frequent')\n",
    "merged_train[['genre']] = imputer.fit_transform(merged_train[['genre']])\n",
    "merged_test[['genre']] = imputer.fit_transform(merged_test[['genre']])"
   ]
  },
  {
   "cell_type": "code",
   "execution_count": 28,
   "id": "292fe688",
   "metadata": {
    "execution": {
     "iopub.execute_input": "2023-08-11T17:46:30.386739Z",
     "iopub.status.busy": "2023-08-11T17:46:30.386293Z",
     "iopub.status.idle": "2023-08-11T17:46:31.004778Z",
     "shell.execute_reply": "2023-08-11T17:46:31.003306Z"
    },
    "papermill": {
     "duration": 0.663067,
     "end_time": "2023-08-11T17:46:31.007818",
     "exception": false,
     "start_time": "2023-08-11T17:46:30.344751",
     "status": "completed"
    },
    "tags": []
   },
   "outputs": [],
   "source": [
    "# getting unique Genres\n",
    "merged_train['genre'] = merged_train['genre'].str.split(', ')\n",
    "merged_test['genre'] = merged_test['genre'].str.split(', ')\n",
    "unique_genres_train = set()\n",
    "unique_genres_test = set()\n",
    "for genres_list in merged_train['genre']:\n",
    "    unique_genres_train.update(genres_list)\n",
    "for genres_list in merged_test['genre']:\n",
    "    unique_genres_test.update(genres_list)"
   ]
  },
  {
   "cell_type": "code",
   "execution_count": 29,
   "id": "eacf0ea8",
   "metadata": {
    "execution": {
     "iopub.execute_input": "2023-08-11T17:46:31.094460Z",
     "iopub.status.busy": "2023-08-11T17:46:31.093661Z",
     "iopub.status.idle": "2023-08-11T17:46:36.899206Z",
     "shell.execute_reply": "2023-08-11T17:46:36.898191Z"
    },
    "papermill": {
     "duration": 5.852006,
     "end_time": "2023-08-11T17:46:36.901964",
     "exception": false,
     "start_time": "2023-08-11T17:46:31.049958",
     "status": "completed"
    },
    "tags": []
   },
   "outputs": [],
   "source": [
    "# Iterate through each unique genre\n",
    "for i in unique_genres_train:\n",
    "    merged_train[i] = merged_train['genre'].apply(lambda x: 1 if i in x else 0)\n",
    "for i in unique_genres_test:\n",
    "    merged_test[i] = merged_test['genre'].apply(lambda x: 1 if i in x else 0)"
   ]
  },
  {
   "cell_type": "code",
   "execution_count": 30,
   "id": "77297f7a",
   "metadata": {
    "execution": {
     "iopub.execute_input": "2023-08-11T17:46:36.988990Z",
     "iopub.status.busy": "2023-08-11T17:46:36.988513Z",
     "iopub.status.idle": "2023-08-11T17:46:37.223631Z",
     "shell.execute_reply": "2023-08-11T17:46:37.222486Z"
    },
    "papermill": {
     "duration": 0.281162,
     "end_time": "2023-08-11T17:46:37.226247",
     "exception": false,
     "start_time": "2023-08-11T17:46:36.945085",
     "status": "completed"
    },
    "tags": []
   },
   "outputs": [
    {
     "data": {
      "text/plain": [
       "isFrequentReviewer      0\n",
       "reviewText              0\n",
       "sentiment               0\n",
       "title                   0\n",
       "audienceScore           0\n",
       "genre                   0\n",
       "Comedy                  0\n",
       "Lgbtq+                  0\n",
       "Holiday                 0\n",
       "Animation               0\n",
       "Horror                  0\n",
       "Nature                  0\n",
       "History                 0\n",
       "Health & wellness       0\n",
       "Action                  0\n",
       "Sci-fi                  0\n",
       "Short                   0\n",
       "Kids & family           0\n",
       "Variety                 0\n",
       "Music                   0\n",
       "Other                   0\n",
       "Stand-up                0\n",
       "Crime                   0\n",
       "Biography               0\n",
       "Fantasy                 0\n",
       "Sports & fitness        0\n",
       "Gay & lesbian           0\n",
       "Sports                  0\n",
       "Western                 0\n",
       "Foreign                 0\n",
       "Documentary             0\n",
       "Drama                   0\n",
       "War                     0\n",
       "Romance                 0\n",
       "Mystery & thriller      0\n",
       "Anime                   0\n",
       "Adventure               0\n",
       "Musical                 0\n",
       "News                    0\n",
       "Faith & spirituality    0\n",
       "dtype: int64"
      ]
     },
     "execution_count": 30,
     "metadata": {},
     "output_type": "execute_result"
    }
   ],
   "source": [
    "merged_train.isna().sum()"
   ]
  },
  {
   "cell_type": "code",
   "execution_count": 31,
   "id": "83ab5ba7",
   "metadata": {
    "execution": {
     "iopub.execute_input": "2023-08-11T17:46:37.312999Z",
     "iopub.status.busy": "2023-08-11T17:46:37.312513Z",
     "iopub.status.idle": "2023-08-11T17:46:37.382691Z",
     "shell.execute_reply": "2023-08-11T17:46:37.381819Z"
    },
    "papermill": {
     "duration": 0.117457,
     "end_time": "2023-08-11T17:46:37.385678",
     "exception": false,
     "start_time": "2023-08-11T17:46:37.268221",
     "status": "completed"
    },
    "tags": []
   },
   "outputs": [
    {
     "data": {
      "text/plain": [
       "isFrequentReviewer      0\n",
       "reviewText              0\n",
       "title                   0\n",
       "audienceScore           0\n",
       "genre                   0\n",
       "Comedy                  0\n",
       "Lgbtq+                  0\n",
       "Holiday                 0\n",
       "Animation               0\n",
       "Horror                  0\n",
       "Nature                  0\n",
       "History                 0\n",
       "Health & wellness       0\n",
       "Action                  0\n",
       "Sci-fi                  0\n",
       "Short                   0\n",
       "Kids & family           0\n",
       "Variety                 0\n",
       "Music                   0\n",
       "Other                   0\n",
       "Stand-up                0\n",
       "Crime                   0\n",
       "Biography               0\n",
       "Fantasy                 0\n",
       "Sports & fitness        0\n",
       "Gay & lesbian           0\n",
       "Sports                  0\n",
       "Western                 0\n",
       "Foreign                 0\n",
       "Documentary             0\n",
       "Drama                   0\n",
       "War                     0\n",
       "Romance                 0\n",
       "Mystery & thriller      0\n",
       "Anime                   0\n",
       "Adventure               0\n",
       "Musical                 0\n",
       "News                    0\n",
       "Faith & spirituality    0\n",
       "dtype: int64"
      ]
     },
     "execution_count": 31,
     "metadata": {},
     "output_type": "execute_result"
    }
   ],
   "source": [
    "merged_test.isna().sum()"
   ]
  },
  {
   "cell_type": "markdown",
   "id": "7908401a",
   "metadata": {
    "papermill": {
     "duration": 0.041769,
     "end_time": "2023-08-11T17:46:37.471098",
     "exception": false,
     "start_time": "2023-08-11T17:46:37.429329",
     "status": "completed"
    },
    "tags": []
   },
   "source": [
    "#### With this, we have taken care of all the null values in our train and test set."
   ]
  },
  {
   "cell_type": "code",
   "execution_count": 32,
   "id": "f9472dcd",
   "metadata": {
    "execution": {
     "iopub.execute_input": "2023-08-11T17:46:37.559479Z",
     "iopub.status.busy": "2023-08-11T17:46:37.558712Z",
     "iopub.status.idle": "2023-08-11T17:46:37.584976Z",
     "shell.execute_reply": "2023-08-11T17:46:37.583841Z"
    },
    "papermill": {
     "duration": 0.073829,
     "end_time": "2023-08-11T17:46:37.587875",
     "exception": false,
     "start_time": "2023-08-11T17:46:37.514046",
     "status": "completed"
    },
    "tags": []
   },
   "outputs": [
    {
     "data": {
      "text/html": [
       "<div>\n",
       "<style scoped>\n",
       "    .dataframe tbody tr th:only-of-type {\n",
       "        vertical-align: middle;\n",
       "    }\n",
       "\n",
       "    .dataframe tbody tr th {\n",
       "        vertical-align: top;\n",
       "    }\n",
       "\n",
       "    .dataframe thead th {\n",
       "        text-align: right;\n",
       "    }\n",
       "</style>\n",
       "<table border=\"1\" class=\"dataframe\">\n",
       "  <thead>\n",
       "    <tr style=\"text-align: right;\">\n",
       "      <th></th>\n",
       "      <th>isFrequentReviewer</th>\n",
       "      <th>reviewText</th>\n",
       "      <th>title</th>\n",
       "      <th>audienceScore</th>\n",
       "      <th>genre</th>\n",
       "      <th>Comedy</th>\n",
       "      <th>Lgbtq+</th>\n",
       "      <th>Holiday</th>\n",
       "      <th>Animation</th>\n",
       "      <th>Horror</th>\n",
       "      <th>...</th>\n",
       "      <th>Documentary</th>\n",
       "      <th>Drama</th>\n",
       "      <th>War</th>\n",
       "      <th>Romance</th>\n",
       "      <th>Mystery &amp; thriller</th>\n",
       "      <th>Anime</th>\n",
       "      <th>Adventure</th>\n",
       "      <th>Musical</th>\n",
       "      <th>News</th>\n",
       "      <th>Faith &amp; spirituality</th>\n",
       "    </tr>\n",
       "  </thead>\n",
       "  <tbody>\n",
       "    <tr>\n",
       "      <th>0</th>\n",
       "      <td>False</td>\n",
       "      <td>Green slowly cranks up the dread with style an...</td>\n",
       "      <td>Legend Marty McFly Oracle</td>\n",
       "      <td>57.000000</td>\n",
       "      <td>[Holiday, Horror, Mystery &amp; thriller]</td>\n",
       "      <td>0</td>\n",
       "      <td>0</td>\n",
       "      <td>1</td>\n",
       "      <td>0</td>\n",
       "      <td>1</td>\n",
       "      <td>...</td>\n",
       "      <td>0</td>\n",
       "      <td>0</td>\n",
       "      <td>0</td>\n",
       "      <td>0</td>\n",
       "      <td>1</td>\n",
       "      <td>0</td>\n",
       "      <td>0</td>\n",
       "      <td>0</td>\n",
       "      <td>0</td>\n",
       "      <td>0</td>\n",
       "    </tr>\n",
       "    <tr>\n",
       "      <th>1</th>\n",
       "      <td>False</td>\n",
       "      <td>Philip Noyce's direction is elegant and unforc...</td>\n",
       "      <td>Terminator Katniss Everdeen Glimmer</td>\n",
       "      <td>86.000000</td>\n",
       "      <td>[Drama, Adventure]</td>\n",
       "      <td>0</td>\n",
       "      <td>0</td>\n",
       "      <td>0</td>\n",
       "      <td>0</td>\n",
       "      <td>0</td>\n",
       "      <td>...</td>\n",
       "      <td>0</td>\n",
       "      <td>1</td>\n",
       "      <td>0</td>\n",
       "      <td>0</td>\n",
       "      <td>0</td>\n",
       "      <td>0</td>\n",
       "      <td>1</td>\n",
       "      <td>0</td>\n",
       "      <td>0</td>\n",
       "      <td>0</td>\n",
       "    </tr>\n",
       "    <tr>\n",
       "      <th>2</th>\n",
       "      <td>False</td>\n",
       "      <td>It wouldn't do to say what path Maria ultimate...</td>\n",
       "      <td>James Bond Labyrinth Gollum</td>\n",
       "      <td>64.805684</td>\n",
       "      <td>[Drama]</td>\n",
       "      <td>0</td>\n",
       "      <td>0</td>\n",
       "      <td>0</td>\n",
       "      <td>0</td>\n",
       "      <td>0</td>\n",
       "      <td>...</td>\n",
       "      <td>0</td>\n",
       "      <td>1</td>\n",
       "      <td>0</td>\n",
       "      <td>0</td>\n",
       "      <td>0</td>\n",
       "      <td>0</td>\n",
       "      <td>0</td>\n",
       "      <td>0</td>\n",
       "      <td>0</td>\n",
       "      <td>0</td>\n",
       "    </tr>\n",
       "    <tr>\n",
       "      <th>3</th>\n",
       "      <td>False</td>\n",
       "      <td>Pig is not exactly the arthouse John Wick that...</td>\n",
       "      <td>V Quest Han Solo Wondrous</td>\n",
       "      <td>70.000000</td>\n",
       "      <td>[Comedy]</td>\n",
       "      <td>1</td>\n",
       "      <td>0</td>\n",
       "      <td>0</td>\n",
       "      <td>0</td>\n",
       "      <td>0</td>\n",
       "      <td>...</td>\n",
       "      <td>0</td>\n",
       "      <td>0</td>\n",
       "      <td>0</td>\n",
       "      <td>0</td>\n",
       "      <td>0</td>\n",
       "      <td>0</td>\n",
       "      <td>0</td>\n",
       "      <td>0</td>\n",
       "      <td>0</td>\n",
       "      <td>0</td>\n",
       "    </tr>\n",
       "    <tr>\n",
       "      <th>4</th>\n",
       "      <td>False</td>\n",
       "      <td>An imaginative no-budget musical of sorts abou...</td>\n",
       "      <td>Enigma Hulk Surreal Starlight</td>\n",
       "      <td>64.805684</td>\n",
       "      <td>[Drama, Musical]</td>\n",
       "      <td>0</td>\n",
       "      <td>0</td>\n",
       "      <td>0</td>\n",
       "      <td>0</td>\n",
       "      <td>0</td>\n",
       "      <td>...</td>\n",
       "      <td>0</td>\n",
       "      <td>1</td>\n",
       "      <td>0</td>\n",
       "      <td>0</td>\n",
       "      <td>0</td>\n",
       "      <td>0</td>\n",
       "      <td>0</td>\n",
       "      <td>1</td>\n",
       "      <td>0</td>\n",
       "      <td>0</td>\n",
       "    </tr>\n",
       "  </tbody>\n",
       "</table>\n",
       "<p>5 rows × 39 columns</p>\n",
       "</div>"
      ],
      "text/plain": [
       "   isFrequentReviewer                                         reviewText  \\\n",
       "0               False  Green slowly cranks up the dread with style an...   \n",
       "1               False  Philip Noyce's direction is elegant and unforc...   \n",
       "2               False  It wouldn't do to say what path Maria ultimate...   \n",
       "3               False  Pig is not exactly the arthouse John Wick that...   \n",
       "4               False  An imaginative no-budget musical of sorts abou...   \n",
       "\n",
       "                                 title  audienceScore  \\\n",
       "0            Legend Marty McFly Oracle      57.000000   \n",
       "1  Terminator Katniss Everdeen Glimmer      86.000000   \n",
       "2          James Bond Labyrinth Gollum      64.805684   \n",
       "3            V Quest Han Solo Wondrous      70.000000   \n",
       "4        Enigma Hulk Surreal Starlight      64.805684   \n",
       "\n",
       "                                   genre  Comedy  Lgbtq+  Holiday  Animation  \\\n",
       "0  [Holiday, Horror, Mystery & thriller]       0       0        1          0   \n",
       "1                     [Drama, Adventure]       0       0        0          0   \n",
       "2                                [Drama]       0       0        0          0   \n",
       "3                               [Comedy]       1       0        0          0   \n",
       "4                       [Drama, Musical]       0       0        0          0   \n",
       "\n",
       "   Horror  ...  Documentary  Drama  War  Romance  Mystery & thriller  Anime  \\\n",
       "0       1  ...            0      0    0        0                   1      0   \n",
       "1       0  ...            0      1    0        0                   0      0   \n",
       "2       0  ...            0      1    0        0                   0      0   \n",
       "3       0  ...            0      0    0        0                   0      0   \n",
       "4       0  ...            0      1    0        0                   0      0   \n",
       "\n",
       "   Adventure  Musical  News  Faith & spirituality  \n",
       "0          0        0     0                     0  \n",
       "1          1        0     0                     0  \n",
       "2          0        0     0                     0  \n",
       "3          0        0     0                     0  \n",
       "4          0        1     0                     0  \n",
       "\n",
       "[5 rows x 39 columns]"
      ]
     },
     "execution_count": 32,
     "metadata": {},
     "output_type": "execute_result"
    }
   ],
   "source": [
    "merged_test.head()"
   ]
  },
  {
   "cell_type": "markdown",
   "id": "7347b96f",
   "metadata": {
    "papermill": {
     "duration": 0.04333,
     "end_time": "2023-08-11T17:46:37.677363",
     "exception": false,
     "start_time": "2023-08-11T17:46:37.634033",
     "status": "completed"
    },
    "tags": []
   },
   "source": [
    "### Processing the Text columns"
   ]
  },
  {
   "cell_type": "markdown",
   "id": "4436aedd",
   "metadata": {
    "papermill": {
     "duration": 0.040795,
     "end_time": "2023-08-11T17:46:37.759257",
     "exception": false,
     "start_time": "2023-08-11T17:46:37.718462",
     "status": "completed"
    },
    "tags": []
   },
   "source": [
    "#### Since we are prohibited from using nltk or similar language processing libraries, we will make a custom list of stop words and then remove them from our dataset."
   ]
  },
  {
   "cell_type": "code",
   "execution_count": 33,
   "id": "8cb62582",
   "metadata": {
    "execution": {
     "iopub.execute_input": "2023-08-11T17:46:37.843680Z",
     "iopub.status.busy": "2023-08-11T17:46:37.843200Z",
     "iopub.status.idle": "2023-08-11T17:46:37.862488Z",
     "shell.execute_reply": "2023-08-11T17:46:37.861156Z"
    },
    "papermill": {
     "duration": 0.065163,
     "end_time": "2023-08-11T17:46:37.865486",
     "exception": false,
     "start_time": "2023-08-11T17:46:37.800323",
     "status": "completed"
    },
    "tags": []
   },
   "outputs": [],
   "source": [
    "stop_words = [\n",
    "    'i', 'me', 'my', 'myself', 'we', 'our', 'ours', 'ourselves', 'you', 'your', 'yours', 'yourself', 'yourselves',\n",
    "    'he', 'him', 'his', 'himself', 'she', 'her', 'hers', 'herself', 'it', 'its', 'itself', 'they', 'them', 'their',\n",
    "    'theirs', 'themselves', 'what', 'which', 'who', 'whom', 'this', 'that', 'these', 'those', 'am', 'is', 'are', 'was',\n",
    "    'were', 'be', 'been', 'being', 'have', 'has', 'had', 'having', 'do', 'does', 'did', 'doing', 'a', 'an', 'the',\n",
    "    'and', 'but', 'if', 'or', 'because', 'as', 'until', 'while', 'of', 'at', 'by', 'for', 'with', 'about', 'against',\n",
    "    'between', 'into', 'through', 'during', 'before', 'after', 'above', 'below', 'to', 'from', 'up', 'down', 'in',\n",
    "    'out', 'on', 'off', 'over', 'under', 'again', 'further', 'then', 'once', 'here', 'there', 'when', 'where', 'why',\n",
    "    'how', 'all', 'any', 'both', 'each', 'few', 'more', 'most', 'other', 'some', 'such', 'no', 'nor', 'not', 'only',\n",
    "    'own', 'same', 'so', 'than', 'too', 'very', 's', 't', 'can', 'will', 'just', 'don', 'should', 'now','so', 'too',\n",
    "    're', 'over', 'she', 'me', 'are', 'while', 'has', \"she's\", 'by', 'will', 'about', 'but', 'd', 'into', 'who', 's',\n",
    "    'no', 'or', 'is', 'above', \"mustn't\", 'before', 'i', 'he', \"mightn't\", 'aren', 'now', 'my', 'why', \"won't\", 'a',\n",
    "    'same', 'hers', 'up', 'wouldn', 'and', 'out', 'below', 'only', 'having', 'through', \"doesn't\", 'doesn', 'just', \n",
    "    'where', 'to', 'how', 'then', 'did', 'down', 'each', 'had', \"you'd\", 'herself', 'him', 'myself', 'hadn', 'you',\n",
    "    'have', 'ma', \"shan't\", 'if', 'as', 'be', 'doing', 'being', 'an', 'than', 'didn', 'further', 'there', \"isn't\", \n",
    "    'themselves', 'any', 'more', \"hasn't\", 'from', \"haven't\", 'not', 've', 'all', 'we', 'again', 'at', 'am', 'such',\n",
    "    'with', 'll', 'shouldn', 'of', 'do', 'against', 'both', \"weren't\", 'should', 'this', \"aren't\", 'shan', 'own', \"couldn't\", \n",
    "    \"you're\", 'o', 'during', \"don't\", 'what', 'haven', 'does', 'isn', 'which', 'don', 'theirs', 'in', \"it's\", 'for', 'was',\n",
    "    'some', \"you've\", 'been', 'they', 'them', 'mustn', 'most', 'here', 'himself', \"wasn't\", 'that', 'their', 'can', \"should've\",\n",
    "    \"wouldn't\", 'yourself', 'your', 'ours', 'after', 'on', 'few', 'y', 'off', 'until', 'it', 'her', 'our', 'weren', 'under', 'nor',\n",
    "    'his', \"didn't\", \"that'll\", 'ain', 'needn', 'yourselves', 'the', 'because', 'very', 'whom', 'couldn', 'hasn', 'itself', \"needn't\",\n",
    "    'yours', 'won', 'these', 'were', 'other', 'between', 't', 'when', 'ourselves', \"shouldn't\", 'its', 'those', \"hadn't\", 'mightn',\n",
    "    'wasn', 'm', 'once', \"you'll\", 'the', 'this', 'it', 'its'\n",
    "]"
   ]
  },
  {
   "cell_type": "markdown",
   "id": "e6fb409d",
   "metadata": {
    "papermill": {
     "duration": 0.041036,
     "end_time": "2023-08-11T17:46:37.947784",
     "exception": false,
     "start_time": "2023-08-11T17:46:37.906748",
     "status": "completed"
    },
    "tags": []
   },
   "source": [
    "#### Defining functions that will be applied to the Text columns to clean it and prepare for Vectorization."
   ]
  },
  {
   "cell_type": "code",
   "execution_count": 34,
   "id": "1039c635",
   "metadata": {
    "execution": {
     "iopub.execute_input": "2023-08-11T17:46:38.035957Z",
     "iopub.status.busy": "2023-08-11T17:46:38.034754Z",
     "iopub.status.idle": "2023-08-11T17:46:38.042377Z",
     "shell.execute_reply": "2023-08-11T17:46:38.041063Z"
    },
    "papermill": {
     "duration": 0.055601,
     "end_time": "2023-08-11T17:46:38.045531",
     "exception": false,
     "start_time": "2023-08-11T17:46:37.989930",
     "status": "completed"
    },
    "tags": []
   },
   "outputs": [],
   "source": [
    "# Text cleaning\n",
    "def clean_text(text):\n",
    "    # Remove special characters and symbols\n",
    "    text = text.lower()\n",
    "    cleaned_text = re.sub(r'[^a-zA-Z\\s]', '', text)\n",
    "    return cleaned_text\n",
    "\n",
    "\n",
    "# Tokenization\n",
    "def tokenize_text(text):\n",
    "    tokens = text.split()\n",
    "    return tokens\n",
    "\n",
    "\n",
    "# Stop word removal\n",
    "def remove_stopwords(tokens):\n",
    "    stopword_list = set(stop_words)\n",
    "    filtered_tokens = [token for token in tokens if token not in stopword_list]\n",
    "    return filtered_tokens\n"
   ]
  },
  {
   "cell_type": "code",
   "execution_count": 35,
   "id": "faacadae",
   "metadata": {
    "execution": {
     "iopub.execute_input": "2023-08-11T17:46:38.132008Z",
     "iopub.status.busy": "2023-08-11T17:46:38.131524Z",
     "iopub.status.idle": "2023-08-11T17:46:38.140367Z",
     "shell.execute_reply": "2023-08-11T17:46:38.139046Z"
    },
    "papermill": {
     "duration": 0.055651,
     "end_time": "2023-08-11T17:46:38.142992",
     "exception": false,
     "start_time": "2023-08-11T17:46:38.087341",
     "status": "completed"
    },
    "tags": []
   },
   "outputs": [
    {
     "data": {
      "text/plain": [
       "Index(['isFrequentReviewer', 'reviewText', 'sentiment', 'title',\n",
       "       'audienceScore', 'genre', 'Comedy', 'Lgbtq+', 'Holiday', 'Animation',\n",
       "       'Horror', 'Nature', 'History', 'Health & wellness', 'Action', 'Sci-fi',\n",
       "       'Short', 'Kids & family', 'Variety', 'Music', 'Other', 'Stand-up',\n",
       "       'Crime', 'Biography', 'Fantasy', 'Sports & fitness', 'Gay & lesbian',\n",
       "       'Sports', 'Western', 'Foreign', 'Documentary', 'Drama', 'War',\n",
       "       'Romance', 'Mystery & thriller', 'Anime', 'Adventure', 'Musical',\n",
       "       'News', 'Faith & spirituality'],\n",
       "      dtype='object')"
      ]
     },
     "execution_count": 35,
     "metadata": {},
     "output_type": "execute_result"
    }
   ],
   "source": [
    "merged_train.columns"
   ]
  },
  {
   "cell_type": "markdown",
   "id": "61dee0f8",
   "metadata": {
    "papermill": {
     "duration": 0.040805,
     "end_time": "2023-08-11T17:46:38.225074",
     "exception": false,
     "start_time": "2023-08-11T17:46:38.184269",
     "status": "completed"
    },
    "tags": []
   },
   "source": [
    "### Applying the text cleaning functions to the text columns in the train and test sets."
   ]
  },
  {
   "cell_type": "code",
   "execution_count": 36,
   "id": "a1728b80",
   "metadata": {
    "execution": {
     "iopub.execute_input": "2023-08-11T17:46:38.310290Z",
     "iopub.status.busy": "2023-08-11T17:46:38.309413Z",
     "iopub.status.idle": "2023-08-11T17:46:45.964469Z",
     "shell.execute_reply": "2023-08-11T17:46:45.963020Z"
    },
    "papermill": {
     "duration": 7.700947,
     "end_time": "2023-08-11T17:46:45.967534",
     "exception": false,
     "start_time": "2023-08-11T17:46:38.266587",
     "status": "completed"
    },
    "tags": []
   },
   "outputs": [],
   "source": [
    "merged_train['reviewText'] = merged_train['reviewText'].apply(clean_text)\n",
    "merged_train['reviewText'] = merged_train['reviewText'].apply(tokenize_text)\n",
    "merged_train['reviewText'] = merged_train['reviewText'].apply(remove_stopwords)\n",
    "merged_train['reviewText'] = merged_train['reviewText'].apply(lambda x: ' '.join(x))\n",
    "\n",
    "merged_train['title'] = merged_train['title'].apply(clean_text)\n",
    "merged_train['title'] = merged_train['title'].apply(tokenize_text)\n",
    "merged_train['title'] = merged_train['title'].apply(remove_stopwords)\n",
    "merged_train['title'] = merged_train['title'].apply(lambda x: ' '.join(x))"
   ]
  },
  {
   "cell_type": "code",
   "execution_count": 37,
   "id": "f2e22052",
   "metadata": {
    "execution": {
     "iopub.execute_input": "2023-08-11T17:46:46.053425Z",
     "iopub.status.busy": "2023-08-11T17:46:46.053013Z",
     "iopub.status.idle": "2023-08-11T17:46:48.344533Z",
     "shell.execute_reply": "2023-08-11T17:46:48.343261Z"
    },
    "papermill": {
     "duration": 2.337387,
     "end_time": "2023-08-11T17:46:48.347467",
     "exception": false,
     "start_time": "2023-08-11T17:46:46.010080",
     "status": "completed"
    },
    "tags": []
   },
   "outputs": [],
   "source": [
    "merged_test['reviewText'] = merged_test['reviewText'].apply(clean_text)\n",
    "merged_test['reviewText'] = merged_test['reviewText'].apply(tokenize_text)\n",
    "merged_test['reviewText'] = merged_test['reviewText'].apply(remove_stopwords)\n",
    "merged_test['reviewText'] = merged_test['reviewText'].apply(lambda x: ' '.join(x))\n",
    "\n",
    "\n",
    "merged_test['title'] = merged_test['title'].apply(clean_text)\n",
    "merged_test['title'] = merged_test['title'].apply(tokenize_text)\n",
    "merged_test['title'] = merged_test['title'].apply(remove_stopwords)\n",
    "merged_test['title'] = merged_test['title'].apply(lambda x: ' '.join(x))"
   ]
  },
  {
   "cell_type": "code",
   "execution_count": 38,
   "id": "63dd6649",
   "metadata": {
    "execution": {
     "iopub.execute_input": "2023-08-11T17:46:48.436157Z",
     "iopub.status.busy": "2023-08-11T17:46:48.435503Z",
     "iopub.status.idle": "2023-08-11T17:46:48.460095Z",
     "shell.execute_reply": "2023-08-11T17:46:48.459280Z"
    },
    "papermill": {
     "duration": 0.07228,
     "end_time": "2023-08-11T17:46:48.462617",
     "exception": false,
     "start_time": "2023-08-11T17:46:48.390337",
     "status": "completed"
    },
    "tags": []
   },
   "outputs": [
    {
     "data": {
      "text/html": [
       "<div>\n",
       "<style scoped>\n",
       "    .dataframe tbody tr th:only-of-type {\n",
       "        vertical-align: middle;\n",
       "    }\n",
       "\n",
       "    .dataframe tbody tr th {\n",
       "        vertical-align: top;\n",
       "    }\n",
       "\n",
       "    .dataframe thead th {\n",
       "        text-align: right;\n",
       "    }\n",
       "</style>\n",
       "<table border=\"1\" class=\"dataframe\">\n",
       "  <thead>\n",
       "    <tr style=\"text-align: right;\">\n",
       "      <th></th>\n",
       "      <th>isFrequentReviewer</th>\n",
       "      <th>reviewText</th>\n",
       "      <th>sentiment</th>\n",
       "      <th>title</th>\n",
       "      <th>audienceScore</th>\n",
       "      <th>genre</th>\n",
       "      <th>Comedy</th>\n",
       "      <th>Lgbtq+</th>\n",
       "      <th>Holiday</th>\n",
       "      <th>Animation</th>\n",
       "      <th>...</th>\n",
       "      <th>Documentary</th>\n",
       "      <th>Drama</th>\n",
       "      <th>War</th>\n",
       "      <th>Romance</th>\n",
       "      <th>Mystery &amp; thriller</th>\n",
       "      <th>Anime</th>\n",
       "      <th>Adventure</th>\n",
       "      <th>Musical</th>\n",
       "      <th>News</th>\n",
       "      <th>Faith &amp; spirituality</th>\n",
       "    </tr>\n",
       "  </thead>\n",
       "  <tbody>\n",
       "    <tr>\n",
       "      <th>0</th>\n",
       "      <td>False</td>\n",
       "      <td>henry selicks first movie since coraline fifth...</td>\n",
       "      <td>POSITIVE</td>\n",
       "      <td>marvelous pirate</td>\n",
       "      <td>65.0</td>\n",
       "      <td>[Comedy, Animation, Adventure, Fantasy]</td>\n",
       "      <td>1</td>\n",
       "      <td>0</td>\n",
       "      <td>0</td>\n",
       "      <td>1</td>\n",
       "      <td>...</td>\n",
       "      <td>0</td>\n",
       "      <td>0</td>\n",
       "      <td>0</td>\n",
       "      <td>0</td>\n",
       "      <td>0</td>\n",
       "      <td>0</td>\n",
       "      <td>1</td>\n",
       "      <td>0</td>\n",
       "      <td>0</td>\n",
       "      <td>0</td>\n",
       "    </tr>\n",
       "    <tr>\n",
       "      <th>1</th>\n",
       "      <td>False</td>\n",
       "      <td>cast reads like vogue oscar party guest list v...</td>\n",
       "      <td>NEGATIVE</td>\n",
       "      <td>tony montana frodo baggins v rocky balboa</td>\n",
       "      <td>47.0</td>\n",
       "      <td>[Holiday, Romance, Comedy, Lgbtq+]</td>\n",
       "      <td>1</td>\n",
       "      <td>1</td>\n",
       "      <td>1</td>\n",
       "      <td>0</td>\n",
       "      <td>...</td>\n",
       "      <td>0</td>\n",
       "      <td>0</td>\n",
       "      <td>0</td>\n",
       "      <td>1</td>\n",
       "      <td>0</td>\n",
       "      <td>0</td>\n",
       "      <td>0</td>\n",
       "      <td>0</td>\n",
       "      <td>0</td>\n",
       "      <td>0</td>\n",
       "    </tr>\n",
       "    <tr>\n",
       "      <th>2</th>\n",
       "      <td>True</td>\n",
       "      <td>creed ii give us anything another slightly sup...</td>\n",
       "      <td>POSITIVE</td>\n",
       "      <td>darth vader katniss everdeen sorcerer donnie d...</td>\n",
       "      <td>80.0</td>\n",
       "      <td>[Drama]</td>\n",
       "      <td>0</td>\n",
       "      <td>0</td>\n",
       "      <td>0</td>\n",
       "      <td>0</td>\n",
       "      <td>...</td>\n",
       "      <td>0</td>\n",
       "      <td>1</td>\n",
       "      <td>0</td>\n",
       "      <td>0</td>\n",
       "      <td>0</td>\n",
       "      <td>0</td>\n",
       "      <td>0</td>\n",
       "      <td>0</td>\n",
       "      <td>0</td>\n",
       "      <td>0</td>\n",
       "    </tr>\n",
       "    <tr>\n",
       "      <th>3</th>\n",
       "      <td>False</td>\n",
       "      <td>know youre thinking limitless bradley cooper c...</td>\n",
       "      <td>POSITIVE</td>\n",
       "      <td>lara croft glimmer</td>\n",
       "      <td>47.0</td>\n",
       "      <td>[Action, Mystery &amp; thriller, Sci-fi]</td>\n",
       "      <td>0</td>\n",
       "      <td>0</td>\n",
       "      <td>0</td>\n",
       "      <td>0</td>\n",
       "      <td>...</td>\n",
       "      <td>0</td>\n",
       "      <td>0</td>\n",
       "      <td>0</td>\n",
       "      <td>0</td>\n",
       "      <td>1</td>\n",
       "      <td>0</td>\n",
       "      <td>0</td>\n",
       "      <td>0</td>\n",
       "      <td>0</td>\n",
       "      <td>0</td>\n",
       "    </tr>\n",
       "    <tr>\n",
       "      <th>4</th>\n",
       "      <td>False</td>\n",
       "      <td>director fernando meirelles tells story urgenc...</td>\n",
       "      <td>POSITIVE</td>\n",
       "      <td>jason bourne surreal terminator indiana jones</td>\n",
       "      <td>97.0</td>\n",
       "      <td>[Crime, Drama]</td>\n",
       "      <td>0</td>\n",
       "      <td>0</td>\n",
       "      <td>0</td>\n",
       "      <td>0</td>\n",
       "      <td>...</td>\n",
       "      <td>0</td>\n",
       "      <td>1</td>\n",
       "      <td>0</td>\n",
       "      <td>0</td>\n",
       "      <td>0</td>\n",
       "      <td>0</td>\n",
       "      <td>0</td>\n",
       "      <td>0</td>\n",
       "      <td>0</td>\n",
       "      <td>0</td>\n",
       "    </tr>\n",
       "  </tbody>\n",
       "</table>\n",
       "<p>5 rows × 40 columns</p>\n",
       "</div>"
      ],
      "text/plain": [
       "   isFrequentReviewer                                         reviewText  \\\n",
       "0               False  henry selicks first movie since coraline fifth...   \n",
       "1               False  cast reads like vogue oscar party guest list v...   \n",
       "2                True  creed ii give us anything another slightly sup...   \n",
       "3               False  know youre thinking limitless bradley cooper c...   \n",
       "4               False  director fernando meirelles tells story urgenc...   \n",
       "\n",
       "  sentiment                                              title  audienceScore  \\\n",
       "0  POSITIVE                                   marvelous pirate           65.0   \n",
       "1  NEGATIVE          tony montana frodo baggins v rocky balboa           47.0   \n",
       "2  POSITIVE  darth vader katniss everdeen sorcerer donnie d...           80.0   \n",
       "3  POSITIVE                                 lara croft glimmer           47.0   \n",
       "4  POSITIVE      jason bourne surreal terminator indiana jones           97.0   \n",
       "\n",
       "                                     genre  Comedy  Lgbtq+  Holiday  \\\n",
       "0  [Comedy, Animation, Adventure, Fantasy]       1       0        0   \n",
       "1       [Holiday, Romance, Comedy, Lgbtq+]       1       1        1   \n",
       "2                                  [Drama]       0       0        0   \n",
       "3     [Action, Mystery & thriller, Sci-fi]       0       0        0   \n",
       "4                           [Crime, Drama]       0       0        0   \n",
       "\n",
       "   Animation  ...  Documentary  Drama  War  Romance  Mystery & thriller  \\\n",
       "0          1  ...            0      0    0        0                   0   \n",
       "1          0  ...            0      0    0        1                   0   \n",
       "2          0  ...            0      1    0        0                   0   \n",
       "3          0  ...            0      0    0        0                   1   \n",
       "4          0  ...            0      1    0        0                   0   \n",
       "\n",
       "   Anime  Adventure  Musical  News  Faith & spirituality  \n",
       "0      0          1        0     0                     0  \n",
       "1      0          0        0     0                     0  \n",
       "2      0          0        0     0                     0  \n",
       "3      0          0        0     0                     0  \n",
       "4      0          0        0     0                     0  \n",
       "\n",
       "[5 rows x 40 columns]"
      ]
     },
     "execution_count": 38,
     "metadata": {},
     "output_type": "execute_result"
    }
   ],
   "source": [
    "merged_train.head()"
   ]
  },
  {
   "cell_type": "markdown",
   "id": "02635aab",
   "metadata": {
    "papermill": {
     "duration": 0.043867,
     "end_time": "2023-08-11T17:46:48.549673",
     "exception": false,
     "start_time": "2023-08-11T17:46:48.505806",
     "status": "completed"
    },
    "tags": []
   },
   "source": [
    "#### Let's check for the top 30 words after processing the text data and removing stopwords."
   ]
  },
  {
   "cell_type": "code",
   "execution_count": 39,
   "id": "dad03436",
   "metadata": {
    "execution": {
     "iopub.execute_input": "2023-08-11T17:46:48.639605Z",
     "iopub.status.busy": "2023-08-11T17:46:48.638969Z",
     "iopub.status.idle": "2023-08-11T17:47:43.387684Z",
     "shell.execute_reply": "2023-08-11T17:47:43.386766Z"
    },
    "papermill": {
     "duration": 54.796665,
     "end_time": "2023-08-11T17:47:43.390385",
     "exception": false,
     "start_time": "2023-08-11T17:46:48.593720",
     "status": "completed"
    },
    "tags": []
   },
   "outputs": [],
   "source": [
    "corpus = merged_train['reviewText']\n",
    "vectorizer = CountVectorizer()\n",
    "X = vectorizer.fit_transform(corpus)\n",
    "counts = np.sum(X.toarray(), axis=0)\n",
    "\n",
    "words = vectorizer.get_feature_names_out()\n",
    "\n",
    "count_dict = {}\n",
    "for i in range(len(counts)):\n",
    "    count_dict[words[i]] = counts[i]\n",
    "\n",
    "count_dict = {k:v for k, v in sorted(count_dict.items(), key=lambda item: item[1], reverse=True)}\n"
   ]
  },
  {
   "cell_type": "code",
   "execution_count": 40,
   "id": "638de3ee",
   "metadata": {
    "execution": {
     "iopub.execute_input": "2023-08-11T17:47:43.478166Z",
     "iopub.status.busy": "2023-08-11T17:47:43.477484Z",
     "iopub.status.idle": "2023-08-11T17:47:44.220644Z",
     "shell.execute_reply": "2023-08-11T17:47:44.219760Z"
    },
    "papermill": {
     "duration": 0.789575,
     "end_time": "2023-08-11T17:47:44.222863",
     "exception": false,
     "start_time": "2023-08-11T17:47:43.433288",
     "status": "completed"
    },
    "tags": []
   },
   "outputs": [
    {
     "data": {
      "image/png": "[encoded data removed]",
      "text/plain": [
       "<Figure size 2000x800 with 1 Axes>"
      ]
     },
     "metadata": {},
     "output_type": "display_data"
    }
   ],
   "source": [
    "plt.figure(figsize=(20,8))\n",
    "sns.barplot(x=list(count_dict.keys())[:30],y=list(count_dict.values())[:30])\n",
    "plt.show()"
   ]
  },
  {
   "cell_type": "markdown",
   "id": "45c98728",
   "metadata": {
    "papermill": {
     "duration": 0.04551,
     "end_time": "2023-08-11T17:47:44.313575",
     "exception": false,
     "start_time": "2023-08-11T17:47:44.268065",
     "status": "completed"
    },
    "tags": []
   },
   "source": [
    "#### As we can see, there are a lot less stop words as compared to the previous barplot. The irrelevant words such as 'the', 'it', 'its' etc. have been removed and now we have the relevant words in our dataset. \n",
    "#### However, it must be considered that because we are not using any Natural Language Processing libraries, the level of cleanliness of the text data will be very elss as compared to libraries such as nltk or wordnet since we are using a custom list of stopwords which only has a  limited number of stop words whereas the libraries contain a vast vocabulary for the same purpose."
   ]
  },
  {
   "cell_type": "code",
   "execution_count": 41,
   "id": "97e0551b",
   "metadata": {
    "execution": {
     "iopub.execute_input": "2023-08-11T17:47:44.402981Z",
     "iopub.status.busy": "2023-08-11T17:47:44.402516Z",
     "iopub.status.idle": "2023-08-11T17:47:44.443696Z",
     "shell.execute_reply": "2023-08-11T17:47:44.442461Z"
    },
    "papermill": {
     "duration": 0.089573,
     "end_time": "2023-08-11T17:47:44.446720",
     "exception": false,
     "start_time": "2023-08-11T17:47:44.357147",
     "status": "completed"
    },
    "tags": []
   },
   "outputs": [],
   "source": [
    "X, y = merged_train.drop('sentiment', axis=1), merged_train['sentiment']"
   ]
  },
  {
   "cell_type": "code",
   "execution_count": 42,
   "id": "637a4a63",
   "metadata": {
    "execution": {
     "iopub.execute_input": "2023-08-11T17:47:44.559762Z",
     "iopub.status.busy": "2023-08-11T17:47:44.559297Z",
     "iopub.status.idle": "2023-08-11T17:47:44.620395Z",
     "shell.execute_reply": "2023-08-11T17:47:44.619124Z"
    },
    "papermill": {
     "duration": 0.126107,
     "end_time": "2023-08-11T17:47:44.624057",
     "exception": false,
     "start_time": "2023-08-11T17:47:44.497950",
     "status": "completed"
    },
    "tags": []
   },
   "outputs": [],
   "source": [
    "X.drop(columns=\"genre\",inplace=True)"
   ]
  },
  {
   "cell_type": "markdown",
   "id": "8e39f8d3",
   "metadata": {
    "papermill": {
     "duration": 0.053109,
     "end_time": "2023-08-11T17:47:44.726784",
     "exception": false,
     "start_time": "2023-08-11T17:47:44.673675",
     "status": "completed"
    },
    "tags": []
   },
   "source": [
    "### Constructing a Column Transformer to apply Encoding and Scaling "
   ]
  },
  {
   "cell_type": "code",
   "execution_count": 43,
   "id": "7796c110",
   "metadata": {
    "execution": {
     "iopub.execute_input": "2023-08-11T17:47:44.818607Z",
     "iopub.status.busy": "2023-08-11T17:47:44.817547Z",
     "iopub.status.idle": "2023-08-11T17:47:44.826061Z",
     "shell.execute_reply": "2023-08-11T17:47:44.824824Z"
    },
    "papermill": {
     "duration": 0.05764,
     "end_time": "2023-08-11T17:47:44.828831",
     "exception": false,
     "start_time": "2023-08-11T17:47:44.771191",
     "status": "completed"
    },
    "tags": []
   },
   "outputs": [],
   "source": [
    "transformer = ColumnTransformer([\n",
    "    (\"title_tfidf\",TfidfVectorizer(ngram_range=(1,3), min_df=0.00001), \"title\"),\n",
    "    (\"review_tfidf\", TfidfVectorizer(ngram_range=(1,3), min_df=0.00001), 'reviewText'),\n",
    "    (\"frequentReviewer_encoder\",OrdinalEncoder(),[\"isFrequentReviewer\"]),\n",
    "    (\"score_scaler\",MaxAbsScaler(), [\"audienceScore\"])\n",
    "], remainder='passthrough', n_jobs=-1, verbose=True)\n",
    "# feature_selector = SelectKBest(score_func=chi2, k=500000)"
   ]
  },
  {
   "cell_type": "markdown",
   "id": "8b3b18f0",
   "metadata": {
    "papermill": {
     "duration": 0.04637,
     "end_time": "2023-08-11T17:47:44.923983",
     "exception": false,
     "start_time": "2023-08-11T17:47:44.877613",
     "status": "completed"
    },
    "tags": []
   },
   "source": [
    "#### Let's check how our tranformed data looks like"
   ]
  },
  {
   "cell_type": "code",
   "execution_count": 44,
   "id": "ff352bff",
   "metadata": {
    "execution": {
     "iopub.execute_input": "2023-08-11T17:47:45.033402Z",
     "iopub.status.busy": "2023-08-11T17:47:45.033018Z",
     "iopub.status.idle": "2023-08-11T17:48:06.135765Z",
     "shell.execute_reply": "2023-08-11T17:48:06.134120Z"
    },
    "papermill": {
     "duration": 21.154147,
     "end_time": "2023-08-11T17:48:06.138712",
     "exception": false,
     "start_time": "2023-08-11T17:47:44.984565",
     "status": "completed"
    },
    "tags": []
   },
   "outputs": [
    {
     "data": {
      "text/plain": [
       "(162758, 289725)"
      ]
     },
     "execution_count": 44,
     "metadata": {},
     "output_type": "execute_result"
    }
   ],
   "source": [
    "feature_matrix = transformer.fit_transform(X)\n",
    "feature_matrix.shape"
   ]
  },
  {
   "cell_type": "markdown",
   "id": "b320c4a0",
   "metadata": {
    "papermill": {
     "duration": 0.045023,
     "end_time": "2023-08-11T17:48:06.230506",
     "exception": false,
     "start_time": "2023-08-11T17:48:06.185483",
     "status": "completed"
    },
    "tags": []
   },
   "source": [
    "#### The transformed feature_matrix looks has a lot of features compared to when it was not transformed that's because most of our features were text columns and the words in those columns have been converted into features and thus resulting in a large number of features. \n",
    "#### We will be using Feature selection tehcniques to see which one gives us the best results."
   ]
  },
  {
   "cell_type": "markdown",
   "id": "63121c0c",
   "metadata": {
    "papermill": {
     "duration": 0.046491,
     "end_time": "2023-08-11T17:48:06.322482",
     "exception": false,
     "start_time": "2023-08-11T17:48:06.275991",
     "status": "completed"
    },
    "tags": []
   },
   "source": [
    "# Logistic Regression Pipeline"
   ]
  },
  {
   "cell_type": "code",
   "execution_count": 45,
   "id": "8bad8758",
   "metadata": {
    "execution": {
     "iopub.execute_input": "2023-08-11T17:48:06.417099Z",
     "iopub.status.busy": "2023-08-11T17:48:06.416631Z",
     "iopub.status.idle": "2023-08-11T17:48:06.424638Z",
     "shell.execute_reply": "2023-08-11T17:48:06.422994Z"
    },
    "papermill": {
     "duration": 0.060209,
     "end_time": "2023-08-11T17:48:06.427898",
     "exception": false,
     "start_time": "2023-08-11T17:48:06.367689",
     "status": "completed"
    },
    "tags": []
   },
   "outputs": [],
   "source": [
    "logistic_pipe = Pipeline([(\"transformer\", transformer),\n",
    "#                           (\"feature_selector\", feature_selector),\n",
    "                          ('LogReg', LogisticRegressionCV(random_state=10,max_iter=300, solver='liblinear', penalty='l2',fit_intercept=True,cv=5, n_jobs=-1))],\n",
    "               verbose=True)"
   ]
  },
  {
   "cell_type": "code",
   "execution_count": 46,
   "id": "3273f87d",
   "metadata": {
    "_kg_hide-input": true,
    "_kg_hide-output": true,
    "execution": {
     "iopub.execute_input": "2023-08-11T17:48:06.522955Z",
     "iopub.status.busy": "2023-08-11T17:48:06.522464Z",
     "iopub.status.idle": "2023-08-11T17:48:06.529010Z",
     "shell.execute_reply": "2023-08-11T17:48:06.527481Z"
    },
    "papermill": {
     "duration": 0.055864,
     "end_time": "2023-08-11T17:48:06.531646",
     "exception": false,
     "start_time": "2023-08-11T17:48:06.475782",
     "status": "completed"
    },
    "tags": []
   },
   "outputs": [],
   "source": [
    "# param_dist = {\n",
    "#     'LogReg__fit_intercept': [True, False],\n",
    "#     'LogReg__class_weight': [None, 'balanced'],\n",
    "#     'LogReg__penalty': ['l1', 'l2', 'elasticnet'],\n",
    "#     'LogReg__tol': [1e-4, 1e-3, 1e-2]\n",
    "    \n",
    "# }\n",
    "# random_search = RandomizedSearchCV(\n",
    "#     logistic_pipe,\n",
    "#     param_distributions=param_dist,\n",
    "#     n_iter=10,      \n",
    "#     n_jobs=-1,  \n",
    "#     verbose=2  \n",
    "# )\n",
    "# random_search.fit(X, y)\n",
    "# best_hyperparameters = random_search.best_params_\n",
    "# best_model = random_search.best_estimator_\n",
    "# print(best_hyperparameters, best_model)"
   ]
  },
  {
   "cell_type": "code",
   "execution_count": 47,
   "id": "d423d764",
   "metadata": {
    "execution": {
     "iopub.execute_input": "2023-08-11T17:48:06.628201Z",
     "iopub.status.busy": "2023-08-11T17:48:06.627597Z",
     "iopub.status.idle": "2023-08-11T18:20:33.652606Z",
     "shell.execute_reply": "2023-08-11T18:20:33.650999Z"
    },
    "papermill": {
     "duration": 1947.121137,
     "end_time": "2023-08-11T18:20:33.698749",
     "exception": false,
     "start_time": "2023-08-11T17:48:06.577612",
     "status": "completed"
    },
    "tags": []
   },
   "outputs": [
    {
     "name": "stdout",
     "output_type": "stream",
     "text": [
      "[Pipeline] ....... (step 1 of 2) Processing transformer, total=  18.5s\n",
      "[ColumnTransformer]  (3 of 5) Processing frequentReviewer_encoder, total=   0.0s\n",
      "[ColumnTransformer] ..... (5 of 5) Processing remainder, total=   0.0s\n",
      "[ColumnTransformer] .. (2 of 5) Processing review_tfidf, total=  14.2s\n",
      "[ColumnTransformer] .. (4 of 5) Processing score_scaler, total=   0.0s\n",
      "[ColumnTransformer] ... (1 of 5) Processing title_tfidf, total=   4.3s\n",
      "[ColumnTransformer] .. (2 of 5) Processing review_tfidf, total=  14.9s\n",
      "[ColumnTransformer] .. (4 of 5) Processing score_scaler, total=   0.0s\n",
      "[Pipeline] ............ (step 2 of 2) Processing LogReg, total=32.1min\n"
     ]
    },
    {
     "data": {
      "text/html": [
       "<style>#sk-container-id-1 {color: black;background-color: white;}#sk-container-id-1 pre{padding: 0;}#sk-container-id-1 div.sk-toggleable {background-color: white;}#sk-container-id-1 label.sk-toggleable__label {cursor: pointer;display: block;width: 100%;margin-bottom: 0;padding: 0.3em;box-sizing: border-box;text-align: center;}#sk-container-id-1 label.sk-toggleable__label-arrow:before {content: \"▸\";float: left;margin-right: 0.25em;color: #696969;}#sk-container-id-1 label.sk-toggleable__label-arrow:hover:before {color: black;}#sk-container-id-1 div.sk-estimator:hover label.sk-toggleable__label-arrow:before {color: black;}#sk-container-id-1 div.sk-toggleable__content {max-height: 0;max-width: 0;overflow: hidden;text-align: left;background-color: #f0f8ff;}#sk-container-id-1 div.sk-toggleable__content pre {margin: 0.2em;color: black;border-radius: 0.25em;background-color: #f0f8ff;}#sk-container-id-1 input.sk-toggleable__control:checked~div.sk-toggleable__content {max-height: 200px;max-width: 100%;overflow: auto;}#sk-container-id-1 input.sk-toggleable__control:checked~label.sk-toggleable__label-arrow:before {content: \"▾\";}#sk-container-id-1 div.sk-estimator input.sk-toggleable__control:checked~label.sk-toggleable__label {background-color: #d4ebff;}#sk-container-id-1 div.sk-label input.sk-toggleable__control:checked~label.sk-toggleable__label {background-color: #d4ebff;}#sk-container-id-1 input.sk-hidden--visually {border: 0;clip: rect(1px 1px 1px 1px);clip: rect(1px, 1px, 1px, 1px);height: 1px;margin: -1px;overflow: hidden;padding: 0;position: absolute;width: 1px;}#sk-container-id-1 div.sk-estimator {font-family: monospace;background-color: #f0f8ff;border: 1px dotted black;border-radius: 0.25em;box-sizing: border-box;margin-bottom: 0.5em;}#sk-container-id-1 div.sk-estimator:hover {background-color: #d4ebff;}#sk-container-id-1 div.sk-parallel-item::after {content: \"\";width: 100%;border-bottom: 1px solid gray;flex-grow: 1;}#sk-container-id-1 div.sk-label:hover label.sk-toggleable__label {background-color: #d4ebff;}#sk-container-id-1 div.sk-serial::before {content: \"\";position: absolute;border-left: 1px solid gray;box-sizing: border-box;top: 0;bottom: 0;left: 50%;z-index: 0;}#sk-container-id-1 div.sk-serial {display: flex;flex-direction: column;align-items: center;background-color: white;padding-right: 0.2em;padding-left: 0.2em;position: relative;}#sk-container-id-1 div.sk-item {position: relative;z-index: 1;}#sk-container-id-1 div.sk-parallel {display: flex;align-items: stretch;justify-content: center;background-color: white;position: relative;}#sk-container-id-1 div.sk-item::before, #sk-container-id-1 div.sk-parallel-item::before {content: \"\";position: absolute;border-left: 1px solid gray;box-sizing: border-box;top: 0;bottom: 0;left: 50%;z-index: -1;}#sk-container-id-1 div.sk-parallel-item {display: flex;flex-direction: column;z-index: 1;position: relative;background-color: white;}#sk-container-id-1 div.sk-parallel-item:first-child::after {align-self: flex-end;width: 50%;}#sk-container-id-1 div.sk-parallel-item:last-child::after {align-self: flex-start;width: 50%;}#sk-container-id-1 div.sk-parallel-item:only-child::after {width: 0;}#sk-container-id-1 div.sk-dashed-wrapped {border: 1px dashed gray;margin: 0 0.4em 0.5em 0.4em;box-sizing: border-box;padding-bottom: 0.4em;background-color: white;}#sk-container-id-1 div.sk-label label {font-family: monospace;font-weight: bold;display: inline-block;line-height: 1.2em;}#sk-container-id-1 div.sk-label-container {text-align: center;}#sk-container-id-1 div.sk-container {/* jupyter's `normalize.less` sets `[hidden] { display: none; }` but bootstrap.min.css set `[hidden] { display: none !important; }` so we also need the `!important` here to be able to override the default hidden behavior on the sphinx rendered scikit-learn.org. See: https://github.com/scikit-learn/scikit-learn/issues/21755 */display: inline-block !important;position: relative;}#sk-container-id-1 div.sk-text-repr-fallback {display: none;}</style><div id=\"sk-container-id-1\" class=\"sk-top-container\"><div class=\"sk-text-repr-fallback\"><pre>Pipeline(steps=[(&#x27;transformer&#x27;,\n",
       "                 ColumnTransformer(n_jobs=-1, remainder=&#x27;passthrough&#x27;,\n",
       "                                   transformers=[(&#x27;title_tfidf&#x27;,\n",
       "                                                  TfidfVectorizer(min_df=1e-05,\n",
       "                                                                  ngram_range=(1,\n",
       "                                                                               3)),\n",
       "                                                  &#x27;title&#x27;),\n",
       "                                                 (&#x27;review_tfidf&#x27;,\n",
       "                                                  TfidfVectorizer(min_df=1e-05,\n",
       "                                                                  ngram_range=(1,\n",
       "                                                                               3)),\n",
       "                                                  &#x27;reviewText&#x27;),\n",
       "                                                 (&#x27;frequentReviewer_encoder&#x27;,\n",
       "                                                  OrdinalEncoder(),\n",
       "                                                  [&#x27;isFrequentReviewer&#x27;]),\n",
       "                                                 (&#x27;score_scaler&#x27;,\n",
       "                                                  MaxAbsScaler(),\n",
       "                                                  [&#x27;audienceScore&#x27;])],\n",
       "                                   verbose=True)),\n",
       "                (&#x27;LogReg&#x27;,\n",
       "                 LogisticRegressionCV(cv=5, max_iter=300, n_jobs=-1,\n",
       "                                      random_state=10, solver=&#x27;liblinear&#x27;))],\n",
       "         verbose=True)</pre><b>In a Jupyter environment, please rerun this cell to show the HTML representation or trust the notebook. <br />On GitHub, the HTML representation is unable to render, please try loading this page with nbviewer.org.</b></div><div class=\"sk-container\" hidden><div class=\"sk-item sk-dashed-wrapped\"><div class=\"sk-label-container\"><div class=\"sk-label sk-toggleable\"><input class=\"sk-toggleable__control sk-hidden--visually\" id=\"sk-estimator-id-1\" type=\"checkbox\" ><label for=\"sk-estimator-id-1\" class=\"sk-toggleable__label sk-toggleable__label-arrow\">Pipeline</label><div class=\"sk-toggleable__content\"><pre>Pipeline(steps=[(&#x27;transformer&#x27;,\n",
       "                 ColumnTransformer(n_jobs=-1, remainder=&#x27;passthrough&#x27;,\n",
       "                                   transformers=[(&#x27;title_tfidf&#x27;,\n",
       "                                                  TfidfVectorizer(min_df=1e-05,\n",
       "                                                                  ngram_range=(1,\n",
       "                                                                               3)),\n",
       "                                                  &#x27;title&#x27;),\n",
       "                                                 (&#x27;review_tfidf&#x27;,\n",
       "                                                  TfidfVectorizer(min_df=1e-05,\n",
       "                                                                  ngram_range=(1,\n",
       "                                                                               3)),\n",
       "                                                  &#x27;reviewText&#x27;),\n",
       "                                                 (&#x27;frequentReviewer_encoder&#x27;,\n",
       "                                                  OrdinalEncoder(),\n",
       "                                                  [&#x27;isFrequentReviewer&#x27;]),\n",
       "                                                 (&#x27;score_scaler&#x27;,\n",
       "                                                  MaxAbsScaler(),\n",
       "                                                  [&#x27;audienceScore&#x27;])],\n",
       "                                   verbose=True)),\n",
       "                (&#x27;LogReg&#x27;,\n",
       "                 LogisticRegressionCV(cv=5, max_iter=300, n_jobs=-1,\n",
       "                                      random_state=10, solver=&#x27;liblinear&#x27;))],\n",
       "         verbose=True)</pre></div></div></div><div class=\"sk-serial\"><div class=\"sk-item sk-dashed-wrapped\"><div class=\"sk-label-container\"><div class=\"sk-label sk-toggleable\"><input class=\"sk-toggleable__control sk-hidden--visually\" id=\"sk-estimator-id-2\" type=\"checkbox\" ><label for=\"sk-estimator-id-2\" class=\"sk-toggleable__label sk-toggleable__label-arrow\">transformer: ColumnTransformer</label><div class=\"sk-toggleable__content\"><pre>ColumnTransformer(n_jobs=-1, remainder=&#x27;passthrough&#x27;,\n",
       "                  transformers=[(&#x27;title_tfidf&#x27;,\n",
       "                                 TfidfVectorizer(min_df=1e-05,\n",
       "                                                 ngram_range=(1, 3)),\n",
       "                                 &#x27;title&#x27;),\n",
       "                                (&#x27;review_tfidf&#x27;,\n",
       "                                 TfidfVectorizer(min_df=1e-05,\n",
       "                                                 ngram_range=(1, 3)),\n",
       "                                 &#x27;reviewText&#x27;),\n",
       "                                (&#x27;frequentReviewer_encoder&#x27;, OrdinalEncoder(),\n",
       "                                 [&#x27;isFrequentReviewer&#x27;]),\n",
       "                                (&#x27;score_scaler&#x27;, MaxAbsScaler(),\n",
       "                                 [&#x27;audienceScore&#x27;])],\n",
       "                  verbose=True)</pre></div></div></div><div class=\"sk-parallel\"><div class=\"sk-parallel-item\"><div class=\"sk-item\"><div class=\"sk-label-container\"><div class=\"sk-label sk-toggleable\"><input class=\"sk-toggleable__control sk-hidden--visually\" id=\"sk-estimator-id-3\" type=\"checkbox\" ><label for=\"sk-estimator-id-3\" class=\"sk-toggleable__label sk-toggleable__label-arrow\">title_tfidf</label><div class=\"sk-toggleable__content\"><pre>title</pre></div></div></div><div class=\"sk-serial\"><div class=\"sk-item\"><div class=\"sk-estimator sk-toggleable\"><input class=\"sk-toggleable__control sk-hidden--visually\" id=\"sk-estimator-id-4\" type=\"checkbox\" ><label for=\"sk-estimator-id-4\" class=\"sk-toggleable__label sk-toggleable__label-arrow\">TfidfVectorizer</label><div class=\"sk-toggleable__content\"><pre>TfidfVectorizer(min_df=1e-05, ngram_range=(1, 3))</pre></div></div></div></div></div></div><div class=\"sk-parallel-item\"><div class=\"sk-item\"><div class=\"sk-label-container\"><div class=\"sk-label sk-toggleable\"><input class=\"sk-toggleable__control sk-hidden--visually\" id=\"sk-estimator-id-5\" type=\"checkbox\" ><label for=\"sk-estimator-id-5\" class=\"sk-toggleable__label sk-toggleable__label-arrow\">review_tfidf</label><div class=\"sk-toggleable__content\"><pre>reviewText</pre></div></div></div><div class=\"sk-serial\"><div class=\"sk-item\"><div class=\"sk-estimator sk-toggleable\"><input class=\"sk-toggleable__control sk-hidden--visually\" id=\"sk-estimator-id-6\" type=\"checkbox\" ><label for=\"sk-estimator-id-6\" class=\"sk-toggleable__label sk-toggleable__label-arrow\">TfidfVectorizer</label><div class=\"sk-toggleable__content\"><pre>TfidfVectorizer(min_df=1e-05, ngram_range=(1, 3))</pre></div></div></div></div></div></div><div class=\"sk-parallel-item\"><div class=\"sk-item\"><div class=\"sk-label-container\"><div class=\"sk-label sk-toggleable\"><input class=\"sk-toggleable__control sk-hidden--visually\" id=\"sk-estimator-id-7\" type=\"checkbox\" ><label for=\"sk-estimator-id-7\" class=\"sk-toggleable__label sk-toggleable__label-arrow\">frequentReviewer_encoder</label><div class=\"sk-toggleable__content\"><pre>[&#x27;isFrequentReviewer&#x27;]</pre></div></div></div><div class=\"sk-serial\"><div class=\"sk-item\"><div class=\"sk-estimator sk-toggleable\"><input class=\"sk-toggleable__control sk-hidden--visually\" id=\"sk-estimator-id-8\" type=\"checkbox\" ><label for=\"sk-estimator-id-8\" class=\"sk-toggleable__label sk-toggleable__label-arrow\">OrdinalEncoder</label><div class=\"sk-toggleable__content\"><pre>OrdinalEncoder()</pre></div></div></div></div></div></div><div class=\"sk-parallel-item\"><div class=\"sk-item\"><div class=\"sk-label-container\"><div class=\"sk-label sk-toggleable\"><input class=\"sk-toggleable__control sk-hidden--visually\" id=\"sk-estimator-id-9\" type=\"checkbox\" ><label for=\"sk-estimator-id-9\" class=\"sk-toggleable__label sk-toggleable__label-arrow\">score_scaler</label><div class=\"sk-toggleable__content\"><pre>[&#x27;audienceScore&#x27;]</pre></div></div></div><div class=\"sk-serial\"><div class=\"sk-item\"><div class=\"sk-estimator sk-toggleable\"><input class=\"sk-toggleable__control sk-hidden--visually\" id=\"sk-estimator-id-10\" type=\"checkbox\" ><label for=\"sk-estimator-id-10\" class=\"sk-toggleable__label sk-toggleable__label-arrow\">MaxAbsScaler</label><div class=\"sk-toggleable__content\"><pre>MaxAbsScaler()</pre></div></div></div></div></div></div><div class=\"sk-parallel-item\"><div class=\"sk-item\"><div class=\"sk-label-container\"><div class=\"sk-label sk-toggleable\"><input class=\"sk-toggleable__control sk-hidden--visually\" id=\"sk-estimator-id-11\" type=\"checkbox\" ><label for=\"sk-estimator-id-11\" class=\"sk-toggleable__label sk-toggleable__label-arrow\">remainder</label><div class=\"sk-toggleable__content\"><pre>[&#x27;Comedy&#x27;, &#x27;Lgbtq+&#x27;, &#x27;Holiday&#x27;, &#x27;Animation&#x27;, &#x27;Horror&#x27;, &#x27;Nature&#x27;, &#x27;History&#x27;, &#x27;Health &amp; wellness&#x27;, &#x27;Action&#x27;, &#x27;Sci-fi&#x27;, &#x27;Short&#x27;, &#x27;Kids &amp; family&#x27;, &#x27;Variety&#x27;, &#x27;Music&#x27;, &#x27;Other&#x27;, &#x27;Stand-up&#x27;, &#x27;Crime&#x27;, &#x27;Biography&#x27;, &#x27;Fantasy&#x27;, &#x27;Sports &amp; fitness&#x27;, &#x27;Gay &amp; lesbian&#x27;, &#x27;Sports&#x27;, &#x27;Western&#x27;, &#x27;Foreign&#x27;, &#x27;Documentary&#x27;, &#x27;Drama&#x27;, &#x27;War&#x27;, &#x27;Romance&#x27;, &#x27;Mystery &amp; thriller&#x27;, &#x27;Anime&#x27;, &#x27;Adventure&#x27;, &#x27;Musical&#x27;, &#x27;News&#x27;, &#x27;Faith &amp; spirituality&#x27;]</pre></div></div></div><div class=\"sk-serial\"><div class=\"sk-item\"><div class=\"sk-estimator sk-toggleable\"><input class=\"sk-toggleable__control sk-hidden--visually\" id=\"sk-estimator-id-12\" type=\"checkbox\" ><label for=\"sk-estimator-id-12\" class=\"sk-toggleable__label sk-toggleable__label-arrow\">passthrough</label><div class=\"sk-toggleable__content\"><pre>passthrough</pre></div></div></div></div></div></div></div></div><div class=\"sk-item\"><div class=\"sk-estimator sk-toggleable\"><input class=\"sk-toggleable__control sk-hidden--visually\" id=\"sk-estimator-id-13\" type=\"checkbox\" ><label for=\"sk-estimator-id-13\" class=\"sk-toggleable__label sk-toggleable__label-arrow\">LogisticRegressionCV</label><div class=\"sk-toggleable__content\"><pre>LogisticRegressionCV(cv=5, max_iter=300, n_jobs=-1, random_state=10,\n",
       "                     solver=&#x27;liblinear&#x27;)</pre></div></div></div></div></div></div></div>"
      ],
      "text/plain": [
       "Pipeline(steps=[('transformer',\n",
       "                 ColumnTransformer(n_jobs=-1, remainder='passthrough',\n",
       "                                   transformers=[('title_tfidf',\n",
       "                                                  TfidfVectorizer(min_df=1e-05,\n",
       "                                                                  ngram_range=(1,\n",
       "                                                                               3)),\n",
       "                                                  'title'),\n",
       "                                                 ('review_tfidf',\n",
       "                                                  TfidfVectorizer(min_df=1e-05,\n",
       "                                                                  ngram_range=(1,\n",
       "                                                                               3)),\n",
       "                                                  'reviewText'),\n",
       "                                                 ('frequentReviewer_encoder',\n",
       "                                                  OrdinalEncoder(),\n",
       "                                                  ['isFrequentReviewer']),\n",
       "                                                 ('score_scaler',\n",
       "                                                  MaxAbsScaler(),\n",
       "                                                  ['audienceScore'])],\n",
       "                                   verbose=True)),\n",
       "                ('LogReg',\n",
       "                 LogisticRegressionCV(cv=5, max_iter=300, n_jobs=-1,\n",
       "                                      random_state=10, solver='liblinear'))],\n",
       "         verbose=True)"
      ]
     },
     "execution_count": 47,
     "metadata": {},
     "output_type": "execute_result"
    }
   ],
   "source": [
    "logistic_pipe.fit(X,y)"
   ]
  },
  {
   "cell_type": "code",
   "execution_count": 48,
   "id": "ed68aef0",
   "metadata": {
    "execution": {
     "iopub.execute_input": "2023-08-11T18:20:33.788708Z",
     "iopub.status.busy": "2023-08-11T18:20:33.788201Z",
     "iopub.status.idle": "2023-08-11T18:20:49.325030Z",
     "shell.execute_reply": "2023-08-11T18:20:49.323160Z"
    },
    "papermill": {
     "duration": 15.586088,
     "end_time": "2023-08-11T18:20:49.328313",
     "exception": false,
     "start_time": "2023-08-11T18:20:33.742225",
     "status": "completed"
    },
    "tags": []
   },
   "outputs": [],
   "source": [
    "train_pred_logistic = logistic_pipe.predict(X)\n"
   ]
  },
  {
   "cell_type": "code",
   "execution_count": 49,
   "id": "5dfba0ed",
   "metadata": {
    "execution": {
     "iopub.execute_input": "2023-08-11T18:20:49.417940Z",
     "iopub.status.busy": "2023-08-11T18:20:49.417472Z",
     "iopub.status.idle": "2023-08-11T18:20:55.988473Z",
     "shell.execute_reply": "2023-08-11T18:20:55.987267Z"
    },
    "papermill": {
     "duration": 6.620355,
     "end_time": "2023-08-11T18:20:55.992325",
     "exception": false,
     "start_time": "2023-08-11T18:20:49.371970",
     "status": "completed"
    },
    "tags": []
   },
   "outputs": [],
   "source": [
    "y_pred_logistic = logistic_pipe.predict(merged_test)"
   ]
  },
  {
   "cell_type": "code",
   "execution_count": 50,
   "id": "6b16f0ce",
   "metadata": {
    "execution": {
     "iopub.execute_input": "2023-08-11T18:20:56.103814Z",
     "iopub.status.busy": "2023-08-11T18:20:56.103371Z",
     "iopub.status.idle": "2023-08-11T18:21:09.942455Z",
     "shell.execute_reply": "2023-08-11T18:21:09.940647Z"
    },
    "papermill": {
     "duration": 13.887764,
     "end_time": "2023-08-11T18:21:09.945530",
     "exception": false,
     "start_time": "2023-08-11T18:20:56.057766",
     "status": "completed"
    },
    "tags": []
   },
   "outputs": [
    {
     "data": {
      "text/plain": [
       "0.9310817287015077"
      ]
     },
     "execution_count": 50,
     "metadata": {},
     "output_type": "execute_result"
    }
   ],
   "source": [
    "logistic_pipe.score(X,y) "
   ]
  },
  {
   "cell_type": "code",
   "execution_count": 51,
   "id": "0e675b90",
   "metadata": {
    "execution": {
     "iopub.execute_input": "2023-08-11T18:21:10.037974Z",
     "iopub.status.busy": "2023-08-11T18:21:10.036934Z",
     "iopub.status.idle": "2023-08-11T18:21:24.791977Z",
     "shell.execute_reply": "2023-08-11T18:21:24.790921Z"
    },
    "papermill": {
     "duration": 14.803868,
     "end_time": "2023-08-11T18:21:24.794772",
     "exception": false,
     "start_time": "2023-08-11T18:21:09.990904",
     "status": "completed"
    },
    "tags": []
   },
   "outputs": [
    {
     "name": "stdout",
     "output_type": "stream",
     "text": [
      "              precision    recall  f1-score   support\n",
      "\n",
      "    NEGATIVE       0.93      0.85      0.89     53997\n",
      "    POSITIVE       0.93      0.97      0.95    108761\n",
      "\n",
      "    accuracy                           0.93    162758\n",
      "   macro avg       0.93      0.91      0.92    162758\n",
      "weighted avg       0.93      0.93      0.93    162758\n",
      "\n"
     ]
    }
   ],
   "source": [
    "print(skm.classification_report(y,train_pred_logistic))"
   ]
  },
  {
   "cell_type": "code",
   "execution_count": 52,
   "id": "999fb356",
   "metadata": {
    "execution": {
     "iopub.execute_input": "2023-08-11T18:21:24.889799Z",
     "iopub.status.busy": "2023-08-11T18:21:24.889339Z",
     "iopub.status.idle": "2023-08-11T18:21:27.603617Z",
     "shell.execute_reply": "2023-08-11T18:21:27.602506Z"
    },
    "papermill": {
     "duration": 2.764667,
     "end_time": "2023-08-11T18:21:27.606035",
     "exception": false,
     "start_time": "2023-08-11T18:21:24.841368",
     "status": "completed"
    },
    "tags": []
   },
   "outputs": [
    {
     "data": {
      "image/png": "[encoded data removed]",
      "text/plain": [
       "<Figure size 640x480 with 2 Axes>"
      ]
     },
     "metadata": {},
     "output_type": "display_data"
    }
   ],
   "source": [
    "conf_mat = skm.confusion_matrix(y,train_pred_logistic)\n",
    "disp = skm.ConfusionMatrixDisplay(confusion_matrix=conf_mat, display_labels=logistic_pipe[-1].classes_)\n",
    "disp.plot()\n",
    "plt.show()"
   ]
  },
  {
   "cell_type": "code",
   "execution_count": 53,
   "id": "7f266dac",
   "metadata": {
    "execution": {
     "iopub.execute_input": "2023-08-11T18:21:27.706241Z",
     "iopub.status.busy": "2023-08-11T18:21:27.704873Z",
     "iopub.status.idle": "2023-08-11T18:21:42.950232Z",
     "shell.execute_reply": "2023-08-11T18:21:42.948525Z"
    },
    "papermill": {
     "duration": 15.298164,
     "end_time": "2023-08-11T18:21:42.953215",
     "exception": false,
     "start_time": "2023-08-11T18:21:27.655051",
     "status": "completed"
    },
    "tags": []
   },
   "outputs": [
    {
     "data": {
      "image/png": "[encoded data removed]",
      "text/plain": [
       "<Figure size 640x480 with 1 Axes>"
      ]
     },
     "metadata": {},
     "output_type": "display_data"
    }
   ],
   "source": [
    "display_svc = skm.PrecisionRecallDisplay.from_estimator(\n",
    "    logistic_pipe, X, y, name=\"LogisticRegression\"\n",
    ")"
   ]
  },
  {
   "cell_type": "markdown",
   "id": "0d80dd3a",
   "metadata": {
    "papermill": {
     "duration": 0.046889,
     "end_time": "2023-08-11T18:21:43.046932",
     "exception": false,
     "start_time": "2023-08-11T18:21:43.000043",
     "status": "completed"
    },
    "tags": []
   },
   "source": [
    "# SVM Pipeline"
   ]
  },
  {
   "cell_type": "code",
   "execution_count": 54,
   "id": "cf88670b",
   "metadata": {
    "execution": {
     "iopub.execute_input": "2023-08-11T18:21:43.141349Z",
     "iopub.status.busy": "2023-08-11T18:21:43.140537Z",
     "iopub.status.idle": "2023-08-11T18:21:43.146886Z",
     "shell.execute_reply": "2023-08-11T18:21:43.145928Z"
    },
    "papermill": {
     "duration": 0.057414,
     "end_time": "2023-08-11T18:21:43.149569",
     "exception": false,
     "start_time": "2023-08-11T18:21:43.092155",
     "status": "completed"
    },
    "tags": []
   },
   "outputs": [],
   "source": [
    "pipe_svc = Pipeline([(\"transformer\", transformer),\n",
    "#                      (\"feature_selector\", feature_selector),\n",
    "                 ('Svm', LinearSVC(C=0.20584494295802447,class_weight='balanced',dual=False,max_iter=2000,penalty='l2',tol=0.0001))],\n",
    "               verbose=True)"
   ]
  },
  {
   "cell_type": "code",
   "execution_count": 55,
   "id": "e0b4d86f",
   "metadata": {
    "execution": {
     "iopub.execute_input": "2023-08-11T18:21:43.242757Z",
     "iopub.status.busy": "2023-08-11T18:21:43.242273Z",
     "iopub.status.idle": "2023-08-11T18:21:43.247816Z",
     "shell.execute_reply": "2023-08-11T18:21:43.246657Z"
    },
    "papermill": {
     "duration": 0.055337,
     "end_time": "2023-08-11T18:21:43.250260",
     "exception": false,
     "start_time": "2023-08-11T18:21:43.194923",
     "status": "completed"
    },
    "tags": []
   },
   "outputs": [],
   "source": [
    "# param_grid = {\n",
    "#     'Svm__C': uniform(loc=0, scale=10),  # Regularization parameter C for LinearSVC\n",
    "#     'Svm__max_iter': [1000, 2000, 3000],  # Maximum number of iterations for LinearSVC\n",
    "#     'Svm__dual': [True, False],  # Use dual or primal formulation for LinearSVC\n",
    "#     'Svm__class_weight': [None, 'balanced'],\n",
    "#     'Svm__tol': [1e-3, 1e-4, 1e-5],  # Tolerance for stopping criterion\n",
    "#     'Svm__penalty': ['l1', 'l2'],  # Norm used in the penalty\n",
    "#     'Svm__fit_intercept': [True, False] # Class weight for LinearSVC\n",
    "# }\n",
    "# random_search = RandomizedSearchCV(\n",
    "#     pipe_svc,  # The pipeline\n",
    "#     param_distributions=param_grid,  # The hyperparameter grid\n",
    "#     n_iter=10,  # Number of random parameter combinations to try\n",
    "#     scoring='accuracy',  # Use accuracy as the evaluation metric\n",
    "#     n_jobs=-1,  # Use all available CPU cores for faster computation\n",
    "#     cv=5,  # Cross-validation fold\n",
    "#     random_state=42  # For reproducibility\n",
    "# )\n",
    "\n",
    "\n",
    "# random_search.fit(X,y)\n",
    "\n",
    "# best_params = random_search.best_params_\n",
    "# best_model = random_search.best_estimator_\n",
    "\n",
    "# print(best_params)\n",
    "# print(best_model)"
   ]
  },
  {
   "cell_type": "code",
   "execution_count": 56,
   "id": "578290d1",
   "metadata": {
    "execution": {
     "iopub.execute_input": "2023-08-11T18:21:43.346452Z",
     "iopub.status.busy": "2023-08-11T18:21:43.345691Z",
     "iopub.status.idle": "2023-08-11T18:22:49.264872Z",
     "shell.execute_reply": "2023-08-11T18:22:49.263190Z"
    },
    "papermill": {
     "duration": 66.015043,
     "end_time": "2023-08-11T18:22:49.313306",
     "exception": false,
     "start_time": "2023-08-11T18:21:43.298263",
     "status": "completed"
    },
    "tags": []
   },
   "outputs": [
    {
     "name": "stdout",
     "output_type": "stream",
     "text": [
      "[Pipeline] ....... (step 1 of 2) Processing transformer, total=  19.2s\n",
      "[Pipeline] ............... (step 2 of 2) Processing Svm, total=  46.7s\n"
     ]
    },
    {
     "data": {
      "text/html": [
       "<style>#sk-container-id-2 {color: black;background-color: white;}#sk-container-id-2 pre{padding: 0;}#sk-container-id-2 div.sk-toggleable {background-color: white;}#sk-container-id-2 label.sk-toggleable__label {cursor: pointer;display: block;width: 100%;margin-bottom: 0;padding: 0.3em;box-sizing: border-box;text-align: center;}#sk-container-id-2 label.sk-toggleable__label-arrow:before {content: \"▸\";float: left;margin-right: 0.25em;color: #696969;}#sk-container-id-2 label.sk-toggleable__label-arrow:hover:before {color: black;}#sk-container-id-2 div.sk-estimator:hover label.sk-toggleable__label-arrow:before {color: black;}#sk-container-id-2 div.sk-toggleable__content {max-height: 0;max-width: 0;overflow: hidden;text-align: left;background-color: #f0f8ff;}#sk-container-id-2 div.sk-toggleable__content pre {margin: 0.2em;color: black;border-radius: 0.25em;background-color: #f0f8ff;}#sk-container-id-2 input.sk-toggleable__control:checked~div.sk-toggleable__content {max-height: 200px;max-width: 100%;overflow: auto;}#sk-container-id-2 input.sk-toggleable__control:checked~label.sk-toggleable__label-arrow:before {content: \"▾\";}#sk-container-id-2 div.sk-estimator input.sk-toggleable__control:checked~label.sk-toggleable__label {background-color: #d4ebff;}#sk-container-id-2 div.sk-label input.sk-toggleable__control:checked~label.sk-toggleable__label {background-color: #d4ebff;}#sk-container-id-2 input.sk-hidden--visually {border: 0;clip: rect(1px 1px 1px 1px);clip: rect(1px, 1px, 1px, 1px);height: 1px;margin: -1px;overflow: hidden;padding: 0;position: absolute;width: 1px;}#sk-container-id-2 div.sk-estimator {font-family: monospace;background-color: #f0f8ff;border: 1px dotted black;border-radius: 0.25em;box-sizing: border-box;margin-bottom: 0.5em;}#sk-container-id-2 div.sk-estimator:hover {background-color: #d4ebff;}#sk-container-id-2 div.sk-parallel-item::after {content: \"\";width: 100%;border-bottom: 1px solid gray;flex-grow: 1;}#sk-container-id-2 div.sk-label:hover label.sk-toggleable__label {background-color: #d4ebff;}#sk-container-id-2 div.sk-serial::before {content: \"\";position: absolute;border-left: 1px solid gray;box-sizing: border-box;top: 0;bottom: 0;left: 50%;z-index: 0;}#sk-container-id-2 div.sk-serial {display: flex;flex-direction: column;align-items: center;background-color: white;padding-right: 0.2em;padding-left: 0.2em;position: relative;}#sk-container-id-2 div.sk-item {position: relative;z-index: 1;}#sk-container-id-2 div.sk-parallel {display: flex;align-items: stretch;justify-content: center;background-color: white;position: relative;}#sk-container-id-2 div.sk-item::before, #sk-container-id-2 div.sk-parallel-item::before {content: \"\";position: absolute;border-left: 1px solid gray;box-sizing: border-box;top: 0;bottom: 0;left: 50%;z-index: -1;}#sk-container-id-2 div.sk-parallel-item {display: flex;flex-direction: column;z-index: 1;position: relative;background-color: white;}#sk-container-id-2 div.sk-parallel-item:first-child::after {align-self: flex-end;width: 50%;}#sk-container-id-2 div.sk-parallel-item:last-child::after {align-self: flex-start;width: 50%;}#sk-container-id-2 div.sk-parallel-item:only-child::after {width: 0;}#sk-container-id-2 div.sk-dashed-wrapped {border: 1px dashed gray;margin: 0 0.4em 0.5em 0.4em;box-sizing: border-box;padding-bottom: 0.4em;background-color: white;}#sk-container-id-2 div.sk-label label {font-family: monospace;font-weight: bold;display: inline-block;line-height: 1.2em;}#sk-container-id-2 div.sk-label-container {text-align: center;}#sk-container-id-2 div.sk-container {/* jupyter's `normalize.less` sets `[hidden] { display: none; }` but bootstrap.min.css set `[hidden] { display: none !important; }` so we also need the `!important` here to be able to override the default hidden behavior on the sphinx rendered scikit-learn.org. See: https://github.com/scikit-learn/scikit-learn/issues/21755 */display: inline-block !important;position: relative;}#sk-container-id-2 div.sk-text-repr-fallback {display: none;}</style><div id=\"sk-container-id-2\" class=\"sk-top-container\"><div class=\"sk-text-repr-fallback\"><pre>Pipeline(steps=[(&#x27;transformer&#x27;,\n",
       "                 ColumnTransformer(n_jobs=-1, remainder=&#x27;passthrough&#x27;,\n",
       "                                   transformers=[(&#x27;title_tfidf&#x27;,\n",
       "                                                  TfidfVectorizer(min_df=1e-05,\n",
       "                                                                  ngram_range=(1,\n",
       "                                                                               3)),\n",
       "                                                  &#x27;title&#x27;),\n",
       "                                                 (&#x27;review_tfidf&#x27;,\n",
       "                                                  TfidfVectorizer(min_df=1e-05,\n",
       "                                                                  ngram_range=(1,\n",
       "                                                                               3)),\n",
       "                                                  &#x27;reviewText&#x27;),\n",
       "                                                 (&#x27;frequentReviewer_encoder&#x27;,\n",
       "                                                  OrdinalEncoder(),\n",
       "                                                  [&#x27;isFrequentReviewer&#x27;]),\n",
       "                                                 (&#x27;score_scaler&#x27;,\n",
       "                                                  MaxAbsScaler(),\n",
       "                                                  [&#x27;audienceScore&#x27;])],\n",
       "                                   verbose=True)),\n",
       "                (&#x27;Svm&#x27;,\n",
       "                 LinearSVC(C=0.20584494295802447, class_weight=&#x27;balanced&#x27;,\n",
       "                           dual=False, max_iter=2000))],\n",
       "         verbose=True)</pre><b>In a Jupyter environment, please rerun this cell to show the HTML representation or trust the notebook. <br />On GitHub, the HTML representation is unable to render, please try loading this page with nbviewer.org.</b></div><div class=\"sk-container\" hidden><div class=\"sk-item sk-dashed-wrapped\"><div class=\"sk-label-container\"><div class=\"sk-label sk-toggleable\"><input class=\"sk-toggleable__control sk-hidden--visually\" id=\"sk-estimator-id-14\" type=\"checkbox\" ><label for=\"sk-estimator-id-14\" class=\"sk-toggleable__label sk-toggleable__label-arrow\">Pipeline</label><div class=\"sk-toggleable__content\"><pre>Pipeline(steps=[(&#x27;transformer&#x27;,\n",
       "                 ColumnTransformer(n_jobs=-1, remainder=&#x27;passthrough&#x27;,\n",
       "                                   transformers=[(&#x27;title_tfidf&#x27;,\n",
       "                                                  TfidfVectorizer(min_df=1e-05,\n",
       "                                                                  ngram_range=(1,\n",
       "                                                                               3)),\n",
       "                                                  &#x27;title&#x27;),\n",
       "                                                 (&#x27;review_tfidf&#x27;,\n",
       "                                                  TfidfVectorizer(min_df=1e-05,\n",
       "                                                                  ngram_range=(1,\n",
       "                                                                               3)),\n",
       "                                                  &#x27;reviewText&#x27;),\n",
       "                                                 (&#x27;frequentReviewer_encoder&#x27;,\n",
       "                                                  OrdinalEncoder(),\n",
       "                                                  [&#x27;isFrequentReviewer&#x27;]),\n",
       "                                                 (&#x27;score_scaler&#x27;,\n",
       "                                                  MaxAbsScaler(),\n",
       "                                                  [&#x27;audienceScore&#x27;])],\n",
       "                                   verbose=True)),\n",
       "                (&#x27;Svm&#x27;,\n",
       "                 LinearSVC(C=0.20584494295802447, class_weight=&#x27;balanced&#x27;,\n",
       "                           dual=False, max_iter=2000))],\n",
       "         verbose=True)</pre></div></div></div><div class=\"sk-serial\"><div class=\"sk-item sk-dashed-wrapped\"><div class=\"sk-label-container\"><div class=\"sk-label sk-toggleable\"><input class=\"sk-toggleable__control sk-hidden--visually\" id=\"sk-estimator-id-15\" type=\"checkbox\" ><label for=\"sk-estimator-id-15\" class=\"sk-toggleable__label sk-toggleable__label-arrow\">transformer: ColumnTransformer</label><div class=\"sk-toggleable__content\"><pre>ColumnTransformer(n_jobs=-1, remainder=&#x27;passthrough&#x27;,\n",
       "                  transformers=[(&#x27;title_tfidf&#x27;,\n",
       "                                 TfidfVectorizer(min_df=1e-05,\n",
       "                                                 ngram_range=(1, 3)),\n",
       "                                 &#x27;title&#x27;),\n",
       "                                (&#x27;review_tfidf&#x27;,\n",
       "                                 TfidfVectorizer(min_df=1e-05,\n",
       "                                                 ngram_range=(1, 3)),\n",
       "                                 &#x27;reviewText&#x27;),\n",
       "                                (&#x27;frequentReviewer_encoder&#x27;, OrdinalEncoder(),\n",
       "                                 [&#x27;isFrequentReviewer&#x27;]),\n",
       "                                (&#x27;score_scaler&#x27;, MaxAbsScaler(),\n",
       "                                 [&#x27;audienceScore&#x27;])],\n",
       "                  verbose=True)</pre></div></div></div><div class=\"sk-parallel\"><div class=\"sk-parallel-item\"><div class=\"sk-item\"><div class=\"sk-label-container\"><div class=\"sk-label sk-toggleable\"><input class=\"sk-toggleable__control sk-hidden--visually\" id=\"sk-estimator-id-16\" type=\"checkbox\" ><label for=\"sk-estimator-id-16\" class=\"sk-toggleable__label sk-toggleable__label-arrow\">title_tfidf</label><div class=\"sk-toggleable__content\"><pre>title</pre></div></div></div><div class=\"sk-serial\"><div class=\"sk-item\"><div class=\"sk-estimator sk-toggleable\"><input class=\"sk-toggleable__control sk-hidden--visually\" id=\"sk-estimator-id-17\" type=\"checkbox\" ><label for=\"sk-estimator-id-17\" class=\"sk-toggleable__label sk-toggleable__label-arrow\">TfidfVectorizer</label><div class=\"sk-toggleable__content\"><pre>TfidfVectorizer(min_df=1e-05, ngram_range=(1, 3))</pre></div></div></div></div></div></div><div class=\"sk-parallel-item\"><div class=\"sk-item\"><div class=\"sk-label-container\"><div class=\"sk-label sk-toggleable\"><input class=\"sk-toggleable__control sk-hidden--visually\" id=\"sk-estimator-id-18\" type=\"checkbox\" ><label for=\"sk-estimator-id-18\" class=\"sk-toggleable__label sk-toggleable__label-arrow\">review_tfidf</label><div class=\"sk-toggleable__content\"><pre>reviewText</pre></div></div></div><div class=\"sk-serial\"><div class=\"sk-item\"><div class=\"sk-estimator sk-toggleable\"><input class=\"sk-toggleable__control sk-hidden--visually\" id=\"sk-estimator-id-19\" type=\"checkbox\" ><label for=\"sk-estimator-id-19\" class=\"sk-toggleable__label sk-toggleable__label-arrow\">TfidfVectorizer</label><div class=\"sk-toggleable__content\"><pre>TfidfVectorizer(min_df=1e-05, ngram_range=(1, 3))</pre></div></div></div></div></div></div><div class=\"sk-parallel-item\"><div class=\"sk-item\"><div class=\"sk-label-container\"><div class=\"sk-label sk-toggleable\"><input class=\"sk-toggleable__control sk-hidden--visually\" id=\"sk-estimator-id-20\" type=\"checkbox\" ><label for=\"sk-estimator-id-20\" class=\"sk-toggleable__label sk-toggleable__label-arrow\">frequentReviewer_encoder</label><div class=\"sk-toggleable__content\"><pre>[&#x27;isFrequentReviewer&#x27;]</pre></div></div></div><div class=\"sk-serial\"><div class=\"sk-item\"><div class=\"sk-estimator sk-toggleable\"><input class=\"sk-toggleable__control sk-hidden--visually\" id=\"sk-estimator-id-21\" type=\"checkbox\" ><label for=\"sk-estimator-id-21\" class=\"sk-toggleable__label sk-toggleable__label-arrow\">OrdinalEncoder</label><div class=\"sk-toggleable__content\"><pre>OrdinalEncoder()</pre></div></div></div></div></div></div><div class=\"sk-parallel-item\"><div class=\"sk-item\"><div class=\"sk-label-container\"><div class=\"sk-label sk-toggleable\"><input class=\"sk-toggleable__control sk-hidden--visually\" id=\"sk-estimator-id-22\" type=\"checkbox\" ><label for=\"sk-estimator-id-22\" class=\"sk-toggleable__label sk-toggleable__label-arrow\">score_scaler</label><div class=\"sk-toggleable__content\"><pre>[&#x27;audienceScore&#x27;]</pre></div></div></div><div class=\"sk-serial\"><div class=\"sk-item\"><div class=\"sk-estimator sk-toggleable\"><input class=\"sk-toggleable__control sk-hidden--visually\" id=\"sk-estimator-id-23\" type=\"checkbox\" ><label for=\"sk-estimator-id-23\" class=\"sk-toggleable__label sk-toggleable__label-arrow\">MaxAbsScaler</label><div class=\"sk-toggleable__content\"><pre>MaxAbsScaler()</pre></div></div></div></div></div></div><div class=\"sk-parallel-item\"><div class=\"sk-item\"><div class=\"sk-label-container\"><div class=\"sk-label sk-toggleable\"><input class=\"sk-toggleable__control sk-hidden--visually\" id=\"sk-estimator-id-24\" type=\"checkbox\" ><label for=\"sk-estimator-id-24\" class=\"sk-toggleable__label sk-toggleable__label-arrow\">remainder</label><div class=\"sk-toggleable__content\"><pre>[&#x27;Comedy&#x27;, &#x27;Lgbtq+&#x27;, &#x27;Holiday&#x27;, &#x27;Animation&#x27;, &#x27;Horror&#x27;, &#x27;Nature&#x27;, &#x27;History&#x27;, &#x27;Health &amp; wellness&#x27;, &#x27;Action&#x27;, &#x27;Sci-fi&#x27;, &#x27;Short&#x27;, &#x27;Kids &amp; family&#x27;, &#x27;Variety&#x27;, &#x27;Music&#x27;, &#x27;Other&#x27;, &#x27;Stand-up&#x27;, &#x27;Crime&#x27;, &#x27;Biography&#x27;, &#x27;Fantasy&#x27;, &#x27;Sports &amp; fitness&#x27;, &#x27;Gay &amp; lesbian&#x27;, &#x27;Sports&#x27;, &#x27;Western&#x27;, &#x27;Foreign&#x27;, &#x27;Documentary&#x27;, &#x27;Drama&#x27;, &#x27;War&#x27;, &#x27;Romance&#x27;, &#x27;Mystery &amp; thriller&#x27;, &#x27;Anime&#x27;, &#x27;Adventure&#x27;, &#x27;Musical&#x27;, &#x27;News&#x27;, &#x27;Faith &amp; spirituality&#x27;]</pre></div></div></div><div class=\"sk-serial\"><div class=\"sk-item\"><div class=\"sk-estimator sk-toggleable\"><input class=\"sk-toggleable__control sk-hidden--visually\" id=\"sk-estimator-id-25\" type=\"checkbox\" ><label for=\"sk-estimator-id-25\" class=\"sk-toggleable__label sk-toggleable__label-arrow\">passthrough</label><div class=\"sk-toggleable__content\"><pre>passthrough</pre></div></div></div></div></div></div></div></div><div class=\"sk-item\"><div class=\"sk-estimator sk-toggleable\"><input class=\"sk-toggleable__control sk-hidden--visually\" id=\"sk-estimator-id-26\" type=\"checkbox\" ><label for=\"sk-estimator-id-26\" class=\"sk-toggleable__label sk-toggleable__label-arrow\">LinearSVC</label><div class=\"sk-toggleable__content\"><pre>LinearSVC(C=0.20584494295802447, class_weight=&#x27;balanced&#x27;, dual=False,\n",
       "          max_iter=2000)</pre></div></div></div></div></div></div></div>"
      ],
      "text/plain": [
       "Pipeline(steps=[('transformer',\n",
       "                 ColumnTransformer(n_jobs=-1, remainder='passthrough',\n",
       "                                   transformers=[('title_tfidf',\n",
       "                                                  TfidfVectorizer(min_df=1e-05,\n",
       "                                                                  ngram_range=(1,\n",
       "                                                                               3)),\n",
       "                                                  'title'),\n",
       "                                                 ('review_tfidf',\n",
       "                                                  TfidfVectorizer(min_df=1e-05,\n",
       "                                                                  ngram_range=(1,\n",
       "                                                                               3)),\n",
       "                                                  'reviewText'),\n",
       "                                                 ('frequentReviewer_encoder',\n",
       "                                                  OrdinalEncoder(),\n",
       "                                                  ['isFrequentReviewer']),\n",
       "                                                 ('score_scaler',\n",
       "                                                  MaxAbsScaler(),\n",
       "                                                  ['audienceScore'])],\n",
       "                                   verbose=True)),\n",
       "                ('Svm',\n",
       "                 LinearSVC(C=0.20584494295802447, class_weight='balanced',\n",
       "                           dual=False, max_iter=2000))],\n",
       "         verbose=True)"
      ]
     },
     "execution_count": 56,
     "metadata": {},
     "output_type": "execute_result"
    }
   ],
   "source": [
    "pipe_svc.fit(X,y)"
   ]
  },
  {
   "cell_type": "code",
   "execution_count": 57,
   "id": "18eb5801",
   "metadata": {
    "execution": {
     "iopub.execute_input": "2023-08-11T18:22:49.407081Z",
     "iopub.status.busy": "2023-08-11T18:22:49.406638Z",
     "iopub.status.idle": "2023-08-11T18:23:09.567218Z",
     "shell.execute_reply": "2023-08-11T18:23:09.566013Z"
    },
    "papermill": {
     "duration": 20.211444,
     "end_time": "2023-08-11T18:23:09.570452",
     "exception": false,
     "start_time": "2023-08-11T18:22:49.359008",
     "status": "completed"
    },
    "tags": []
   },
   "outputs": [],
   "source": [
    "train_pred_svc = pipe_svc.predict(X)\n",
    "y_pred_svc = pipe_svc.predict(merged_test)"
   ]
  },
  {
   "cell_type": "code",
   "execution_count": 58,
   "id": "c71b7e4b",
   "metadata": {
    "execution": {
     "iopub.execute_input": "2023-08-11T18:23:09.666189Z",
     "iopub.status.busy": "2023-08-11T18:23:09.665118Z",
     "iopub.status.idle": "2023-08-11T18:23:23.505677Z",
     "shell.execute_reply": "2023-08-11T18:23:23.504346Z"
    },
    "papermill": {
     "duration": 13.891622,
     "end_time": "2023-08-11T18:23:23.508345",
     "exception": false,
     "start_time": "2023-08-11T18:23:09.616723",
     "status": "completed"
    },
    "tags": []
   },
   "outputs": [
    {
     "data": {
      "text/plain": [
       "0.9229285196426597"
      ]
     },
     "execution_count": 58,
     "metadata": {},
     "output_type": "execute_result"
    }
   ],
   "source": [
    "pipe_svc.score(X,y)"
   ]
  },
  {
   "cell_type": "code",
   "execution_count": 59,
   "id": "83fb2df2",
   "metadata": {
    "execution": {
     "iopub.execute_input": "2023-08-11T18:23:23.602844Z",
     "iopub.status.busy": "2023-08-11T18:23:23.602316Z",
     "iopub.status.idle": "2023-08-11T18:23:38.512490Z",
     "shell.execute_reply": "2023-08-11T18:23:38.510784Z"
    },
    "papermill": {
     "duration": 14.960836,
     "end_time": "2023-08-11T18:23:38.515129",
     "exception": false,
     "start_time": "2023-08-11T18:23:23.554293",
     "status": "completed"
    },
    "tags": []
   },
   "outputs": [
    {
     "name": "stdout",
     "output_type": "stream",
     "text": [
      "              precision    recall  f1-score   support\n",
      "\n",
      "    NEGATIVE       0.84      0.94      0.89     53997\n",
      "    POSITIVE       0.97      0.91      0.94    108761\n",
      "\n",
      "    accuracy                           0.92    162758\n",
      "   macro avg       0.91      0.93      0.92    162758\n",
      "weighted avg       0.93      0.92      0.92    162758\n",
      "\n"
     ]
    }
   ],
   "source": [
    "print(skm.classification_report(y,train_pred_svc))"
   ]
  },
  {
   "cell_type": "code",
   "execution_count": 60,
   "id": "7089425a",
   "metadata": {
    "execution": {
     "iopub.execute_input": "2023-08-11T18:23:38.611435Z",
     "iopub.status.busy": "2023-08-11T18:23:38.611025Z",
     "iopub.status.idle": "2023-08-11T18:23:40.755935Z",
     "shell.execute_reply": "2023-08-11T18:23:40.754537Z"
    },
    "papermill": {
     "duration": 2.196468,
     "end_time": "2023-08-11T18:23:40.758613",
     "exception": false,
     "start_time": "2023-08-11T18:23:38.562145",
     "status": "completed"
    },
    "tags": []
   },
   "outputs": [
    {
     "data": {
      "image/png": "[encoded data removed]",
      "text/plain": [
       "<Figure size 640x480 with 2 Axes>"
      ]
     },
     "metadata": {},
     "output_type": "display_data"
    }
   ],
   "source": [
    "conf_mat = skm.confusion_matrix(y,train_pred_svc)\n",
    "disp = skm.ConfusionMatrixDisplay(confusion_matrix=conf_mat, display_labels=pipe_svc[-1].classes_)\n",
    "disp.plot()\n",
    "plt.show()"
   ]
  },
  {
   "cell_type": "code",
   "execution_count": 61,
   "id": "53d6d7f2",
   "metadata": {
    "execution": {
     "iopub.execute_input": "2023-08-11T18:23:40.863453Z",
     "iopub.status.busy": "2023-08-11T18:23:40.863037Z",
     "iopub.status.idle": "2023-08-11T18:23:55.960044Z",
     "shell.execute_reply": "2023-08-11T18:23:55.958624Z"
    },
    "papermill": {
     "duration": 15.151507,
     "end_time": "2023-08-11T18:23:55.962520",
     "exception": false,
     "start_time": "2023-08-11T18:23:40.811013",
     "status": "completed"
    },
    "tags": []
   },
   "outputs": [
    {
     "data": {
      "image/png": "[encoded data removed]",
      "text/plain": [
       "<Figure size 640x480 with 1 Axes>"
      ]
     },
     "metadata": {},
     "output_type": "display_data"
    }
   ],
   "source": [
    "display_svc = skm.PrecisionRecallDisplay.from_estimator(\n",
    "    pipe_svc, X, y, name=\"LinearSVC\"\n",
    ")"
   ]
  },
  {
   "cell_type": "markdown",
   "id": "4d94cd7b",
   "metadata": {
    "papermill": {
     "duration": 0.048123,
     "end_time": "2023-08-11T18:23:56.061566",
     "exception": false,
     "start_time": "2023-08-11T18:23:56.013443",
     "status": "completed"
    },
    "tags": []
   },
   "source": [
    "# Bagging Pipeline"
   ]
  },
  {
   "cell_type": "code",
   "execution_count": 62,
   "id": "0144955c",
   "metadata": {
    "execution": {
     "iopub.execute_input": "2023-08-11T18:23:56.161230Z",
     "iopub.status.busy": "2023-08-11T18:23:56.160805Z",
     "iopub.status.idle": "2023-08-11T18:23:56.166548Z",
     "shell.execute_reply": "2023-08-11T18:23:56.165707Z"
    },
    "papermill": {
     "duration": 0.060686,
     "end_time": "2023-08-11T18:23:56.169849",
     "exception": false,
     "start_time": "2023-08-11T18:23:56.109163",
     "status": "completed"
    },
    "tags": []
   },
   "outputs": [],
   "source": [
    "pipe_bagging = Pipeline([(\"transformer\", transformer),\n",
    "#                         (\"feature_selector\", feature_selector),\n",
    "                        ('Bagging', BaggingClassifier(estimator=LogisticRegression()))],\n",
    "               verbose=True)"
   ]
  },
  {
   "cell_type": "code",
   "execution_count": 63,
   "id": "1adce57e",
   "metadata": {
    "execution": {
     "iopub.execute_input": "2023-08-11T18:23:56.273004Z",
     "iopub.status.busy": "2023-08-11T18:23:56.272607Z",
     "iopub.status.idle": "2023-08-11T18:23:56.276730Z",
     "shell.execute_reply": "2023-08-11T18:23:56.275919Z"
    },
    "papermill": {
     "duration": 0.058159,
     "end_time": "2023-08-11T18:23:56.278818",
     "exception": false,
     "start_time": "2023-08-11T18:23:56.220659",
     "status": "completed"
    },
    "tags": []
   },
   "outputs": [],
   "source": [
    "# param_dist = {\n",
    "#     'Bagging__n_estimators': [10, 50, 100], \n",
    "#     'Bagging__max_samples': [0.5, 0.7, 0.9],  \n",
    "#     'Bagging__max_features': [0.5, 0.7, 0.9],  \n",
    "#     'Bagging__bootstrap': [True, False],  \n",
    "#     'Bagging__bootstrap_features': [True, False]\n",
    "# }"
   ]
  },
  {
   "cell_type": "code",
   "execution_count": 64,
   "id": "7c8c3b8d",
   "metadata": {
    "execution": {
     "iopub.execute_input": "2023-08-11T18:23:56.383658Z",
     "iopub.status.busy": "2023-08-11T18:23:56.382869Z",
     "iopub.status.idle": "2023-08-11T18:23:56.387869Z",
     "shell.execute_reply": "2023-08-11T18:23:56.387042Z"
    },
    "papermill": {
     "duration": 0.062124,
     "end_time": "2023-08-11T18:23:56.390780",
     "exception": false,
     "start_time": "2023-08-11T18:23:56.328656",
     "status": "completed"
    },
    "tags": []
   },
   "outputs": [],
   "source": [
    "# # Create the RandomizedSearchCV object\n",
    "# random_search = RandomizedSearchCV(\n",
    "#     estimator=pipe_bagging,\n",
    "#     param_distributions=param_dist,\n",
    "#     n_iter=10, \n",
    "#     scoring='f1_micro',  \n",
    "#     cv=5,  \n",
    "#     verbose=2,  \n",
    "#     n_jobs=-1,  \n",
    "#     random_state=42  \n",
    "# )\n",
    "\n",
    "# random_search.fit(X, y)\n",
    "\n",
    "# print(\"Best Parameters: \", random_search.best_params_)\n",
    "# print(\"Best F1 Score: \", random_search.best_score_)"
   ]
  },
  {
   "cell_type": "code",
   "execution_count": 65,
   "id": "ab201a15",
   "metadata": {
    "execution": {
     "iopub.execute_input": "2023-08-11T18:23:56.494426Z",
     "iopub.status.busy": "2023-08-11T18:23:56.493697Z",
     "iopub.status.idle": "2023-08-11T18:28:05.523182Z",
     "shell.execute_reply": "2023-08-11T18:28:05.521877Z"
    },
    "papermill": {
     "duration": 249.087039,
     "end_time": "2023-08-11T18:28:05.528219",
     "exception": false,
     "start_time": "2023-08-11T18:23:56.441180",
     "status": "completed"
    },
    "tags": []
   },
   "outputs": [
    {
     "name": "stdout",
     "output_type": "stream",
     "text": [
      "[Pipeline] ....... (step 1 of 2) Processing transformer, total=  19.5s\n"
     ]
    },
    {
     "name": "stderr",
     "output_type": "stream",
     "text": [
      "/opt/conda/lib/python3.10/site-packages/sklearn/linear_model/_logistic.py:458: ConvergenceWarning: lbfgs failed to converge (status=1):\n",
      "STOP: TOTAL NO. of ITERATIONS REACHED LIMIT.\n",
      "\n",
      "Increase the number of iterations (max_iter) or scale the data as shown in:\n",
      "    https://scikit-learn.org/stable/modules/preprocessing.html\n",
      "Please also refer to the documentation for alternative solver options:\n",
      "    https://scikit-learn.org/stable/modules/linear_model.html#logistic-regression\n",
      "  n_iter_i = _check_optimize_result(\n",
      "/opt/conda/lib/python3.10/site-packages/sklearn/linear_model/_logistic.py:458: ConvergenceWarning: lbfgs failed to converge (status=1):\n",
      "STOP: TOTAL NO. of ITERATIONS REACHED LIMIT.\n",
      "\n",
      "Increase the number of iterations (max_iter) or scale the data as shown in:\n",
      "    https://scikit-learn.org/stable/modules/preprocessing.html\n",
      "Please also refer to the documentation for alternative solver options:\n",
      "    https://scikit-learn.org/stable/modules/linear_model.html#logistic-regression\n",
      "  n_iter_i = _check_optimize_result(\n",
      "/opt/conda/lib/python3.10/site-packages/sklearn/linear_model/_logistic.py:458: ConvergenceWarning: lbfgs failed to converge (status=1):\n",
      "STOP: TOTAL NO. of ITERATIONS REACHED LIMIT.\n",
      "\n",
      "Increase the number of iterations (max_iter) or scale the data as shown in:\n",
      "    https://scikit-learn.org/stable/modules/preprocessing.html\n",
      "Please also refer to the documentation for alternative solver options:\n",
      "    https://scikit-learn.org/stable/modules/linear_model.html#logistic-regression\n",
      "  n_iter_i = _check_optimize_result(\n",
      "/opt/conda/lib/python3.10/site-packages/sklearn/linear_model/_logistic.py:458: ConvergenceWarning: lbfgs failed to converge (status=1):\n",
      "STOP: TOTAL NO. of ITERATIONS REACHED LIMIT.\n",
      "\n",
      "Increase the number of iterations (max_iter) or scale the data as shown in:\n",
      "    https://scikit-learn.org/stable/modules/preprocessing.html\n",
      "Please also refer to the documentation for alternative solver options:\n",
      "    https://scikit-learn.org/stable/modules/linear_model.html#logistic-regression\n",
      "  n_iter_i = _check_optimize_result(\n",
      "/opt/conda/lib/python3.10/site-packages/sklearn/linear_model/_logistic.py:458: ConvergenceWarning: lbfgs failed to converge (status=1):\n",
      "STOP: TOTAL NO. of ITERATIONS REACHED LIMIT.\n",
      "\n",
      "Increase the number of iterations (max_iter) or scale the data as shown in:\n",
      "    https://scikit-learn.org/stable/modules/preprocessing.html\n",
      "Please also refer to the documentation for alternative solver options:\n",
      "    https://scikit-learn.org/stable/modules/linear_model.html#logistic-regression\n",
      "  n_iter_i = _check_optimize_result(\n",
      "/opt/conda/lib/python3.10/site-packages/sklearn/linear_model/_logistic.py:458: ConvergenceWarning: lbfgs failed to converge (status=1):\n",
      "STOP: TOTAL NO. of ITERATIONS REACHED LIMIT.\n",
      "\n",
      "Increase the number of iterations (max_iter) or scale the data as shown in:\n",
      "    https://scikit-learn.org/stable/modules/preprocessing.html\n",
      "Please also refer to the documentation for alternative solver options:\n",
      "    https://scikit-learn.org/stable/modules/linear_model.html#logistic-regression\n",
      "  n_iter_i = _check_optimize_result(\n",
      "/opt/conda/lib/python3.10/site-packages/sklearn/linear_model/_logistic.py:458: ConvergenceWarning: lbfgs failed to converge (status=1):\n",
      "STOP: TOTAL NO. of ITERATIONS REACHED LIMIT.\n",
      "\n",
      "Increase the number of iterations (max_iter) or scale the data as shown in:\n",
      "    https://scikit-learn.org/stable/modules/preprocessing.html\n",
      "Please also refer to the documentation for alternative solver options:\n",
      "    https://scikit-learn.org/stable/modules/linear_model.html#logistic-regression\n",
      "  n_iter_i = _check_optimize_result(\n",
      "/opt/conda/lib/python3.10/site-packages/sklearn/linear_model/_logistic.py:458: ConvergenceWarning: lbfgs failed to converge (status=1):\n",
      "STOP: TOTAL NO. of ITERATIONS REACHED LIMIT.\n",
      "\n",
      "Increase the number of iterations (max_iter) or scale the data as shown in:\n",
      "    https://scikit-learn.org/stable/modules/preprocessing.html\n",
      "Please also refer to the documentation for alternative solver options:\n",
      "    https://scikit-learn.org/stable/modules/linear_model.html#logistic-regression\n",
      "  n_iter_i = _check_optimize_result(\n",
      "/opt/conda/lib/python3.10/site-packages/sklearn/linear_model/_logistic.py:458: ConvergenceWarning: lbfgs failed to converge (status=1):\n",
      "STOP: TOTAL NO. of ITERATIONS REACHED LIMIT.\n",
      "\n",
      "Increase the number of iterations (max_iter) or scale the data as shown in:\n",
      "    https://scikit-learn.org/stable/modules/preprocessing.html\n",
      "Please also refer to the documentation for alternative solver options:\n",
      "    https://scikit-learn.org/stable/modules/linear_model.html#logistic-regression\n",
      "  n_iter_i = _check_optimize_result(\n"
     ]
    },
    {
     "name": "stdout",
     "output_type": "stream",
     "text": [
      "[Pipeline] ........... (step 2 of 2) Processing Bagging, total= 3.8min\n"
     ]
    },
    {
     "name": "stderr",
     "output_type": "stream",
     "text": [
      "/opt/conda/lib/python3.10/site-packages/sklearn/linear_model/_logistic.py:458: ConvergenceWarning: lbfgs failed to converge (status=1):\n",
      "STOP: TOTAL NO. of ITERATIONS REACHED LIMIT.\n",
      "\n",
      "Increase the number of iterations (max_iter) or scale the data as shown in:\n",
      "    https://scikit-learn.org/stable/modules/preprocessing.html\n",
      "Please also refer to the documentation for alternative solver options:\n",
      "    https://scikit-learn.org/stable/modules/linear_model.html#logistic-regression\n",
      "  n_iter_i = _check_optimize_result(\n"
     ]
    },
    {
     "data": {
      "text/html": [
       "<style>#sk-container-id-3 {color: black;background-color: white;}#sk-container-id-3 pre{padding: 0;}#sk-container-id-3 div.sk-toggleable {background-color: white;}#sk-container-id-3 label.sk-toggleable__label {cursor: pointer;display: block;width: 100%;margin-bottom: 0;padding: 0.3em;box-sizing: border-box;text-align: center;}#sk-container-id-3 label.sk-toggleable__label-arrow:before {content: \"▸\";float: left;margin-right: 0.25em;color: #696969;}#sk-container-id-3 label.sk-toggleable__label-arrow:hover:before {color: black;}#sk-container-id-3 div.sk-estimator:hover label.sk-toggleable__label-arrow:before {color: black;}#sk-container-id-3 div.sk-toggleable__content {max-height: 0;max-width: 0;overflow: hidden;text-align: left;background-color: #f0f8ff;}#sk-container-id-3 div.sk-toggleable__content pre {margin: 0.2em;color: black;border-radius: 0.25em;background-color: #f0f8ff;}#sk-container-id-3 input.sk-toggleable__control:checked~div.sk-toggleable__content {max-height: 200px;max-width: 100%;overflow: auto;}#sk-container-id-3 input.sk-toggleable__control:checked~label.sk-toggleable__label-arrow:before {content: \"▾\";}#sk-container-id-3 div.sk-estimator input.sk-toggleable__control:checked~label.sk-toggleable__label {background-color: #d4ebff;}#sk-container-id-3 div.sk-label input.sk-toggleable__control:checked~label.sk-toggleable__label {background-color: #d4ebff;}#sk-container-id-3 input.sk-hidden--visually {border: 0;clip: rect(1px 1px 1px 1px);clip: rect(1px, 1px, 1px, 1px);height: 1px;margin: -1px;overflow: hidden;padding: 0;position: absolute;width: 1px;}#sk-container-id-3 div.sk-estimator {font-family: monospace;background-color: #f0f8ff;border: 1px dotted black;border-radius: 0.25em;box-sizing: border-box;margin-bottom: 0.5em;}#sk-container-id-3 div.sk-estimator:hover {background-color: #d4ebff;}#sk-container-id-3 div.sk-parallel-item::after {content: \"\";width: 100%;border-bottom: 1px solid gray;flex-grow: 1;}#sk-container-id-3 div.sk-label:hover label.sk-toggleable__label {background-color: #d4ebff;}#sk-container-id-3 div.sk-serial::before {content: \"\";position: absolute;border-left: 1px solid gray;box-sizing: border-box;top: 0;bottom: 0;left: 50%;z-index: 0;}#sk-container-id-3 div.sk-serial {display: flex;flex-direction: column;align-items: center;background-color: white;padding-right: 0.2em;padding-left: 0.2em;position: relative;}#sk-container-id-3 div.sk-item {position: relative;z-index: 1;}#sk-container-id-3 div.sk-parallel {display: flex;align-items: stretch;justify-content: center;background-color: white;position: relative;}#sk-container-id-3 div.sk-item::before, #sk-container-id-3 div.sk-parallel-item::before {content: \"\";position: absolute;border-left: 1px solid gray;box-sizing: border-box;top: 0;bottom: 0;left: 50%;z-index: -1;}#sk-container-id-3 div.sk-parallel-item {display: flex;flex-direction: column;z-index: 1;position: relative;background-color: white;}#sk-container-id-3 div.sk-parallel-item:first-child::after {align-self: flex-end;width: 50%;}#sk-container-id-3 div.sk-parallel-item:last-child::after {align-self: flex-start;width: 50%;}#sk-container-id-3 div.sk-parallel-item:only-child::after {width: 0;}#sk-container-id-3 div.sk-dashed-wrapped {border: 1px dashed gray;margin: 0 0.4em 0.5em 0.4em;box-sizing: border-box;padding-bottom: 0.4em;background-color: white;}#sk-container-id-3 div.sk-label label {font-family: monospace;font-weight: bold;display: inline-block;line-height: 1.2em;}#sk-container-id-3 div.sk-label-container {text-align: center;}#sk-container-id-3 div.sk-container {/* jupyter's `normalize.less` sets `[hidden] { display: none; }` but bootstrap.min.css set `[hidden] { display: none !important; }` so we also need the `!important` here to be able to override the default hidden behavior on the sphinx rendered scikit-learn.org. See: https://github.com/scikit-learn/scikit-learn/issues/21755 */display: inline-block !important;position: relative;}#sk-container-id-3 div.sk-text-repr-fallback {display: none;}</style><div id=\"sk-container-id-3\" class=\"sk-top-container\"><div class=\"sk-text-repr-fallback\"><pre>Pipeline(steps=[(&#x27;transformer&#x27;,\n",
       "                 ColumnTransformer(n_jobs=-1, remainder=&#x27;passthrough&#x27;,\n",
       "                                   transformers=[(&#x27;title_tfidf&#x27;,\n",
       "                                                  TfidfVectorizer(min_df=1e-05,\n",
       "                                                                  ngram_range=(1,\n",
       "                                                                               3)),\n",
       "                                                  &#x27;title&#x27;),\n",
       "                                                 (&#x27;review_tfidf&#x27;,\n",
       "                                                  TfidfVectorizer(min_df=1e-05,\n",
       "                                                                  ngram_range=(1,\n",
       "                                                                               3)),\n",
       "                                                  &#x27;reviewText&#x27;),\n",
       "                                                 (&#x27;frequentReviewer_encoder&#x27;,\n",
       "                                                  OrdinalEncoder(),\n",
       "                                                  [&#x27;isFrequentReviewer&#x27;]),\n",
       "                                                 (&#x27;score_scaler&#x27;,\n",
       "                                                  MaxAbsScaler(),\n",
       "                                                  [&#x27;audienceScore&#x27;])],\n",
       "                                   verbose=True)),\n",
       "                (&#x27;Bagging&#x27;, BaggingClassifier(estimator=LogisticRegression()))],\n",
       "         verbose=True)</pre><b>In a Jupyter environment, please rerun this cell to show the HTML representation or trust the notebook. <br />On GitHub, the HTML representation is unable to render, please try loading this page with nbviewer.org.</b></div><div class=\"sk-container\" hidden><div class=\"sk-item sk-dashed-wrapped\"><div class=\"sk-label-container\"><div class=\"sk-label sk-toggleable\"><input class=\"sk-toggleable__control sk-hidden--visually\" id=\"sk-estimator-id-27\" type=\"checkbox\" ><label for=\"sk-estimator-id-27\" class=\"sk-toggleable__label sk-toggleable__label-arrow\">Pipeline</label><div class=\"sk-toggleable__content\"><pre>Pipeline(steps=[(&#x27;transformer&#x27;,\n",
       "                 ColumnTransformer(n_jobs=-1, remainder=&#x27;passthrough&#x27;,\n",
       "                                   transformers=[(&#x27;title_tfidf&#x27;,\n",
       "                                                  TfidfVectorizer(min_df=1e-05,\n",
       "                                                                  ngram_range=(1,\n",
       "                                                                               3)),\n",
       "                                                  &#x27;title&#x27;),\n",
       "                                                 (&#x27;review_tfidf&#x27;,\n",
       "                                                  TfidfVectorizer(min_df=1e-05,\n",
       "                                                                  ngram_range=(1,\n",
       "                                                                               3)),\n",
       "                                                  &#x27;reviewText&#x27;),\n",
       "                                                 (&#x27;frequentReviewer_encoder&#x27;,\n",
       "                                                  OrdinalEncoder(),\n",
       "                                                  [&#x27;isFrequentReviewer&#x27;]),\n",
       "                                                 (&#x27;score_scaler&#x27;,\n",
       "                                                  MaxAbsScaler(),\n",
       "                                                  [&#x27;audienceScore&#x27;])],\n",
       "                                   verbose=True)),\n",
       "                (&#x27;Bagging&#x27;, BaggingClassifier(estimator=LogisticRegression()))],\n",
       "         verbose=True)</pre></div></div></div><div class=\"sk-serial\"><div class=\"sk-item sk-dashed-wrapped\"><div class=\"sk-label-container\"><div class=\"sk-label sk-toggleable\"><input class=\"sk-toggleable__control sk-hidden--visually\" id=\"sk-estimator-id-28\" type=\"checkbox\" ><label for=\"sk-estimator-id-28\" class=\"sk-toggleable__label sk-toggleable__label-arrow\">transformer: ColumnTransformer</label><div class=\"sk-toggleable__content\"><pre>ColumnTransformer(n_jobs=-1, remainder=&#x27;passthrough&#x27;,\n",
       "                  transformers=[(&#x27;title_tfidf&#x27;,\n",
       "                                 TfidfVectorizer(min_df=1e-05,\n",
       "                                                 ngram_range=(1, 3)),\n",
       "                                 &#x27;title&#x27;),\n",
       "                                (&#x27;review_tfidf&#x27;,\n",
       "                                 TfidfVectorizer(min_df=1e-05,\n",
       "                                                 ngram_range=(1, 3)),\n",
       "                                 &#x27;reviewText&#x27;),\n",
       "                                (&#x27;frequentReviewer_encoder&#x27;, OrdinalEncoder(),\n",
       "                                 [&#x27;isFrequentReviewer&#x27;]),\n",
       "                                (&#x27;score_scaler&#x27;, MaxAbsScaler(),\n",
       "                                 [&#x27;audienceScore&#x27;])],\n",
       "                  verbose=True)</pre></div></div></div><div class=\"sk-parallel\"><div class=\"sk-parallel-item\"><div class=\"sk-item\"><div class=\"sk-label-container\"><div class=\"sk-label sk-toggleable\"><input class=\"sk-toggleable__control sk-hidden--visually\" id=\"sk-estimator-id-29\" type=\"checkbox\" ><label for=\"sk-estimator-id-29\" class=\"sk-toggleable__label sk-toggleable__label-arrow\">title_tfidf</label><div class=\"sk-toggleable__content\"><pre>title</pre></div></div></div><div class=\"sk-serial\"><div class=\"sk-item\"><div class=\"sk-estimator sk-toggleable\"><input class=\"sk-toggleable__control sk-hidden--visually\" id=\"sk-estimator-id-30\" type=\"checkbox\" ><label for=\"sk-estimator-id-30\" class=\"sk-toggleable__label sk-toggleable__label-arrow\">TfidfVectorizer</label><div class=\"sk-toggleable__content\"><pre>TfidfVectorizer(min_df=1e-05, ngram_range=(1, 3))</pre></div></div></div></div></div></div><div class=\"sk-parallel-item\"><div class=\"sk-item\"><div class=\"sk-label-container\"><div class=\"sk-label sk-toggleable\"><input class=\"sk-toggleable__control sk-hidden--visually\" id=\"sk-estimator-id-31\" type=\"checkbox\" ><label for=\"sk-estimator-id-31\" class=\"sk-toggleable__label sk-toggleable__label-arrow\">review_tfidf</label><div class=\"sk-toggleable__content\"><pre>reviewText</pre></div></div></div><div class=\"sk-serial\"><div class=\"sk-item\"><div class=\"sk-estimator sk-toggleable\"><input class=\"sk-toggleable__control sk-hidden--visually\" id=\"sk-estimator-id-32\" type=\"checkbox\" ><label for=\"sk-estimator-id-32\" class=\"sk-toggleable__label sk-toggleable__label-arrow\">TfidfVectorizer</label><div class=\"sk-toggleable__content\"><pre>TfidfVectorizer(min_df=1e-05, ngram_range=(1, 3))</pre></div></div></div></div></div></div><div class=\"sk-parallel-item\"><div class=\"sk-item\"><div class=\"sk-label-container\"><div class=\"sk-label sk-toggleable\"><input class=\"sk-toggleable__control sk-hidden--visually\" id=\"sk-estimator-id-33\" type=\"checkbox\" ><label for=\"sk-estimator-id-33\" class=\"sk-toggleable__label sk-toggleable__label-arrow\">frequentReviewer_encoder</label><div class=\"sk-toggleable__content\"><pre>[&#x27;isFrequentReviewer&#x27;]</pre></div></div></div><div class=\"sk-serial\"><div class=\"sk-item\"><div class=\"sk-estimator sk-toggleable\"><input class=\"sk-toggleable__control sk-hidden--visually\" id=\"sk-estimator-id-34\" type=\"checkbox\" ><label for=\"sk-estimator-id-34\" class=\"sk-toggleable__label sk-toggleable__label-arrow\">OrdinalEncoder</label><div class=\"sk-toggleable__content\"><pre>OrdinalEncoder()</pre></div></div></div></div></div></div><div class=\"sk-parallel-item\"><div class=\"sk-item\"><div class=\"sk-label-container\"><div class=\"sk-label sk-toggleable\"><input class=\"sk-toggleable__control sk-hidden--visually\" id=\"sk-estimator-id-35\" type=\"checkbox\" ><label for=\"sk-estimator-id-35\" class=\"sk-toggleable__label sk-toggleable__label-arrow\">score_scaler</label><div class=\"sk-toggleable__content\"><pre>[&#x27;audienceScore&#x27;]</pre></div></div></div><div class=\"sk-serial\"><div class=\"sk-item\"><div class=\"sk-estimator sk-toggleable\"><input class=\"sk-toggleable__control sk-hidden--visually\" id=\"sk-estimator-id-36\" type=\"checkbox\" ><label for=\"sk-estimator-id-36\" class=\"sk-toggleable__label sk-toggleable__label-arrow\">MaxAbsScaler</label><div class=\"sk-toggleable__content\"><pre>MaxAbsScaler()</pre></div></div></div></div></div></div><div class=\"sk-parallel-item\"><div class=\"sk-item\"><div class=\"sk-label-container\"><div class=\"sk-label sk-toggleable\"><input class=\"sk-toggleable__control sk-hidden--visually\" id=\"sk-estimator-id-37\" type=\"checkbox\" ><label for=\"sk-estimator-id-37\" class=\"sk-toggleable__label sk-toggleable__label-arrow\">remainder</label><div class=\"sk-toggleable__content\"><pre>[&#x27;Comedy&#x27;, &#x27;Lgbtq+&#x27;, &#x27;Holiday&#x27;, &#x27;Animation&#x27;, &#x27;Horror&#x27;, &#x27;Nature&#x27;, &#x27;History&#x27;, &#x27;Health &amp; wellness&#x27;, &#x27;Action&#x27;, &#x27;Sci-fi&#x27;, &#x27;Short&#x27;, &#x27;Kids &amp; family&#x27;, &#x27;Variety&#x27;, &#x27;Music&#x27;, &#x27;Other&#x27;, &#x27;Stand-up&#x27;, &#x27;Crime&#x27;, &#x27;Biography&#x27;, &#x27;Fantasy&#x27;, &#x27;Sports &amp; fitness&#x27;, &#x27;Gay &amp; lesbian&#x27;, &#x27;Sports&#x27;, &#x27;Western&#x27;, &#x27;Foreign&#x27;, &#x27;Documentary&#x27;, &#x27;Drama&#x27;, &#x27;War&#x27;, &#x27;Romance&#x27;, &#x27;Mystery &amp; thriller&#x27;, &#x27;Anime&#x27;, &#x27;Adventure&#x27;, &#x27;Musical&#x27;, &#x27;News&#x27;, &#x27;Faith &amp; spirituality&#x27;]</pre></div></div></div><div class=\"sk-serial\"><div class=\"sk-item\"><div class=\"sk-estimator sk-toggleable\"><input class=\"sk-toggleable__control sk-hidden--visually\" id=\"sk-estimator-id-38\" type=\"checkbox\" ><label for=\"sk-estimator-id-38\" class=\"sk-toggleable__label sk-toggleable__label-arrow\">passthrough</label><div class=\"sk-toggleable__content\"><pre>passthrough</pre></div></div></div></div></div></div></div></div><div class=\"sk-item sk-dashed-wrapped\"><div class=\"sk-label-container\"><div class=\"sk-label sk-toggleable\"><input class=\"sk-toggleable__control sk-hidden--visually\" id=\"sk-estimator-id-39\" type=\"checkbox\" ><label for=\"sk-estimator-id-39\" class=\"sk-toggleable__label sk-toggleable__label-arrow\">Bagging: BaggingClassifier</label><div class=\"sk-toggleable__content\"><pre>BaggingClassifier(estimator=LogisticRegression())</pre></div></div></div><div class=\"sk-parallel\"><div class=\"sk-parallel-item\"><div class=\"sk-item\"><div class=\"sk-label-container\"><div class=\"sk-label sk-toggleable\"><input class=\"sk-toggleable__control sk-hidden--visually\" id=\"sk-estimator-id-40\" type=\"checkbox\" ><label for=\"sk-estimator-id-40\" class=\"sk-toggleable__label sk-toggleable__label-arrow\">estimator: LogisticRegression</label><div class=\"sk-toggleable__content\"><pre>LogisticRegression()</pre></div></div></div><div class=\"sk-serial\"><div class=\"sk-item\"><div class=\"sk-estimator sk-toggleable\"><input class=\"sk-toggleable__control sk-hidden--visually\" id=\"sk-estimator-id-41\" type=\"checkbox\" ><label for=\"sk-estimator-id-41\" class=\"sk-toggleable__label sk-toggleable__label-arrow\">LogisticRegression</label><div class=\"sk-toggleable__content\"><pre>LogisticRegression()</pre></div></div></div></div></div></div></div></div></div></div></div></div>"
      ],
      "text/plain": [
       "Pipeline(steps=[('transformer',\n",
       "                 ColumnTransformer(n_jobs=-1, remainder='passthrough',\n",
       "                                   transformers=[('title_tfidf',\n",
       "                                                  TfidfVectorizer(min_df=1e-05,\n",
       "                                                                  ngram_range=(1,\n",
       "                                                                               3)),\n",
       "                                                  'title'),\n",
       "                                                 ('review_tfidf',\n",
       "                                                  TfidfVectorizer(min_df=1e-05,\n",
       "                                                                  ngram_range=(1,\n",
       "                                                                               3)),\n",
       "                                                  'reviewText'),\n",
       "                                                 ('frequentReviewer_encoder',\n",
       "                                                  OrdinalEncoder(),\n",
       "                                                  ['isFrequentReviewer']),\n",
       "                                                 ('score_scaler',\n",
       "                                                  MaxAbsScaler(),\n",
       "                                                  ['audienceScore'])],\n",
       "                                   verbose=True)),\n",
       "                ('Bagging', BaggingClassifier(estimator=LogisticRegression()))],\n",
       "         verbose=True)"
      ]
     },
     "execution_count": 65,
     "metadata": {},
     "output_type": "execute_result"
    }
   ],
   "source": [
    "pipe_bagging.fit(X,y)"
   ]
  },
  {
   "cell_type": "code",
   "execution_count": 66,
   "id": "306ff145",
   "metadata": {
    "execution": {
     "iopub.execute_input": "2023-08-11T18:28:05.630114Z",
     "iopub.status.busy": "2023-08-11T18:28:05.628474Z",
     "iopub.status.idle": "2023-08-11T18:28:27.640364Z",
     "shell.execute_reply": "2023-08-11T18:28:27.639086Z"
    },
    "papermill": {
     "duration": 22.066269,
     "end_time": "2023-08-11T18:28:27.643811",
     "exception": false,
     "start_time": "2023-08-11T18:28:05.577542",
     "status": "completed"
    },
    "tags": []
   },
   "outputs": [],
   "source": [
    "train_pred_bagging = pipe_bagging.predict(X)\n",
    "y_pred_bagging = pipe_bagging.predict(merged_test)"
   ]
  },
  {
   "cell_type": "code",
   "execution_count": 67,
   "id": "788e607b",
   "metadata": {
    "execution": {
     "iopub.execute_input": "2023-08-11T18:28:27.744015Z",
     "iopub.status.busy": "2023-08-11T18:28:27.743578Z",
     "iopub.status.idle": "2023-08-11T18:28:42.896318Z",
     "shell.execute_reply": "2023-08-11T18:28:42.895007Z"
    },
    "papermill": {
     "duration": 15.206271,
     "end_time": "2023-08-11T18:28:42.899267",
     "exception": false,
     "start_time": "2023-08-11T18:28:27.692996",
     "status": "completed"
    },
    "tags": []
   },
   "outputs": [
    {
     "data": {
      "text/plain": [
       "0.8661755489745512"
      ]
     },
     "execution_count": 67,
     "metadata": {},
     "output_type": "execute_result"
    }
   ],
   "source": [
    "pipe_bagging.score(X,y)"
   ]
  },
  {
   "cell_type": "code",
   "execution_count": 68,
   "id": "dfd7975a",
   "metadata": {
    "execution": {
     "iopub.execute_input": "2023-08-11T18:28:43.001172Z",
     "iopub.status.busy": "2023-08-11T18:28:43.000164Z",
     "iopub.status.idle": "2023-08-11T18:28:57.856568Z",
     "shell.execute_reply": "2023-08-11T18:28:57.855121Z"
    },
    "papermill": {
     "duration": 14.91062,
     "end_time": "2023-08-11T18:28:57.859602",
     "exception": false,
     "start_time": "2023-08-11T18:28:42.948982",
     "status": "completed"
    },
    "tags": []
   },
   "outputs": [
    {
     "name": "stdout",
     "output_type": "stream",
     "text": [
      "              precision    recall  f1-score   support\n",
      "\n",
      "    NEGATIVE       0.86      0.72      0.78     53997\n",
      "    POSITIVE       0.87      0.94      0.90    108761\n",
      "\n",
      "    accuracy                           0.87    162758\n",
      "   macro avg       0.86      0.83      0.84    162758\n",
      "weighted avg       0.87      0.87      0.86    162758\n",
      "\n"
     ]
    }
   ],
   "source": [
    "print(skm.classification_report(y,train_pred_bagging))"
   ]
  },
  {
   "cell_type": "code",
   "execution_count": 69,
   "id": "be779f68",
   "metadata": {
    "execution": {
     "iopub.execute_input": "2023-08-11T18:28:57.960378Z",
     "iopub.status.busy": "2023-08-11T18:28:57.959738Z",
     "iopub.status.idle": "2023-08-11T18:28:59.922672Z",
     "shell.execute_reply": "2023-08-11T18:28:59.921480Z"
    },
    "papermill": {
     "duration": 2.016622,
     "end_time": "2023-08-11T18:28:59.925361",
     "exception": false,
     "start_time": "2023-08-11T18:28:57.908739",
     "status": "completed"
    },
    "tags": []
   },
   "outputs": [
    {
     "data": {
      "image/png": "[encoded data removed]",
      "text/plain": [
       "<Figure size 640x480 with 2 Axes>"
      ]
     },
     "metadata": {},
     "output_type": "display_data"
    }
   ],
   "source": [
    "conf_mat = skm.confusion_matrix(y,train_pred_bagging)\n",
    "disp = skm.ConfusionMatrixDisplay(confusion_matrix=conf_mat, display_labels=pipe_bagging[-1].classes_)\n",
    "disp.plot()\n",
    "plt.show()"
   ]
  },
  {
   "cell_type": "code",
   "execution_count": 70,
   "id": "290e1ecb",
   "metadata": {
    "execution": {
     "iopub.execute_input": "2023-08-11T18:29:00.037780Z",
     "iopub.status.busy": "2023-08-11T18:29:00.037028Z",
     "iopub.status.idle": "2023-08-11T18:29:15.986571Z",
     "shell.execute_reply": "2023-08-11T18:29:15.985488Z"
    },
    "papermill": {
     "duration": 16.00988,
     "end_time": "2023-08-11T18:29:15.989380",
     "exception": false,
     "start_time": "2023-08-11T18:28:59.979500",
     "status": "completed"
    },
    "tags": []
   },
   "outputs": [
    {
     "data": {
      "image/png": "[encoded data removed]",
      "text/plain": [
       "<Figure size 640x480 with 1 Axes>"
      ]
     },
     "metadata": {},
     "output_type": "display_data"
    }
   ],
   "source": [
    "display_bagging= skm.PrecisionRecallDisplay.from_estimator(\n",
    "    pipe_bagging, X, y, name=\"BaggingClassifier\"\n",
    ")"
   ]
  },
  {
   "cell_type": "markdown",
   "id": "ffa3dc83",
   "metadata": {
    "papermill": {
     "duration": 0.050155,
     "end_time": "2023-08-11T18:29:16.090295",
     "exception": false,
     "start_time": "2023-08-11T18:29:16.040140",
     "status": "completed"
    },
    "tags": []
   },
   "source": [
    "# Multi-Layer Perceptron Pipeline"
   ]
  },
  {
   "cell_type": "code",
   "execution_count": 71,
   "id": "728d2b77",
   "metadata": {
    "execution": {
     "iopub.execute_input": "2023-08-11T18:29:16.193812Z",
     "iopub.status.busy": "2023-08-11T18:29:16.193027Z",
     "iopub.status.idle": "2023-08-11T18:29:16.198040Z",
     "shell.execute_reply": "2023-08-11T18:29:16.197124Z"
    },
    "papermill": {
     "duration": 0.059544,
     "end_time": "2023-08-11T18:29:16.200343",
     "exception": false,
     "start_time": "2023-08-11T18:29:16.140799",
     "status": "completed"
    },
    "tags": []
   },
   "outputs": [],
   "source": [
    "# pipe_perceptron = Pipeline([(\"transformer\", transformer),\n",
    "#                  ('MLP', MLPClassifier(max_iter=20,random_state=1,hidden_layer_sizes=(20,20, 50)))],\n",
    "#                verbose=True)"
   ]
  },
  {
   "cell_type": "code",
   "execution_count": 72,
   "id": "8d144a7a",
   "metadata": {
    "execution": {
     "iopub.execute_input": "2023-08-11T18:29:16.303443Z",
     "iopub.status.busy": "2023-08-11T18:29:16.302813Z",
     "iopub.status.idle": "2023-08-11T18:29:16.307352Z",
     "shell.execute_reply": "2023-08-11T18:29:16.306471Z"
    },
    "papermill": {
     "duration": 0.058928,
     "end_time": "2023-08-11T18:29:16.309639",
     "exception": false,
     "start_time": "2023-08-11T18:29:16.250711",
     "status": "completed"
    },
    "tags": []
   },
   "outputs": [],
   "source": [
    "# pipe_perceptron.fit(X,y)"
   ]
  },
  {
   "cell_type": "code",
   "execution_count": 73,
   "id": "6efded4a",
   "metadata": {
    "execution": {
     "iopub.execute_input": "2023-08-11T18:29:16.414772Z",
     "iopub.status.busy": "2023-08-11T18:29:16.414001Z",
     "iopub.status.idle": "2023-08-11T18:29:16.418735Z",
     "shell.execute_reply": "2023-08-11T18:29:16.417855Z"
    },
    "papermill": {
     "duration": 0.05978,
     "end_time": "2023-08-11T18:29:16.421086",
     "exception": false,
     "start_time": "2023-08-11T18:29:16.361306",
     "status": "completed"
    },
    "tags": []
   },
   "outputs": [],
   "source": [
    "# train_pred_perceptron = pipe_perceptron.predict(X)\n",
    "# y_pred_perceptron = pipe_perceptron.predict(merged_test)"
   ]
  },
  {
   "cell_type": "code",
   "execution_count": 74,
   "id": "e006fdd8",
   "metadata": {
    "execution": {
     "iopub.execute_input": "2023-08-11T18:29:16.524128Z",
     "iopub.status.busy": "2023-08-11T18:29:16.523387Z",
     "iopub.status.idle": "2023-08-11T18:29:16.528028Z",
     "shell.execute_reply": "2023-08-11T18:29:16.527187Z"
    },
    "papermill": {
     "duration": 0.058875,
     "end_time": "2023-08-11T18:29:16.530341",
     "exception": false,
     "start_time": "2023-08-11T18:29:16.471466",
     "status": "completed"
    },
    "tags": []
   },
   "outputs": [],
   "source": [
    "# pipe_perceptron.score(X,y)"
   ]
  },
  {
   "cell_type": "markdown",
   "id": "51d83e36",
   "metadata": {
    "papermill": {
     "duration": 0.050221,
     "end_time": "2023-08-11T18:29:16.631324",
     "exception": false,
     "start_time": "2023-08-11T18:29:16.581103",
     "status": "completed"
    },
    "tags": []
   },
   "source": [
    "# Creating Submission file"
   ]
  },
  {
   "cell_type": "code",
   "execution_count": 75,
   "id": "6e83cf04",
   "metadata": {
    "execution": {
     "iopub.execute_input": "2023-08-11T18:29:16.734794Z",
     "iopub.status.busy": "2023-08-11T18:29:16.734087Z",
     "iopub.status.idle": "2023-08-11T18:29:16.917011Z",
     "shell.execute_reply": "2023-08-11T18:29:16.915536Z"
    },
    "papermill": {
     "duration": 0.237884,
     "end_time": "2023-08-11T18:29:16.920109",
     "exception": false,
     "start_time": "2023-08-11T18:29:16.682225",
     "status": "completed"
    },
    "tags": []
   },
   "outputs": [],
   "source": [
    "submission_df = pd.DataFrame({'sentiment': y_pred_logistic})\n",
    "submission_df.index.names = ['id']\n",
    "submission_df.to_csv('submission.csv')"
   ]
  },
  {
   "cell_type": "code",
   "execution_count": 76,
   "id": "5406a3d3",
   "metadata": {
    "execution": {
     "iopub.execute_input": "2023-08-11T18:29:17.028245Z",
     "iopub.status.busy": "2023-08-11T18:29:17.027496Z",
     "iopub.status.idle": "2023-08-11T18:29:17.033456Z",
     "shell.execute_reply": "2023-08-11T18:29:17.032648Z"
    },
    "papermill": {
     "duration": 0.063677,
     "end_time": "2023-08-11T18:29:17.035694",
     "exception": false,
     "start_time": "2023-08-11T18:29:16.972017",
     "status": "completed"
    },
    "tags": []
   },
   "outputs": [
    {
     "data": {
      "text/plain": [
       "(55315, 1)"
      ]
     },
     "execution_count": 76,
     "metadata": {},
     "output_type": "execute_result"
    }
   ],
   "source": [
    "submission_df.shape"
   ]
  },
  {
   "cell_type": "code",
   "execution_count": 77,
   "id": "7b86f759",
   "metadata": {
    "execution": {
     "iopub.execute_input": "2023-08-11T18:29:17.149033Z",
     "iopub.status.busy": "2023-08-11T18:29:17.148315Z",
     "iopub.status.idle": "2023-08-11T18:29:17.158714Z",
     "shell.execute_reply": "2023-08-11T18:29:17.157503Z"
    },
    "papermill": {
     "duration": 0.07046,
     "end_time": "2023-08-11T18:29:17.161516",
     "exception": false,
     "start_time": "2023-08-11T18:29:17.091056",
     "status": "completed"
    },
    "tags": []
   },
   "outputs": [
    {
     "data": {
      "text/html": [
       "<div>\n",
       "<style scoped>\n",
       "    .dataframe tbody tr th:only-of-type {\n",
       "        vertical-align: middle;\n",
       "    }\n",
       "\n",
       "    .dataframe tbody tr th {\n",
       "        vertical-align: top;\n",
       "    }\n",
       "\n",
       "    .dataframe thead th {\n",
       "        text-align: right;\n",
       "    }\n",
       "</style>\n",
       "<table border=\"1\" class=\"dataframe\">\n",
       "  <thead>\n",
       "    <tr style=\"text-align: right;\">\n",
       "      <th></th>\n",
       "      <th>sentiment</th>\n",
       "    </tr>\n",
       "    <tr>\n",
       "      <th>id</th>\n",
       "      <th></th>\n",
       "    </tr>\n",
       "  </thead>\n",
       "  <tbody>\n",
       "    <tr>\n",
       "      <th>0</th>\n",
       "      <td>POSITIVE</td>\n",
       "    </tr>\n",
       "    <tr>\n",
       "      <th>1</th>\n",
       "      <td>POSITIVE</td>\n",
       "    </tr>\n",
       "    <tr>\n",
       "      <th>2</th>\n",
       "      <td>POSITIVE</td>\n",
       "    </tr>\n",
       "    <tr>\n",
       "      <th>3</th>\n",
       "      <td>POSITIVE</td>\n",
       "    </tr>\n",
       "    <tr>\n",
       "      <th>4</th>\n",
       "      <td>POSITIVE</td>\n",
       "    </tr>\n",
       "  </tbody>\n",
       "</table>\n",
       "</div>"
      ],
      "text/plain": [
       "   sentiment\n",
       "id          \n",
       "0   POSITIVE\n",
       "1   POSITIVE\n",
       "2   POSITIVE\n",
       "3   POSITIVE\n",
       "4   POSITIVE"
      ]
     },
     "execution_count": 77,
     "metadata": {},
     "output_type": "execute_result"
    }
   ],
   "source": [
    "submission_df.head()"
   ]
  }
 ],
 "metadata": {
  "kernelspec": {
   "display_name": "Python 3",
   "language": "python",
   "name": "python3"
  },
  "language_info": {
   "codemirror_mode": {
    "name": "ipython",
    "version": 3
   },
   "file_extension": ".py",
   "mimetype": "text/x-python",
   "name": "python",
   "nbconvert_exporter": "python",
   "pygments_lexer": "ipython3",
   "version": "3.10.10"
  },
  "papermill": {
   "default_parameters": {},
   "duration": 2653.27785,
   "end_time": "2023-08-11T18:29:19.943148",
   "environment_variables": {},
   "exception": null,
   "input_path": "__notebook__.ipynb",
   "output_path": "__notebook__.ipynb",
   "parameters": {},
   "start_time": "2023-08-11T17:45:06.665298",
   "version": "2.4.0"
  }
 },
 "nbformat": 4,
 "nbformat_minor": 5
}
